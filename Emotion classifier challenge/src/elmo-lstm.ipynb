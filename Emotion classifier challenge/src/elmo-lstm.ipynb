{
 "cells": [
  {
   "cell_type": "code",
   "execution_count": 1,
   "metadata": {},
   "outputs": [
    {
     "name": "stderr",
     "output_type": "stream",
     "text": [
      "C:\\Users\\Aman Deep Singh\\Anaconda3\\envs\\tf-gpu\\lib\\site-packages\\gensim\\utils.py:1212: UserWarning: detected Windows; aliasing chunkize to chunkize_serial\n",
      "  warnings.warn(\"detected Windows; aliasing chunkize to chunkize_serial\")\n",
      "Using TensorFlow backend.\n"
     ]
    }
   ],
   "source": [
    "import tensorflow as tf\n",
    "import tensorflow_hub as hub\n",
    "\n",
    "import pandas as pd\n",
    "import numpy as np\n",
    "\n",
    "import os\n",
    "import re\n",
    "import nltk\n",
    "import gensim\n",
    "\n",
    "from random import shuffle\n",
    "from nltk.corpus import stopwords\n",
    "from gensim.models.word2vec import Word2Vec\n",
    "from sklearn.model_selection import train_test_split\n",
    "\n",
    "from keras import backend as K\n",
    "from keras.models import Sequential, Model, load_model\n",
    "from keras.engine import Layer\n",
    "from keras.layers import Input, Dense, Flatten, Dropout, Embedding, CuDNNLSTM, Bidirectional, concatenate\n",
    "from keras.optimizers import Adam, Adagrad\n",
    "from keras.preprocessing.text import Tokenizer\n",
    "from keras.preprocessing.sequence import pad_sequences"
   ]
  },
  {
   "cell_type": "code",
   "execution_count": 2,
   "metadata": {},
   "outputs": [],
   "source": [
    "def f1(y_true, y_pred):\n",
    "    '''returns the f1 score given targets and predictions'''\n",
    "    \n",
    "    def recall(y_true, y_pred):\n",
    "        true_pos = K.sum(K.round(K.clip(y_true * y_pred, 0, 1)))\n",
    "        possible_pos = K.sum(K.round(K.clip(y_true, 0, 1)))\n",
    "        rec = true_pos / (possible_pos + K.epsilon())\n",
    "        return rec\n",
    "    \n",
    "    def precision(y_true, y_pred):\n",
    "        true_pos = K.sum(K.round(K.clip(y_true * y_pred, 0, 1)))\n",
    "        predicted_pos = K.sum(K.round(K.clip(y_pred, 0, 1)))\n",
    "        prec = true_pos / (predicted_pos + K.epsilon())\n",
    "        return prec\n",
    "    \n",
    "    _precision = precision(y_true, y_pred)\n",
    "    _recall = recall(y_true, y_pred)\n",
    "    return 2 * ((_precision * _recall) / (_precision + _recall + K.epsilon()))"
   ]
  },
  {
   "cell_type": "code",
   "execution_count": 3,
   "metadata": {},
   "outputs": [],
   "source": [
    "class ElmoEmbeddingLayer(Layer):\n",
    "    def __init__(self, **kwargs):\n",
    "        self.dimensions = 1024\n",
    "        self.trainable = True\n",
    "        super(ElmoEmbeddingLayer, self).__init__(**kwargs)\n",
    "        \n",
    "    def build(self, input_shape):\n",
    "        self.elmo = hub.Module('https://tfhub.dev/google/elmo/2', trainable=self.trainable, name='{}_module'.format(self.name))\n",
    "        self.trainable_weights += K.tf.trainable_variables(scope=\"^{}_module/.*\".format(self.name))\n",
    "        super(ElmoEmbeddingLayer, self).build(input_shape)\n",
    "        \n",
    "    def call(self, x, mask=None):\n",
    "        result = self.elmo(K.squeeze(K.cast(x, tf.string), axis=1), as_dict=True, signature='default',)['default']\n",
    "        return result\n",
    "    \n",
    "    def compute_mask(self, inputs, mask=None):\n",
    "        return K.not_equal(inputs, '--PAD--')\n",
    "    \n",
    "    def compute_output_shape(self, input_shape):\n",
    "        return (input_shape[0], self.dimensions)"
   ]
  },
  {
   "cell_type": "code",
   "execution_count": 4,
   "metadata": {},
   "outputs": [
    {
     "name": "stdout",
     "output_type": "stream",
     "text": [
      "(60321, 3) 60321\n"
     ]
    }
   ],
   "source": [
    "df = pd.read_csv('D:/Datasets/hackerearth/hm_train.csv')\n",
    "df.drop(['num_sentence'], axis=1, inplace=True)\n",
    "labels = df.predicted_category\n",
    "df.drop(['predicted_category'], axis=1, inplace=True)\n",
    "print(df.shape, len(labels))"
   ]
  },
  {
   "cell_type": "code",
   "execution_count": 5,
   "metadata": {},
   "outputs": [
    {
     "data": {
      "text/html": [
       "<div>\n",
       "<style scoped>\n",
       "    .dataframe tbody tr th:only-of-type {\n",
       "        vertical-align: middle;\n",
       "    }\n",
       "\n",
       "    .dataframe tbody tr th {\n",
       "        vertical-align: top;\n",
       "    }\n",
       "\n",
       "    .dataframe thead th {\n",
       "        text-align: right;\n",
       "    }\n",
       "</style>\n",
       "<table border=\"1\" class=\"dataframe\">\n",
       "  <thead>\n",
       "    <tr style=\"text-align: right;\">\n",
       "      <th></th>\n",
       "      <th>hmid</th>\n",
       "      <th>reflection_period</th>\n",
       "      <th>cleaned_hm</th>\n",
       "    </tr>\n",
       "  </thead>\n",
       "  <tbody>\n",
       "    <tr>\n",
       "      <th>0</th>\n",
       "      <td>27673</td>\n",
       "      <td>24h</td>\n",
       "      <td>I went on a successful date with someone I fel...</td>\n",
       "    </tr>\n",
       "    <tr>\n",
       "      <th>1</th>\n",
       "      <td>27674</td>\n",
       "      <td>24h</td>\n",
       "      <td>I was happy when my son got 90% marks in his e...</td>\n",
       "    </tr>\n",
       "    <tr>\n",
       "      <th>2</th>\n",
       "      <td>27675</td>\n",
       "      <td>24h</td>\n",
       "      <td>I went to the gym this morning and did yoga.</td>\n",
       "    </tr>\n",
       "    <tr>\n",
       "      <th>3</th>\n",
       "      <td>27676</td>\n",
       "      <td>24h</td>\n",
       "      <td>We had a serious talk with some friends of our...</td>\n",
       "    </tr>\n",
       "    <tr>\n",
       "      <th>4</th>\n",
       "      <td>27677</td>\n",
       "      <td>24h</td>\n",
       "      <td>I went with grandchildren to butterfly display...</td>\n",
       "    </tr>\n",
       "  </tbody>\n",
       "</table>\n",
       "</div>"
      ],
      "text/plain": [
       "    hmid reflection_period                                         cleaned_hm\n",
       "0  27673               24h  I went on a successful date with someone I fel...\n",
       "1  27674               24h  I was happy when my son got 90% marks in his e...\n",
       "2  27675               24h       I went to the gym this morning and did yoga.\n",
       "3  27676               24h  We had a serious talk with some friends of our...\n",
       "4  27677               24h  I went with grandchildren to butterfly display..."
      ]
     },
     "execution_count": 5,
     "metadata": {},
     "output_type": "execute_result"
    }
   ],
   "source": [
    "df.head()"
   ]
  },
  {
   "cell_type": "code",
   "execution_count": 6,
   "metadata": {},
   "outputs": [],
   "source": [
    "SEQ_LEN = 60"
   ]
  },
  {
   "cell_type": "code",
   "execution_count": 7,
   "metadata": {},
   "outputs": [],
   "source": [
    "def remove_stopwords(sentence):\n",
    "    # removing some known errors and differences between american and british english\n",
    "    sentence = sentence.replace(\"\\n\", \" \").replace(\";\", \" ; \").replace(\":\", \" : \").replace(\",\", \" , \").replace(\".\", \" . \").replace(\"?\", \" ? \").replace(\"/\", \" / \").replace(\"\\\\\", \" \\ \").replace(\"'s\", \"\").replace(\"n't\", \" not\").replace(\"travelled\", \"traveled\").replace(\"traveller\", \"traveler\").replace(\"cancelled\", \"canceled\").replace(\"favourite\", \"favorite\").replace(\"i'm\", \"i am\").replace(\"i've\", \"i have\").replace(\"colour\", \"color\").replace(\"neighbour\", \"neighbor\").replace(\"jewellery\", \"jewelry\").replace(\"theatre\", \"theater\").replace(\"i'd\", \"i would\").replace(\"didnt\", \"did not\").replace(\"doesnt\", \"does not\").replace(\"wasnt\", \"was not\").replace(\"programme\", \"program\").replace(\"organise\", \"organize\")\n",
    "    \n",
    "    split = sentence.split()\n",
    "    if len(split) > SEQ_LEN:\n",
    "        return ' '.join([w for w in sentence.split() if w not in stopwords.words('english')])\n",
    "    else:\n",
    "        return sentence"
   ]
  },
  {
   "cell_type": "code",
   "execution_count": 8,
   "metadata": {},
   "outputs": [],
   "source": [
    "df['cleaned_hm2'] = df.cleaned_hm.apply(remove_stopwords)"
   ]
  },
  {
   "cell_type": "code",
   "execution_count": 9,
   "metadata": {},
   "outputs": [
    {
     "data": {
      "text/html": [
       "<div>\n",
       "<style scoped>\n",
       "    .dataframe tbody tr th:only-of-type {\n",
       "        vertical-align: middle;\n",
       "    }\n",
       "\n",
       "    .dataframe tbody tr th {\n",
       "        vertical-align: top;\n",
       "    }\n",
       "\n",
       "    .dataframe thead th {\n",
       "        text-align: right;\n",
       "    }\n",
       "</style>\n",
       "<table border=\"1\" class=\"dataframe\">\n",
       "  <thead>\n",
       "    <tr style=\"text-align: right;\">\n",
       "      <th></th>\n",
       "      <th>hmid</th>\n",
       "      <th>reflection_period</th>\n",
       "      <th>cleaned_hm2</th>\n",
       "    </tr>\n",
       "  </thead>\n",
       "  <tbody>\n",
       "    <tr>\n",
       "      <th>0</th>\n",
       "      <td>27673</td>\n",
       "      <td>24h</td>\n",
       "      <td>I went on a successful date with someone I fel...</td>\n",
       "    </tr>\n",
       "    <tr>\n",
       "      <th>1</th>\n",
       "      <td>27674</td>\n",
       "      <td>24h</td>\n",
       "      <td>I was happy when my son got 90% marks in his e...</td>\n",
       "    </tr>\n",
       "    <tr>\n",
       "      <th>2</th>\n",
       "      <td>27675</td>\n",
       "      <td>24h</td>\n",
       "      <td>I went to the gym this morning and did yoga .</td>\n",
       "    </tr>\n",
       "    <tr>\n",
       "      <th>3</th>\n",
       "      <td>27676</td>\n",
       "      <td>24h</td>\n",
       "      <td>We had a serious talk with some friends of our...</td>\n",
       "    </tr>\n",
       "    <tr>\n",
       "      <th>4</th>\n",
       "      <td>27677</td>\n",
       "      <td>24h</td>\n",
       "      <td>I went with grandchildren to butterfly display...</td>\n",
       "    </tr>\n",
       "  </tbody>\n",
       "</table>\n",
       "</div>"
      ],
      "text/plain": [
       "    hmid reflection_period                                        cleaned_hm2\n",
       "0  27673               24h  I went on a successful date with someone I fel...\n",
       "1  27674               24h  I was happy when my son got 90% marks in his e...\n",
       "2  27675               24h     I went to the gym this morning and did yoga . \n",
       "3  27676               24h  We had a serious talk with some friends of our...\n",
       "4  27677               24h  I went with grandchildren to butterfly display..."
      ]
     },
     "execution_count": 9,
     "metadata": {},
     "output_type": "execute_result"
    }
   ],
   "source": [
    "df.drop(['cleaned_hm'], axis=1, inplace=True)\n",
    "df.head()"
   ]
  },
  {
   "cell_type": "code",
   "execution_count": 10,
   "metadata": {},
   "outputs": [],
   "source": [
    "labels_to_cats = {'achievement':      (1, 0, 0, 0, 0, 0, 0),\n",
    "                  'affection':        (0, 1, 0, 0, 0, 0, 0),\n",
    "                  'enjoy_the_moment': (0, 0, 1, 0, 0, 0, 0),\n",
    "                  'nature':           (0, 0, 0, 1, 0, 0, 0),\n",
    "                  'exercise':         (0, 0, 0, 0, 1, 0, 0),\n",
    "                  'bonding':          (0, 0, 0, 0, 0, 1, 0),\n",
    "                  'leisure':          (0, 0, 0, 0, 0, 0, 1)}"
   ]
  },
  {
   "cell_type": "code",
   "execution_count": 11,
   "metadata": {},
   "outputs": [
    {
     "data": {
      "text/plain": [
       "60321"
      ]
     },
     "execution_count": 11,
     "metadata": {},
     "output_type": "execute_result"
    }
   ],
   "source": [
    "cats_to_labels = dict()\n",
    "for k, v in labels_to_cats.items():\n",
    "    cats_to_labels[v] = k\n",
    "\n",
    "y = []\n",
    "for label in labels:\n",
    "    y.append(labels_to_cats[label])\n",
    "\n",
    "y = np.array(y)\n",
    "len(y)"
   ]
  },
  {
   "cell_type": "code",
   "execution_count": 12,
   "metadata": {},
   "outputs": [
    {
     "name": "stdout",
     "output_type": "stream",
     "text": [
      "(48256, 3) (12065, 3)\n",
      "(48256, 7) (12065, 7)\n"
     ]
    }
   ],
   "source": [
    "x_train, x_val, y_train, y_val = train_test_split(df, y, test_size=0.2)\n",
    "print(x_train.shape, x_val.shape)\n",
    "print(y_train.shape, y_val.shape)"
   ]
  },
  {
   "cell_type": "code",
   "execution_count": 13,
   "metadata": {},
   "outputs": [
    {
     "name": "stdout",
     "output_type": "stream",
     "text": [
      "(12065,) (48256,)\n"
     ]
    }
   ],
   "source": [
    "x_train_new = []\n",
    "for element in x_train.cleaned_hm2:\n",
    "    x_train_new.append(np.array(element))\n",
    "x_train_new = np.array(x_train_new)\n",
    "\n",
    "x_val_new = []\n",
    "for element in x_val.cleaned_hm2:\n",
    "    x_val_new.append(np.array(element))\n",
    "x_val_new = np.array(x_val_new)\n",
    "\n",
    "print(x_val_new.shape, x_train_new.shape)"
   ]
  },
  {
   "cell_type": "code",
   "execution_count": 14,
   "metadata": {},
   "outputs": [
    {
     "data": {
      "text/plain": [
       "array(['meatball sandwich for dinner',\n",
       "       'I took a walk down my favorite trail on a beautiful sunny day and took photos of the scenery . ',\n",
       "       'My fiance finding a new job and it pays way more than his present one . ',\n",
       "       '3 months ago I got a promotion at my job and it made me so happy because all my hard work had been accounted for .  ',\n",
       "       \"I have a daughter .  She is my life ,  I'm very happy for my daughter ,  her name is BIHU  ,  she is very beautiful and sweet ,  I'm very happy for this .  \"],\n",
       "      dtype='<U4906')"
      ]
     },
     "execution_count": 14,
     "metadata": {},
     "output_type": "execute_result"
    }
   ],
   "source": [
    "x_train_new[:5]"
   ]
  },
  {
   "cell_type": "code",
   "execution_count": 15,
   "metadata": {},
   "outputs": [
    {
     "data": {
      "text/plain": [
       "array([[0, 0, 1, 0, 0, 0, 0],\n",
       "       [0, 0, 0, 0, 0, 0, 1],\n",
       "       [1, 0, 0, 0, 0, 0, 0],\n",
       "       [1, 0, 0, 0, 0, 0, 0],\n",
       "       [0, 1, 0, 0, 0, 0, 0]])"
      ]
     },
     "execution_count": 15,
     "metadata": {},
     "output_type": "execute_result"
    }
   ],
   "source": [
    "y_train[:5]"
   ]
  },
  {
   "cell_type": "code",
   "execution_count": 16,
   "metadata": {},
   "outputs": [
    {
     "name": "stdout",
     "output_type": "stream",
     "text": [
      "INFO:tensorflow:Using C:\\Users\\AMANDE~1\\AppData\\Local\\Temp\\tfhub_modules to cache modules.\n",
      "INFO:tensorflow:Saver not created because there are no variables in the graph to restore\n"
     ]
    }
   ],
   "source": [
    "input_tensor = Input(shape=(1,), dtype='string')\n",
    "embedding = ElmoEmbeddingLayer()(input_tensor)\n",
    "dense = Dense(128, activation='relu')(embedding)\n",
    "pred = Dense(7, activation='softmax')(dense)\n",
    "model = Model(inputs=[input_tensor], outputs=pred)"
   ]
  },
  {
   "cell_type": "code",
   "execution_count": 17,
   "metadata": {},
   "outputs": [],
   "source": [
    "model.compile(optimizer=Adam(lr=1e-3, decay=1e-6), loss='categorical_crossentropy', metrics=['accuracy', f1])"
   ]
  },
  {
   "cell_type": "code",
   "execution_count": 18,
   "metadata": {},
   "outputs": [
    {
     "name": "stdout",
     "output_type": "stream",
     "text": [
      "_________________________________________________________________\n",
      "Layer (type)                 Output Shape              Param #   \n",
      "=================================================================\n",
      "input_1 (InputLayer)         (None, 1)                 0         \n",
      "_________________________________________________________________\n",
      "elmo_embedding_layer_1 (Elmo (None, 1024)              4         \n",
      "_________________________________________________________________\n",
      "dense_1 (Dense)              (None, 128)               131200    \n",
      "_________________________________________________________________\n",
      "dense_2 (Dense)              (None, 7)                 903       \n",
      "=================================================================\n",
      "Total params: 132,107\n",
      "Trainable params: 132,107\n",
      "Non-trainable params: 0\n",
      "_________________________________________________________________\n"
     ]
    }
   ],
   "source": [
    "model.summary()"
   ]
  },
  {
   "cell_type": "code",
   "execution_count": null,
   "metadata": {},
   "outputs": [
    {
     "name": "stdout",
     "output_type": "stream",
     "text": [
      "Epoch 1/5\n",
      "48256/48256 [==============================] - 1250s 26ms/step - loss: 0.5172 - acc: 0.8153 - f1: 0.8092\n",
      "Epoch 2/5\n",
      "48256/48256 [==============================] - 1233s 26ms/step - loss: 0.4030 - acc: 0.8498 - f1: 0.8479\n",
      "Epoch 3/5\n",
      "48256/48256 [==============================] - 1231s 26ms/step - loss: 0.3585 - acc: 0.8625 - f1: 0.8621\n",
      "Epoch 4/5\n",
      "36944/48256 [=====================>........] - ETA: 4:53 - loss: 0.3221 - acc: 0.8779 - f1: 0.8779"
     ]
    }
   ],
   "source": [
    "model.fit(x_train_new, y_train, batch_size=8, epochs=5, verbose=1)"
   ]
  },
  {
   "cell_type": "code",
   "execution_count": null,
   "metadata": {},
   "outputs": [],
   "source": [
    "model.save('D:/Datasets/hackerearth/models/ELMo-d128-e5.h5')"
   ]
  },
  {
   "cell_type": "code",
   "execution_count": null,
   "metadata": {},
   "outputs": [],
   "source": [
    "score = model.evaluate(x_val_new, y_val, batch_size=16, verbose=1)"
   ]
  },
  {
   "cell_type": "code",
   "execution_count": null,
   "metadata": {},
   "outputs": [],
   "source": [
    "score"
   ]
  },
  {
   "cell_type": "markdown",
   "metadata": {},
   "source": [
    "use a new score variable, we want to be able to compare\n",
    "<br>\n",
    "[0.3796765271084861, 0.8582677165354331, 0.8589423810798401]\n",
    "<br>\n",
    "[0.362189538052504, 0.8653957728968089, 0.8657008712142521]"
   ]
  },
  {
   "cell_type": "code",
   "execution_count": null,
   "metadata": {},
   "outputs": [],
   "source": [
    "model.fit(x_train_new, y_train, batch_size=8, epochs=5, verbose=1)"
   ]
  },
  {
   "cell_type": "code",
   "execution_count": null,
   "metadata": {},
   "outputs": [],
   "source": [
    "model.save('D:/Datasets/hackerearth/models/ELMo-d128-e10.h5')"
   ]
  },
  {
   "cell_type": "code",
   "execution_count": null,
   "metadata": {},
   "outputs": [],
   "source": [
    "score = model.evaluate(x_val_new, y_val, batch_size=16, verbose=1)"
   ]
  },
  {
   "cell_type": "code",
   "execution_count": null,
   "metadata": {},
   "outputs": [],
   "source": [
    "score"
   ]
  },
  {
   "cell_type": "code",
   "execution_count": 31,
   "metadata": {},
   "outputs": [
    {
     "name": "stdout",
     "output_type": "stream",
     "text": [
      "INFO:tensorflow:Saver not created because there are no variables in the graph to restore\n"
     ]
    }
   ],
   "source": [
    "input_tensor = Input(shape=(1,), dtype='string')\n",
    "embedding = ElmoEmbeddingLayer()(input_tensor)"
   ]
  },
  {
   "cell_type": "code",
   "execution_count": 33,
   "metadata": {},
   "outputs": [
    {
     "data": {
      "text/plain": [
       "TensorShape([Dimension(None), Dimension(1024)])"
      ]
     },
     "execution_count": 33,
     "metadata": {},
     "output_type": "execute_result"
    }
   ],
   "source": [
    "embedding.shape"
   ]
  },
  {
   "cell_type": "code",
   "execution_count": null,
   "metadata": {},
   "outputs": [],
   "source": [
    "lstm = Bidirectional(CuDNNLSTM(128, return_sequences=False))(embedding)\n",
    "dense = Dense(128, activation='relu')(lstm)\n",
    "pred = Dense(7, activation='softmax')(dense)\n",
    "model2 = Model(inputs=[input_tensor], outputs=pred)"
   ]
  }
 ],
 "metadata": {
  "kernelspec": {
   "display_name": "TensorFlow-GPU",
   "language": "python",
   "name": "tf-gpu"
  },
  "language_info": {
   "codemirror_mode": {
    "name": "ipython",
    "version": 3
   },
   "file_extension": ".py",
   "mimetype": "text/x-python",
   "name": "python",
   "nbconvert_exporter": "python",
   "pygments_lexer": "ipython3",
   "version": "3.6.7"
  }
 },
 "nbformat": 4,
 "nbformat_minor": 2
}
