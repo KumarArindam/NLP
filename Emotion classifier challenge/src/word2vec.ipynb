{
 "cells": [
  {
   "cell_type": "code",
   "execution_count": 1,
   "metadata": {},
   "outputs": [
    {
     "name": "stderr",
     "output_type": "stream",
     "text": [
      "C:\\Users\\Aman Deep Singh\\Anaconda3\\envs\\tf-gpu\\lib\\site-packages\\gensim\\utils.py:1212: UserWarning: detected Windows; aliasing chunkize to chunkize_serial\n",
      "  warnings.warn(\"detected Windows; aliasing chunkize to chunkize_serial\")\n"
     ]
    }
   ],
   "source": [
    "import pandas as pd\n",
    "import numpy as np\n",
    "from random import shuffle\n",
    "\n",
    "import gensim\n",
    "from gensim.models.word2vec import Word2Vec\n",
    "from tqdm import tqdm\n",
    "tqdm.pandas(desc='progress-bar')\n",
    "\n",
    "import nltk\n",
    "from nltk.corpus import stopwords\n",
    "\n",
    "from sklearn.model_selection import train_test_split\n",
    "from sklearn.feature_extraction.text import TfidfVectorizer"
   ]
  },
  {
   "cell_type": "code",
   "execution_count": 2,
   "metadata": {},
   "outputs": [],
   "source": [
    "def read():\n",
    "    df = pd.read_csv('D:/Datasets/hackerearth/hm_train.csv')\n",
    "    df.drop(['num_sentence'], axis=1, inplace=True)\n",
    "    labels = df.predicted_category\n",
    "    df.drop(['predicted_category'], axis=1, inplace=True)\n",
    "    return df, labels"
   ]
  },
  {
   "cell_type": "code",
   "execution_count": 3,
   "metadata": {},
   "outputs": [
    {
     "data": {
      "text/html": [
       "<div>\n",
       "<style scoped>\n",
       "    .dataframe tbody tr th:only-of-type {\n",
       "        vertical-align: middle;\n",
       "    }\n",
       "\n",
       "    .dataframe tbody tr th {\n",
       "        vertical-align: top;\n",
       "    }\n",
       "\n",
       "    .dataframe thead th {\n",
       "        text-align: right;\n",
       "    }\n",
       "</style>\n",
       "<table border=\"1\" class=\"dataframe\">\n",
       "  <thead>\n",
       "    <tr style=\"text-align: right;\">\n",
       "      <th></th>\n",
       "      <th>hmid</th>\n",
       "      <th>reflection_period</th>\n",
       "      <th>cleaned_hm</th>\n",
       "    </tr>\n",
       "  </thead>\n",
       "  <tbody>\n",
       "    <tr>\n",
       "      <th>0</th>\n",
       "      <td>27673</td>\n",
       "      <td>24h</td>\n",
       "      <td>I went on a successful date with someone I fel...</td>\n",
       "    </tr>\n",
       "    <tr>\n",
       "      <th>1</th>\n",
       "      <td>27674</td>\n",
       "      <td>24h</td>\n",
       "      <td>I was happy when my son got 90% marks in his e...</td>\n",
       "    </tr>\n",
       "    <tr>\n",
       "      <th>2</th>\n",
       "      <td>27675</td>\n",
       "      <td>24h</td>\n",
       "      <td>I went to the gym this morning and did yoga.</td>\n",
       "    </tr>\n",
       "    <tr>\n",
       "      <th>3</th>\n",
       "      <td>27676</td>\n",
       "      <td>24h</td>\n",
       "      <td>We had a serious talk with some friends of our...</td>\n",
       "    </tr>\n",
       "    <tr>\n",
       "      <th>4</th>\n",
       "      <td>27677</td>\n",
       "      <td>24h</td>\n",
       "      <td>I went with grandchildren to butterfly display...</td>\n",
       "    </tr>\n",
       "  </tbody>\n",
       "</table>\n",
       "</div>"
      ],
      "text/plain": [
       "    hmid reflection_period                                         cleaned_hm\n",
       "0  27673               24h  I went on a successful date with someone I fel...\n",
       "1  27674               24h  I was happy when my son got 90% marks in his e...\n",
       "2  27675               24h       I went to the gym this morning and did yoga.\n",
       "3  27676               24h  We had a serious talk with some friends of our...\n",
       "4  27677               24h  I went with grandchildren to butterfly display..."
      ]
     },
     "execution_count": 3,
     "metadata": {},
     "output_type": "execute_result"
    }
   ],
   "source": [
    "df, labels = read()\n",
    "df.head()"
   ]
  },
  {
   "cell_type": "code",
   "execution_count": 4,
   "metadata": {
    "scrolled": true
   },
   "outputs": [
    {
     "name": "stdout",
     "output_type": "stream",
     "text": [
      "60321 60321\n"
     ]
    }
   ],
   "source": [
    "print(len(df), len(labels))"
   ]
  },
  {
   "cell_type": "code",
   "execution_count": 5,
   "metadata": {},
   "outputs": [],
   "source": [
    "def tokenize(sentence):\n",
    "    tok = nltk.word_tokenize(sentence.lower())\n",
    "    tokens = [w for w in tok if w not in stopwords.words('english')]\n",
    "#     for w in tok:\n",
    "#         if w not in stopwords.words('english'):\n",
    "#             tokens.append(w)\n",
    "    return tokens"
   ]
  },
  {
   "cell_type": "code",
   "execution_count": 6,
   "metadata": {},
   "outputs": [],
   "source": [
    "def postprocess(data):\n",
    "    data['tokens'] = data['cleaned_hm'].progress_map(tokenize)\n",
    "    data.reset_index(inplace=True)\n",
    "    return data"
   ]
  },
  {
   "cell_type": "code",
   "execution_count": 7,
   "metadata": {},
   "outputs": [
    {
     "data": {
      "text/html": [
       "<div>\n",
       "<style scoped>\n",
       "    .dataframe tbody tr th:only-of-type {\n",
       "        vertical-align: middle;\n",
       "    }\n",
       "\n",
       "    .dataframe tbody tr th {\n",
       "        vertical-align: top;\n",
       "    }\n",
       "\n",
       "    .dataframe thead th {\n",
       "        text-align: right;\n",
       "    }\n",
       "</style>\n",
       "<table border=\"1\" class=\"dataframe\">\n",
       "  <thead>\n",
       "    <tr style=\"text-align: right;\">\n",
       "      <th></th>\n",
       "      <th>hmid</th>\n",
       "      <th>reflection_period</th>\n",
       "      <th>cleaned_hm</th>\n",
       "    </tr>\n",
       "  </thead>\n",
       "  <tbody>\n",
       "    <tr>\n",
       "      <th>0</th>\n",
       "      <td>27673</td>\n",
       "      <td>24h</td>\n",
       "      <td>I went on a successful date with someone I fel...</td>\n",
       "    </tr>\n",
       "    <tr>\n",
       "      <th>1</th>\n",
       "      <td>27674</td>\n",
       "      <td>24h</td>\n",
       "      <td>I was happy when my son got 90% marks in his e...</td>\n",
       "    </tr>\n",
       "    <tr>\n",
       "      <th>2</th>\n",
       "      <td>27675</td>\n",
       "      <td>24h</td>\n",
       "      <td>I went to the gym this morning and did yoga.</td>\n",
       "    </tr>\n",
       "    <tr>\n",
       "      <th>3</th>\n",
       "      <td>27676</td>\n",
       "      <td>24h</td>\n",
       "      <td>We had a serious talk with some friends of our...</td>\n",
       "    </tr>\n",
       "    <tr>\n",
       "      <th>4</th>\n",
       "      <td>27677</td>\n",
       "      <td>24h</td>\n",
       "      <td>I went with grandchildren to butterfly display...</td>\n",
       "    </tr>\n",
       "  </tbody>\n",
       "</table>\n",
       "</div>"
      ],
      "text/plain": [
       "    hmid reflection_period                                         cleaned_hm\n",
       "0  27673               24h  I went on a successful date with someone I fel...\n",
       "1  27674               24h  I was happy when my son got 90% marks in his e...\n",
       "2  27675               24h       I went to the gym this morning and did yoga.\n",
       "3  27676               24h  We had a serious talk with some friends of our...\n",
       "4  27677               24h  I went with grandchildren to butterfly display..."
      ]
     },
     "execution_count": 7,
     "metadata": {},
     "output_type": "execute_result"
    }
   ],
   "source": [
    "df.head()"
   ]
  },
  {
   "cell_type": "code",
   "execution_count": 8,
   "metadata": {
    "scrolled": true
   },
   "outputs": [
    {
     "name": "stderr",
     "output_type": "stream",
     "text": [
      "progress-bar: 100%|█████████████████████████████████████████████████████████████| 60321/60321 [04:05<00:00, 245.77it/s]\n"
     ]
    }
   ],
   "source": [
    "df2 = postprocess(df)"
   ]
  },
  {
   "cell_type": "code",
   "execution_count": 9,
   "metadata": {},
   "outputs": [
    {
     "data": {
      "text/html": [
       "<div>\n",
       "<style scoped>\n",
       "    .dataframe tbody tr th:only-of-type {\n",
       "        vertical-align: middle;\n",
       "    }\n",
       "\n",
       "    .dataframe tbody tr th {\n",
       "        vertical-align: top;\n",
       "    }\n",
       "\n",
       "    .dataframe thead th {\n",
       "        text-align: right;\n",
       "    }\n",
       "</style>\n",
       "<table border=\"1\" class=\"dataframe\">\n",
       "  <thead>\n",
       "    <tr style=\"text-align: right;\">\n",
       "      <th></th>\n",
       "      <th>index</th>\n",
       "      <th>hmid</th>\n",
       "      <th>reflection_period</th>\n",
       "      <th>cleaned_hm</th>\n",
       "      <th>tokens</th>\n",
       "    </tr>\n",
       "  </thead>\n",
       "  <tbody>\n",
       "    <tr>\n",
       "      <th>60316</th>\n",
       "      <td>60316</td>\n",
       "      <td>88299</td>\n",
       "      <td>3m</td>\n",
       "      <td>I got together with my best friend and baked c...</td>\n",
       "      <td>[got, together, best, friend, baked, cupcakes,...</td>\n",
       "    </tr>\n",
       "    <tr>\n",
       "      <th>60317</th>\n",
       "      <td>60317</td>\n",
       "      <td>88300</td>\n",
       "      <td>3m</td>\n",
       "      <td>I went to a restaurant with friends</td>\n",
       "      <td>[went, restaurant, friends]</td>\n",
       "    </tr>\n",
       "    <tr>\n",
       "      <th>60318</th>\n",
       "      <td>60318</td>\n",
       "      <td>88301</td>\n",
       "      <td>3m</td>\n",
       "      <td>The other day on Mechanical Turk I made over f...</td>\n",
       "      <td>[day, mechanical, turk, made, fifty, dollars, .]</td>\n",
       "    </tr>\n",
       "    <tr>\n",
       "      <th>60319</th>\n",
       "      <td>60319</td>\n",
       "      <td>88302</td>\n",
       "      <td>3m</td>\n",
       "      <td>Finished the semester today and aced majority ...</td>\n",
       "      <td>[finished, semester, today, aced, majority, te...</td>\n",
       "    </tr>\n",
       "    <tr>\n",
       "      <th>60320</th>\n",
       "      <td>60320</td>\n",
       "      <td>88303</td>\n",
       "      <td>3m</td>\n",
       "      <td>An event that made me happy in the past 3 mont...</td>\n",
       "      <td>[event, made, happy, past, 3, months, went, me...</td>\n",
       "    </tr>\n",
       "  </tbody>\n",
       "</table>\n",
       "</div>"
      ],
      "text/plain": [
       "       index   hmid reflection_period  \\\n",
       "60316  60316  88299                3m   \n",
       "60317  60317  88300                3m   \n",
       "60318  60318  88301                3m   \n",
       "60319  60319  88302                3m   \n",
       "60320  60320  88303                3m   \n",
       "\n",
       "                                              cleaned_hm  \\\n",
       "60316  I got together with my best friend and baked c...   \n",
       "60317                I went to a restaurant with friends   \n",
       "60318  The other day on Mechanical Turk I made over f...   \n",
       "60319  Finished the semester today and aced majority ...   \n",
       "60320  An event that made me happy in the past 3 mont...   \n",
       "\n",
       "                                                  tokens  \n",
       "60316  [got, together, best, friend, baked, cupcakes,...  \n",
       "60317                        [went, restaurant, friends]  \n",
       "60318   [day, mechanical, turk, made, fifty, dollars, .]  \n",
       "60319  [finished, semester, today, aced, majority, te...  \n",
       "60320  [event, made, happy, past, 3, months, went, me...  "
      ]
     },
     "execution_count": 9,
     "metadata": {},
     "output_type": "execute_result"
    }
   ],
   "source": [
    "df2.tail()"
   ]
  },
  {
   "cell_type": "code",
   "execution_count": 10,
   "metadata": {},
   "outputs": [
    {
     "data": {
      "text/plain": [
       "60321"
      ]
     },
     "execution_count": 10,
     "metadata": {},
     "output_type": "execute_result"
    }
   ],
   "source": [
    "len(df2)"
   ]
  },
  {
   "cell_type": "code",
   "execution_count": 11,
   "metadata": {},
   "outputs": [],
   "source": [
    "df_to_train = df2.drop(['index', 'cleaned_hm'], axis=1)"
   ]
  },
  {
   "cell_type": "code",
   "execution_count": 12,
   "metadata": {},
   "outputs": [
    {
     "data": {
      "text/html": [
       "<div>\n",
       "<style scoped>\n",
       "    .dataframe tbody tr th:only-of-type {\n",
       "        vertical-align: middle;\n",
       "    }\n",
       "\n",
       "    .dataframe tbody tr th {\n",
       "        vertical-align: top;\n",
       "    }\n",
       "\n",
       "    .dataframe thead th {\n",
       "        text-align: right;\n",
       "    }\n",
       "</style>\n",
       "<table border=\"1\" class=\"dataframe\">\n",
       "  <thead>\n",
       "    <tr style=\"text-align: right;\">\n",
       "      <th></th>\n",
       "      <th>hmid</th>\n",
       "      <th>reflection_period</th>\n",
       "      <th>tokens</th>\n",
       "    </tr>\n",
       "  </thead>\n",
       "  <tbody>\n",
       "    <tr>\n",
       "      <th>0</th>\n",
       "      <td>27673</td>\n",
       "      <td>24h</td>\n",
       "      <td>[went, successful, date, someone, felt, sympat...</td>\n",
       "    </tr>\n",
       "    <tr>\n",
       "      <th>1</th>\n",
       "      <td>27674</td>\n",
       "      <td>24h</td>\n",
       "      <td>[happy, son, got, 90, %, marks, examination]</td>\n",
       "    </tr>\n",
       "    <tr>\n",
       "      <th>2</th>\n",
       "      <td>27675</td>\n",
       "      <td>24h</td>\n",
       "      <td>[went, gym, morning, yoga, .]</td>\n",
       "    </tr>\n",
       "    <tr>\n",
       "      <th>3</th>\n",
       "      <td>27676</td>\n",
       "      <td>24h</td>\n",
       "      <td>[serious, talk, friends, flaky, lately, ., und...</td>\n",
       "    </tr>\n",
       "    <tr>\n",
       "      <th>4</th>\n",
       "      <td>27677</td>\n",
       "      <td>24h</td>\n",
       "      <td>[went, grandchildren, butterfly, display, croh...</td>\n",
       "    </tr>\n",
       "  </tbody>\n",
       "</table>\n",
       "</div>"
      ],
      "text/plain": [
       "    hmid reflection_period                                             tokens\n",
       "0  27673               24h  [went, successful, date, someone, felt, sympat...\n",
       "1  27674               24h       [happy, son, got, 90, %, marks, examination]\n",
       "2  27675               24h                      [went, gym, morning, yoga, .]\n",
       "3  27676               24h  [serious, talk, friends, flaky, lately, ., und...\n",
       "4  27677               24h  [went, grandchildren, butterfly, display, croh..."
      ]
     },
     "execution_count": 12,
     "metadata": {},
     "output_type": "execute_result"
    }
   ],
   "source": [
    "df_to_train.head()"
   ]
  },
  {
   "cell_type": "code",
   "execution_count": 13,
   "metadata": {},
   "outputs": [],
   "source": [
    "df_to_train['24h'] = pd.to_numeric(df['reflection_period'] == '24h')\n",
    "df_to_train['3m'] = pd.to_numeric(df['reflection_period'] == '3m')"
   ]
  },
  {
   "cell_type": "code",
   "execution_count": 14,
   "metadata": {},
   "outputs": [
    {
     "data": {
      "text/html": [
       "<div>\n",
       "<style scoped>\n",
       "    .dataframe tbody tr th:only-of-type {\n",
       "        vertical-align: middle;\n",
       "    }\n",
       "\n",
       "    .dataframe tbody tr th {\n",
       "        vertical-align: top;\n",
       "    }\n",
       "\n",
       "    .dataframe thead th {\n",
       "        text-align: right;\n",
       "    }\n",
       "</style>\n",
       "<table border=\"1\" class=\"dataframe\">\n",
       "  <thead>\n",
       "    <tr style=\"text-align: right;\">\n",
       "      <th></th>\n",
       "      <th>hmid</th>\n",
       "      <th>reflection_period</th>\n",
       "      <th>tokens</th>\n",
       "      <th>24h</th>\n",
       "      <th>3m</th>\n",
       "    </tr>\n",
       "  </thead>\n",
       "  <tbody>\n",
       "    <tr>\n",
       "      <th>0</th>\n",
       "      <td>27673</td>\n",
       "      <td>24h</td>\n",
       "      <td>[went, successful, date, someone, felt, sympat...</td>\n",
       "      <td>True</td>\n",
       "      <td>False</td>\n",
       "    </tr>\n",
       "    <tr>\n",
       "      <th>1</th>\n",
       "      <td>27674</td>\n",
       "      <td>24h</td>\n",
       "      <td>[happy, son, got, 90, %, marks, examination]</td>\n",
       "      <td>True</td>\n",
       "      <td>False</td>\n",
       "    </tr>\n",
       "    <tr>\n",
       "      <th>2</th>\n",
       "      <td>27675</td>\n",
       "      <td>24h</td>\n",
       "      <td>[went, gym, morning, yoga, .]</td>\n",
       "      <td>True</td>\n",
       "      <td>False</td>\n",
       "    </tr>\n",
       "    <tr>\n",
       "      <th>3</th>\n",
       "      <td>27676</td>\n",
       "      <td>24h</td>\n",
       "      <td>[serious, talk, friends, flaky, lately, ., und...</td>\n",
       "      <td>True</td>\n",
       "      <td>False</td>\n",
       "    </tr>\n",
       "    <tr>\n",
       "      <th>4</th>\n",
       "      <td>27677</td>\n",
       "      <td>24h</td>\n",
       "      <td>[went, grandchildren, butterfly, display, croh...</td>\n",
       "      <td>True</td>\n",
       "      <td>False</td>\n",
       "    </tr>\n",
       "  </tbody>\n",
       "</table>\n",
       "</div>"
      ],
      "text/plain": [
       "    hmid reflection_period                                             tokens  \\\n",
       "0  27673               24h  [went, successful, date, someone, felt, sympat...   \n",
       "1  27674               24h       [happy, son, got, 90, %, marks, examination]   \n",
       "2  27675               24h                      [went, gym, morning, yoga, .]   \n",
       "3  27676               24h  [serious, talk, friends, flaky, lately, ., und...   \n",
       "4  27677               24h  [went, grandchildren, butterfly, display, croh...   \n",
       "\n",
       "    24h     3m  \n",
       "0  True  False  \n",
       "1  True  False  \n",
       "2  True  False  \n",
       "3  True  False  \n",
       "4  True  False  "
      ]
     },
     "execution_count": 14,
     "metadata": {},
     "output_type": "execute_result"
    }
   ],
   "source": [
    "df_to_train.head()"
   ]
  },
  {
   "cell_type": "code",
   "execution_count": 15,
   "metadata": {},
   "outputs": [],
   "source": [
    "df_to_train.drop(['reflection_period'], axis=1, inplace=True)"
   ]
  },
  {
   "cell_type": "code",
   "execution_count": 16,
   "metadata": {},
   "outputs": [
    {
     "data": {
      "text/html": [
       "<div>\n",
       "<style scoped>\n",
       "    .dataframe tbody tr th:only-of-type {\n",
       "        vertical-align: middle;\n",
       "    }\n",
       "\n",
       "    .dataframe tbody tr th {\n",
       "        vertical-align: top;\n",
       "    }\n",
       "\n",
       "    .dataframe thead th {\n",
       "        text-align: right;\n",
       "    }\n",
       "</style>\n",
       "<table border=\"1\" class=\"dataframe\">\n",
       "  <thead>\n",
       "    <tr style=\"text-align: right;\">\n",
       "      <th></th>\n",
       "      <th>hmid</th>\n",
       "      <th>tokens</th>\n",
       "      <th>24h</th>\n",
       "      <th>3m</th>\n",
       "    </tr>\n",
       "  </thead>\n",
       "  <tbody>\n",
       "    <tr>\n",
       "      <th>0</th>\n",
       "      <td>27673</td>\n",
       "      <td>[went, successful, date, someone, felt, sympat...</td>\n",
       "      <td>True</td>\n",
       "      <td>False</td>\n",
       "    </tr>\n",
       "    <tr>\n",
       "      <th>1</th>\n",
       "      <td>27674</td>\n",
       "      <td>[happy, son, got, 90, %, marks, examination]</td>\n",
       "      <td>True</td>\n",
       "      <td>False</td>\n",
       "    </tr>\n",
       "    <tr>\n",
       "      <th>2</th>\n",
       "      <td>27675</td>\n",
       "      <td>[went, gym, morning, yoga, .]</td>\n",
       "      <td>True</td>\n",
       "      <td>False</td>\n",
       "    </tr>\n",
       "    <tr>\n",
       "      <th>3</th>\n",
       "      <td>27676</td>\n",
       "      <td>[serious, talk, friends, flaky, lately, ., und...</td>\n",
       "      <td>True</td>\n",
       "      <td>False</td>\n",
       "    </tr>\n",
       "    <tr>\n",
       "      <th>4</th>\n",
       "      <td>27677</td>\n",
       "      <td>[went, grandchildren, butterfly, display, croh...</td>\n",
       "      <td>True</td>\n",
       "      <td>False</td>\n",
       "    </tr>\n",
       "  </tbody>\n",
       "</table>\n",
       "</div>"
      ],
      "text/plain": [
       "    hmid                                             tokens   24h     3m\n",
       "0  27673  [went, successful, date, someone, felt, sympat...  True  False\n",
       "1  27674       [happy, son, got, 90, %, marks, examination]  True  False\n",
       "2  27675                      [went, gym, morning, yoga, .]  True  False\n",
       "3  27676  [serious, talk, friends, flaky, lately, ., und...  True  False\n",
       "4  27677  [went, grandchildren, butterfly, display, croh...  True  False"
      ]
     },
     "execution_count": 16,
     "metadata": {},
     "output_type": "execute_result"
    }
   ],
   "source": [
    "df_to_train.head()"
   ]
  },
  {
   "cell_type": "code",
   "execution_count": 17,
   "metadata": {},
   "outputs": [
    {
     "data": {
      "text/html": [
       "<div>\n",
       "<style scoped>\n",
       "    .dataframe tbody tr th:only-of-type {\n",
       "        vertical-align: middle;\n",
       "    }\n",
       "\n",
       "    .dataframe tbody tr th {\n",
       "        vertical-align: top;\n",
       "    }\n",
       "\n",
       "    .dataframe thead th {\n",
       "        text-align: right;\n",
       "    }\n",
       "</style>\n",
       "<table border=\"1\" class=\"dataframe\">\n",
       "  <thead>\n",
       "    <tr style=\"text-align: right;\">\n",
       "      <th></th>\n",
       "      <th>hmid</th>\n",
       "      <th>tokens</th>\n",
       "      <th>24h</th>\n",
       "      <th>3m</th>\n",
       "    </tr>\n",
       "  </thead>\n",
       "  <tbody>\n",
       "    <tr>\n",
       "      <th>60088</th>\n",
       "      <td>88070</td>\n",
       "      <td>[able, plan, vacation, summer]</td>\n",
       "      <td>False</td>\n",
       "      <td>True</td>\n",
       "    </tr>\n",
       "    <tr>\n",
       "      <th>39751</th>\n",
       "      <td>67644</td>\n",
       "      <td>[happiest, day, past, three, months, wedding, ...</td>\n",
       "      <td>False</td>\n",
       "      <td>True</td>\n",
       "    </tr>\n",
       "    <tr>\n",
       "      <th>25149</th>\n",
       "      <td>52957</td>\n",
       "      <td>[dog, walk, politely, next, walk, ,, without, ...</td>\n",
       "      <td>True</td>\n",
       "      <td>False</td>\n",
       "    </tr>\n",
       "    <tr>\n",
       "      <th>13826</th>\n",
       "      <td>41583</td>\n",
       "      <td>[first, nice, ,, long, phone, conversation, hi...</td>\n",
       "      <td>True</td>\n",
       "      <td>False</td>\n",
       "    </tr>\n",
       "    <tr>\n",
       "      <th>37980</th>\n",
       "      <td>65865</td>\n",
       "      <td>[decided, begin, new, business, .]</td>\n",
       "      <td>False</td>\n",
       "      <td>True</td>\n",
       "    </tr>\n",
       "  </tbody>\n",
       "</table>\n",
       "</div>"
      ],
      "text/plain": [
       "        hmid                                             tokens    24h     3m\n",
       "60088  88070                     [able, plan, vacation, summer]  False   True\n",
       "39751  67644  [happiest, day, past, three, months, wedding, ...  False   True\n",
       "25149  52957  [dog, walk, politely, next, walk, ,, without, ...   True  False\n",
       "13826  41583  [first, nice, ,, long, phone, conversation, hi...   True  False\n",
       "37980  65865                 [decided, begin, new, business, .]  False   True"
      ]
     },
     "execution_count": 17,
     "metadata": {},
     "output_type": "execute_result"
    }
   ],
   "source": [
    "x_train, x_test, y_train, y_test = train_test_split(df_to_train, labels, test_size=0.2)\n",
    "x_train.head()"
   ]
  },
  {
   "cell_type": "code",
   "execution_count": 18,
   "metadata": {},
   "outputs": [
    {
     "data": {
      "text/html": [
       "<div>\n",
       "<style scoped>\n",
       "    .dataframe tbody tr th:only-of-type {\n",
       "        vertical-align: middle;\n",
       "    }\n",
       "\n",
       "    .dataframe tbody tr th {\n",
       "        vertical-align: top;\n",
       "    }\n",
       "\n",
       "    .dataframe thead th {\n",
       "        text-align: right;\n",
       "    }\n",
       "</style>\n",
       "<table border=\"1\" class=\"dataframe\">\n",
       "  <thead>\n",
       "    <tr style=\"text-align: right;\">\n",
       "      <th></th>\n",
       "      <th>hmid</th>\n",
       "      <th>tokens</th>\n",
       "      <th>24h</th>\n",
       "      <th>3m</th>\n",
       "    </tr>\n",
       "  </thead>\n",
       "  <tbody>\n",
       "    <tr>\n",
       "      <th>11836</th>\n",
       "      <td>39581</td>\n",
       "      <td>[bought, ton, games, steam, got, cheap, .]</td>\n",
       "      <td>True</td>\n",
       "      <td>False</td>\n",
       "    </tr>\n",
       "    <tr>\n",
       "      <th>48495</th>\n",
       "      <td>76426</td>\n",
       "      <td>[happy, wife, pleased, baby, shower, parents, ...</td>\n",
       "      <td>False</td>\n",
       "      <td>True</td>\n",
       "    </tr>\n",
       "    <tr>\n",
       "      <th>6532</th>\n",
       "      <td>34252</td>\n",
       "      <td>[friend, 's, threw, surprise, birthday, dinner...</td>\n",
       "      <td>True</td>\n",
       "      <td>False</td>\n",
       "    </tr>\n",
       "    <tr>\n",
       "      <th>47650</th>\n",
       "      <td>75576</td>\n",
       "      <td>[excited, passed, ged, science, test, ,, one, ...</td>\n",
       "      <td>False</td>\n",
       "      <td>True</td>\n",
       "    </tr>\n",
       "    <tr>\n",
       "      <th>57493</th>\n",
       "      <td>85464</td>\n",
       "      <td>[nintendo, switch, finally, finished, repaired...</td>\n",
       "      <td>False</td>\n",
       "      <td>True</td>\n",
       "    </tr>\n",
       "  </tbody>\n",
       "</table>\n",
       "</div>"
      ],
      "text/plain": [
       "        hmid                                             tokens    24h     3m\n",
       "11836  39581         [bought, ton, games, steam, got, cheap, .]   True  False\n",
       "48495  76426  [happy, wife, pleased, baby, shower, parents, ...  False   True\n",
       "6532   34252  [friend, 's, threw, surprise, birthday, dinner...   True  False\n",
       "47650  75576  [excited, passed, ged, science, test, ,, one, ...  False   True\n",
       "57493  85464  [nintendo, switch, finally, finished, repaired...  False   True"
      ]
     },
     "execution_count": 18,
     "metadata": {},
     "output_type": "execute_result"
    }
   ],
   "source": [
    "x_test.head()"
   ]
  },
  {
   "cell_type": "code",
   "execution_count": 19,
   "metadata": {},
   "outputs": [
    {
     "data": {
      "text/plain": [
       "60088    achievement\n",
       "39751      affection\n",
       "25149      affection\n",
       "13826        bonding\n",
       "37980    achievement\n",
       "Name: predicted_category, dtype: object"
      ]
     },
     "execution_count": 19,
     "metadata": {},
     "output_type": "execute_result"
    }
   ],
   "source": [
    "y_train.head()"
   ]
  },
  {
   "cell_type": "code",
   "execution_count": 20,
   "metadata": {},
   "outputs": [
    {
     "data": {
      "text/plain": [
       "11836    achievement\n",
       "48495      affection\n",
       "6532         bonding\n",
       "47650    achievement\n",
       "57493    achievement\n",
       "Name: predicted_category, dtype: object"
      ]
     },
     "execution_count": 20,
     "metadata": {},
     "output_type": "execute_result"
    }
   ],
   "source": [
    "y_test.head()"
   ]
  },
  {
   "cell_type": "code",
   "execution_count": 21,
   "metadata": {},
   "outputs": [],
   "source": [
    "label_to_cats = {'achievement':      (1, 0, 0, 0, 0, 0, 0),\n",
    "              'affection':        (0, 1, 0, 0, 0, 0, 0),\n",
    "              'enjoy_the_moment': (0, 0, 1, 0, 0, 0, 0),\n",
    "              'nature':           (0, 0, 0, 1, 0, 0, 0),\n",
    "              'exercise':         (0, 0, 0, 0, 1, 0, 0),\n",
    "              'bonding':          (0, 0, 0, 0, 0, 1, 0),\n",
    "              'leisure':          (0, 0, 0, 0, 0, 0, 1)}"
   ]
  },
  {
   "cell_type": "code",
   "execution_count": 22,
   "metadata": {},
   "outputs": [
    {
     "data": {
      "text/plain": [
       "{(1, 0, 0, 0, 0, 0, 0): 'achievement',\n",
       " (0, 1, 0, 0, 0, 0, 0): 'affection',\n",
       " (0, 0, 1, 0, 0, 0, 0): 'enjoy_the_moment',\n",
       " (0, 0, 0, 1, 0, 0, 0): 'nature',\n",
       " (0, 0, 0, 0, 1, 0, 0): 'exercise',\n",
       " (0, 0, 0, 0, 0, 1, 0): 'bonding',\n",
       " (0, 0, 0, 0, 0, 0, 1): 'leisure'}"
      ]
     },
     "execution_count": 22,
     "metadata": {},
     "output_type": "execute_result"
    }
   ],
   "source": [
    "cats_to_labels = dict()\n",
    "for k, v in label_to_cats.items():\n",
    "    cats_to_labels[v] = k\n",
    "\n",
    "cats_to_labels"
   ]
  },
  {
   "cell_type": "code",
   "execution_count": 23,
   "metadata": {},
   "outputs": [],
   "source": [
    "y_train_temp = []\n",
    "for label in y_train:\n",
    "    y_train_temp.append(label_to_cats[label])\n",
    "y_train_temp = np.array(y_train_temp)"
   ]
  },
  {
   "cell_type": "code",
   "execution_count": 24,
   "metadata": {},
   "outputs": [],
   "source": [
    "y_test_temp = []\n",
    "for label in y_test:\n",
    "    y_test_temp.append(label_to_cats[label])\n",
    "y_test_temp = np.array(y_test_temp)"
   ]
  },
  {
   "cell_type": "code",
   "execution_count": 25,
   "metadata": {},
   "outputs": [
    {
     "data": {
      "text/plain": [
       "array([[1, 0, 0, 0, 0, 0, 0],\n",
       "       [0, 1, 0, 0, 0, 0, 0],\n",
       "       [0, 1, 0, 0, 0, 0, 0],\n",
       "       [0, 0, 0, 0, 0, 1, 0],\n",
       "       [1, 0, 0, 0, 0, 0, 0]])"
      ]
     },
     "execution_count": 25,
     "metadata": {},
     "output_type": "execute_result"
    }
   ],
   "source": [
    "y_train_temp[0:5]"
   ]
  },
  {
   "cell_type": "code",
   "execution_count": 26,
   "metadata": {},
   "outputs": [],
   "source": [
    "def labelized_sentences(sentences, label_type):\n",
    "    labelized = []\n",
    "    for i, v in tqdm(enumerate(sentences)):\n",
    "        label = '%s_%s'%(label_type, i)\n",
    "        labelized.append(gensim.models.doc2vec.TaggedDocument(v, [label]))\n",
    "    return labelized"
   ]
  },
  {
   "cell_type": "code",
   "execution_count": 27,
   "metadata": {},
   "outputs": [
    {
     "data": {
      "text/html": [
       "<div>\n",
       "<style scoped>\n",
       "    .dataframe tbody tr th:only-of-type {\n",
       "        vertical-align: middle;\n",
       "    }\n",
       "\n",
       "    .dataframe tbody tr th {\n",
       "        vertical-align: top;\n",
       "    }\n",
       "\n",
       "    .dataframe thead th {\n",
       "        text-align: right;\n",
       "    }\n",
       "</style>\n",
       "<table border=\"1\" class=\"dataframe\">\n",
       "  <thead>\n",
       "    <tr style=\"text-align: right;\">\n",
       "      <th></th>\n",
       "      <th>hmid</th>\n",
       "      <th>tokens</th>\n",
       "      <th>24h</th>\n",
       "      <th>3m</th>\n",
       "    </tr>\n",
       "  </thead>\n",
       "  <tbody>\n",
       "    <tr>\n",
       "      <th>60088</th>\n",
       "      <td>88070</td>\n",
       "      <td>[able, plan, vacation, summer]</td>\n",
       "      <td>False</td>\n",
       "      <td>True</td>\n",
       "    </tr>\n",
       "    <tr>\n",
       "      <th>39751</th>\n",
       "      <td>67644</td>\n",
       "      <td>[happiest, day, past, three, months, wedding, ...</td>\n",
       "      <td>False</td>\n",
       "      <td>True</td>\n",
       "    </tr>\n",
       "    <tr>\n",
       "      <th>25149</th>\n",
       "      <td>52957</td>\n",
       "      <td>[dog, walk, politely, next, walk, ,, without, ...</td>\n",
       "      <td>True</td>\n",
       "      <td>False</td>\n",
       "    </tr>\n",
       "    <tr>\n",
       "      <th>13826</th>\n",
       "      <td>41583</td>\n",
       "      <td>[first, nice, ,, long, phone, conversation, hi...</td>\n",
       "      <td>True</td>\n",
       "      <td>False</td>\n",
       "    </tr>\n",
       "    <tr>\n",
       "      <th>37980</th>\n",
       "      <td>65865</td>\n",
       "      <td>[decided, begin, new, business, .]</td>\n",
       "      <td>False</td>\n",
       "      <td>True</td>\n",
       "    </tr>\n",
       "  </tbody>\n",
       "</table>\n",
       "</div>"
      ],
      "text/plain": [
       "        hmid                                             tokens    24h     3m\n",
       "60088  88070                     [able, plan, vacation, summer]  False   True\n",
       "39751  67644  [happiest, day, past, three, months, wedding, ...  False   True\n",
       "25149  52957  [dog, walk, politely, next, walk, ,, without, ...   True  False\n",
       "13826  41583  [first, nice, ,, long, phone, conversation, hi...   True  False\n",
       "37980  65865                 [decided, begin, new, business, .]  False   True"
      ]
     },
     "execution_count": 27,
     "metadata": {},
     "output_type": "execute_result"
    }
   ],
   "source": [
    "x_train.head()"
   ]
  },
  {
   "cell_type": "code",
   "execution_count": 28,
   "metadata": {},
   "outputs": [
    {
     "name": "stderr",
     "output_type": "stream",
     "text": [
      "48256it [00:00, 402463.96it/s]\n",
      "12065it [00:00, 597297.96it/s]\n"
     ]
    },
    {
     "data": {
      "text/plain": [
       "TaggedDocument(words=['able', 'plan', 'vacation', 'summer'], tags=['TRAIN_0'])"
      ]
     },
     "execution_count": 28,
     "metadata": {},
     "output_type": "execute_result"
    }
   ],
   "source": [
    "w2v_train_corpus = labelized_sentences(x_train.tokens, 'TRAIN')\n",
    "w2v_test_corpus = labelized_sentences(x_test.tokens, 'TEST')\n",
    "w2v_train_corpus[0]"
   ]
  },
  {
   "cell_type": "code",
   "execution_count": 29,
   "metadata": {},
   "outputs": [
    {
     "data": {
      "text/plain": [
       "TaggedDocument(words=['bought', 'ton', 'games', 'steam', 'got', 'cheap', '.'], tags=['TEST_0'])"
      ]
     },
     "execution_count": 29,
     "metadata": {},
     "output_type": "execute_result"
    }
   ],
   "source": [
    "w2v_test_corpus[0]"
   ]
  },
  {
   "cell_type": "code",
   "execution_count": 30,
   "metadata": {},
   "outputs": [],
   "source": [
    "w2v_model = gensim.models.KeyedVectors.load_word2vec_format('D:/Datasets/embeddings/Word2Vec/GoogleNews-vectors-negative300.bin', binary=True)"
   ]
  },
  {
   "cell_type": "code",
   "execution_count": 31,
   "metadata": {},
   "outputs": [
    {
     "data": {
      "text/plain": [
       "array([-9.08203125e-02,  1.07421875e-01,  5.55419922e-03,  3.39355469e-02,\n",
       "       -1.81884766e-02,  2.17773438e-01, -1.44653320e-02, -1.60156250e-01,\n",
       "       -1.43554688e-01, -1.03515625e-01, -1.12304688e-02,  1.43554688e-01,\n",
       "       -3.47656250e-01, -1.02050781e-01, -1.85546875e-01, -1.98242188e-01,\n",
       "        2.95410156e-02,  2.26562500e-01,  1.84570312e-01, -3.90625000e-02,\n",
       "       -1.63085938e-01,  1.25976562e-01, -9.17968750e-02, -1.09863281e-01,\n",
       "        1.31835938e-01, -2.91748047e-02, -6.73828125e-02,  1.57470703e-02,\n",
       "       -1.43554688e-01, -8.30078125e-03,  8.69140625e-02, -8.20312500e-02,\n",
       "        1.62109375e-01, -6.25000000e-02,  1.27929688e-01, -3.46679688e-02,\n",
       "        1.19140625e-01, -1.46484375e-01,  9.42382812e-02, -9.81445312e-02,\n",
       "        3.03955078e-02,  1.11328125e-01, -1.51367188e-01, -1.22558594e-01,\n",
       "       -8.98437500e-02,  6.54296875e-02, -1.27929688e-01, -2.03857422e-02,\n",
       "       -9.91210938e-02,  1.33056641e-02,  1.60156250e-01, -1.68945312e-01,\n",
       "        1.56250000e-01, -8.44726562e-02,  2.11914062e-01,  1.83868408e-03,\n",
       "        8.54492188e-02, -2.18750000e-01,  3.08837891e-02,  4.27246094e-02,\n",
       "       -4.34570312e-02,  3.08593750e-01, -4.82421875e-01,  6.44531250e-02,\n",
       "        6.64062500e-02,  6.29882812e-02, -4.37011719e-02,  2.17285156e-02,\n",
       "       -5.07812500e-02, -1.17187500e-01, -7.91015625e-02,  1.51367188e-02,\n",
       "       -6.68945312e-02,  7.66601562e-02, -2.69531250e-01, -5.20019531e-02,\n",
       "        8.25195312e-02,  9.86328125e-02, -2.09960938e-02,  1.33789062e-01,\n",
       "       -1.72424316e-03, -8.30078125e-02,  1.01562500e-01,  5.61523438e-02,\n",
       "       -4.02450562e-04, -7.27539062e-02,  1.90429688e-02, -1.19140625e-01,\n",
       "       -3.05175781e-02,  1.61132812e-01,  8.74023438e-02, -6.78710938e-02,\n",
       "        2.49023438e-02,  2.14843750e-02,  1.28173828e-02,  4.34570312e-02,\n",
       "        8.05664062e-02, -1.69921875e-01, -1.34765625e-01, -6.64062500e-02,\n",
       "       -1.16210938e-01, -1.75781250e-01,  1.73828125e-01,  2.33459473e-03,\n",
       "        1.54296875e-01, -1.12304688e-01,  6.34765625e-02, -4.12597656e-02,\n",
       "        8.59375000e-02, -2.10937500e-01,  2.31933594e-02, -1.91406250e-01,\n",
       "       -9.37500000e-02, -1.71875000e-01, -2.83203125e-02,  8.54492188e-02,\n",
       "       -9.08203125e-02, -8.10546875e-02,  7.22656250e-02, -2.13623047e-02,\n",
       "       -1.17187500e-01, -5.83496094e-02, -4.02832031e-02,  2.23632812e-01,\n",
       "       -1.70898438e-02,  1.01562500e-01, -1.16699219e-01, -1.97265625e-01,\n",
       "       -2.53906250e-01,  4.49218750e-02,  8.49609375e-02, -9.96093750e-02,\n",
       "       -1.70898438e-01,  2.33459473e-03, -5.41992188e-02, -1.34765625e-01,\n",
       "       -5.24902344e-03,  1.35742188e-01,  3.71093750e-02,  2.88085938e-02,\n",
       "       -1.26953125e-01, -1.33056641e-02, -9.32617188e-02,  5.55419922e-03,\n",
       "       -1.44653320e-02,  7.76367188e-02, -2.07031250e-01, -1.00585938e-01,\n",
       "        1.54296875e-01, -4.22363281e-02,  5.46875000e-02,  9.96093750e-02,\n",
       "        3.73535156e-02,  1.64062500e-01,  4.61425781e-02,  1.83593750e-01,\n",
       "       -2.33398438e-01, -8.30078125e-02, -2.56347656e-02, -5.49316406e-02,\n",
       "        1.25732422e-02,  8.74023438e-02, -1.57226562e-01,  1.18164062e-01,\n",
       "        5.73730469e-02, -1.41601562e-01, -5.17578125e-02, -5.51757812e-02,\n",
       "        8.44726562e-02, -6.39648438e-02, -1.66015625e-02,  4.76074219e-02,\n",
       "        1.04980469e-01,  5.66406250e-02,  8.30078125e-02,  3.10058594e-02,\n",
       "        1.98242188e-01, -1.33789062e-01, -1.19140625e-01,  3.12500000e-02,\n",
       "       -4.61425781e-02, -9.32617188e-02,  4.46777344e-02, -1.59912109e-02,\n",
       "       -2.66113281e-02, -1.70898438e-01, -1.62109375e-01, -1.58203125e-01,\n",
       "        2.05078125e-01, -1.19628906e-01, -1.48437500e-01,  2.04101562e-01,\n",
       "        1.65039062e-01, -1.52343750e-01, -1.64062500e-01,  1.93359375e-01,\n",
       "        1.83593750e-01,  1.15722656e-01,  9.52148438e-03, -1.05957031e-01,\n",
       "       -3.17382812e-02,  4.17968750e-01,  8.93554688e-02, -5.78613281e-02,\n",
       "       -2.50000000e-01, -3.71093750e-02, -3.00781250e-01,  1.98974609e-02,\n",
       "        1.04980469e-01, -7.53784180e-03,  1.48437500e-01, -1.46484375e-02,\n",
       "        1.13769531e-01, -2.63214111e-04,  1.95312500e-01,  7.56835938e-02,\n",
       "        5.98144531e-02,  1.34765625e-01, -3.54003906e-02, -1.12792969e-01,\n",
       "        4.85839844e-02, -4.12597656e-02,  7.51953125e-02,  2.44140625e-01,\n",
       "        1.86523438e-01, -6.93359375e-02, -5.51757812e-02,  1.00097656e-01,\n",
       "       -8.10546875e-02, -1.26953125e-01,  1.09252930e-02, -1.57226562e-01,\n",
       "        9.52148438e-02, -4.46777344e-02, -7.17773438e-02, -2.53906250e-01,\n",
       "       -1.17797852e-02, -2.46093750e-01,  2.81982422e-02, -4.02832031e-02,\n",
       "       -5.27343750e-02,  1.01074219e-01, -1.34765625e-01, -1.58203125e-01,\n",
       "        5.63964844e-02, -7.47680664e-03, -7.38525391e-03, -2.13623047e-02,\n",
       "        8.64257812e-02, -1.53320312e-01, -1.96289062e-01,  2.50000000e-01,\n",
       "       -7.66601562e-02,  7.76367188e-02,  1.37695312e-01,  3.33786011e-04,\n",
       "       -3.75976562e-02, -3.15856934e-03, -2.17773438e-01, -5.64575195e-03,\n",
       "       -2.01171875e-01,  8.60595703e-03,  1.52343750e-01,  5.44433594e-02,\n",
       "        6.95800781e-03,  8.44726562e-02,  1.79687500e-01, -3.03955078e-02,\n",
       "       -1.55273438e-01,  2.61718750e-01,  1.12792969e-01,  1.60156250e-01,\n",
       "        7.27539062e-02,  5.63964844e-02,  1.91406250e-01, -5.88378906e-02,\n",
       "       -1.07421875e-01, -2.35595703e-02, -1.62109375e-01, -8.44726562e-02,\n",
       "       -1.78710938e-01, -4.63867188e-02,  9.61303711e-04,  3.65234375e-01,\n",
       "        7.61718750e-02, -1.61132812e-01, -1.16699219e-01, -1.21459961e-02,\n",
       "        1.64062500e-01, -2.81982422e-02, -3.02734375e-01,  1.64062500e-01,\n",
       "       -1.30859375e-01,  3.66210938e-02, -1.30859375e-01,  5.12695312e-02,\n",
       "        1.21582031e-01,  1.81640625e-01,  1.67968750e-01, -1.73339844e-02],\n",
       "      dtype=float32)"
      ]
     },
     "execution_count": 31,
     "metadata": {},
     "output_type": "execute_result"
    }
   ],
   "source": [
    "w2v_model['working']"
   ]
  },
  {
   "cell_type": "code",
   "execution_count": 32,
   "metadata": {},
   "outputs": [
    {
     "data": {
      "text/plain": [
       "(300,)"
      ]
     },
     "execution_count": 32,
     "metadata": {},
     "output_type": "execute_result"
    }
   ],
   "source": [
    "w2v_model['working'].shape"
   ]
  },
  {
   "cell_type": "code",
   "execution_count": 33,
   "metadata": {},
   "outputs": [
    {
     "name": "stderr",
     "output_type": "stream",
     "text": [
      "C:\\Users\\Aman Deep Singh\\Anaconda3\\envs\\tf-gpu\\lib\\site-packages\\gensim\\matutils.py:737: FutureWarning: Conversion of the second argument of issubdtype from `int` to `np.signedinteger` is deprecated. In future, it will be treated as `np.int32 == np.dtype(int).type`.\n",
      "  if np.issubdtype(vec.dtype, np.int):\n"
     ]
    },
    {
     "data": {
      "text/plain": [
       "[('getting', 0.7506691217422485),\n",
       " ('got', 0.724482536315918),\n",
       " ('gets', 0.6428857445716858),\n",
       " ('gotten', 0.6259447336196899),\n",
       " ('Getting', 0.620659351348877),\n",
       " ('go', 0.5898032188415527),\n",
       " ('come', 0.5817450284957886),\n",
       " ('give', 0.5797204971313477),\n",
       " ('bring', 0.5531654357910156),\n",
       " ('toget', 0.5505292415618896)]"
      ]
     },
     "execution_count": 33,
     "metadata": {},
     "output_type": "execute_result"
    }
   ],
   "source": [
    "w2v_model.most_similar('get')"
   ]
  },
  {
   "cell_type": "code",
   "execution_count": null,
   "metadata": {},
   "outputs": [],
   "source": [
    "import bokeh.plotting as bp\n",
    "from bokeh.models import HoverTool, BoxSelectTool\n",
    "from bokeh.plotting import figure, show, output_notebook\n",
    "\n",
    "output_notebook()\n",
    "plot_tfidf = bp.figure(plot_width=700, plot_height=600, tools='pan, wheel_zoom, box_zoom, reset, hover, previewsave', x_axis_type=None, y_axis_type=None, min_border=1)\n",
    "\n",
    "word_vectors = [w2v_model[w] for w in list(w2v_model.wv.vocab.keys())[:5000]]\n",
    "\n",
    "from sklearn.manifold import TSNE\n",
    "tsne_model = TSNE(n_components=2, verbose=1, random_state=0)\n",
    "tsne_w2v = tsne_model.fit_transform(word_vectors)\n",
    "\n",
    "tsne_df = pd.DataFrame(tsne_w2v, columns=['x', 'y'])\n",
    "tsne_df['words'] = list(w2v_model.wv.vocab.keys())[:5000]\n",
    "\n",
    "plot_tfidf.scatter(x='x', y='y', source=tsne_df)\n",
    "hover = plot_tfidf.select(dict(type=HoverTool))\n",
    "hover.tooltips={'word': '@words'}\n",
    "show(plot_tfidf)"
   ]
  },
  {
   "cell_type": "code",
   "execution_count": 34,
   "metadata": {},
   "outputs": [],
   "source": [
    "vectorizer = TfidfVectorizer(analyzer=lambda x: x, min_df=10)\n",
    "matrix = vectorizer.fit_transform([x.words for x in w2v_train_corpus])\n",
    "tfidf = dict(zip(vectorizer.get_feature_names(), vectorizer.idf_))"
   ]
  },
  {
   "cell_type": "code",
   "execution_count": 35,
   "metadata": {},
   "outputs": [
    {
     "data": {
      "text/plain": [
       "3882"
      ]
     },
     "execution_count": 35,
     "metadata": {},
     "output_type": "execute_result"
    }
   ],
   "source": [
    "len(tfidf)"
   ]
  },
  {
   "cell_type": "code",
   "execution_count": 36,
   "metadata": {},
   "outputs": [],
   "source": [
    "def build_word_vector(tokens, size):\n",
    "    vec = np.zeros(size).reshape((1, size))\n",
    "    count = 0.\n",
    "    for word in tokens:\n",
    "        try:\n",
    "            vec += w2v_model[word].reshape((1, size)) * tfidf[word]\n",
    "            count += 1.\n",
    "        except KeyError:\n",
    "            continue\n",
    "        break\n",
    "        \n",
    "    if count != 0:\n",
    "        vec /= count\n",
    "        \n",
    "    return vec"
   ]
  },
  {
   "cell_type": "code",
   "execution_count": 37,
   "metadata": {},
   "outputs": [
    {
     "name": "stderr",
     "output_type": "stream",
     "text": [
      "48256it [00:00, 84097.51it/s]\n"
     ]
    },
    {
     "data": {
      "text/plain": [
       "array([[ 0.7494992 ,  0.27325493, -0.04489188, ...,  0.02207997,\n",
       "        -0.08734398, -0.71827012],\n",
       "       [-0.13685019, -1.26823545,  1.17067897, ..., -1.03518367,\n",
       "         0.51488191,  0.45797393],\n",
       "       [ 0.25559095, -0.11136463, -0.86170661, ...,  2.07393789,\n",
       "        -1.77209723,  1.10999489],\n",
       "       ...,\n",
       "       [ 1.39628327,  0.93085551, -0.65583003, ..., -1.26934838,\n",
       "        -0.2281805 ,  0.28258115],\n",
       "       [ 0.28805965,  0.85929656,  0.0935787 , ..., -0.90486532,\n",
       "         0.5761193 ,  0.14077491],\n",
       "       [-0.40288058,  0.93445909, -0.15108021, ..., -1.5667578 ,\n",
       "         1.15828168, -0.36930719]])"
      ]
     },
     "execution_count": 37,
     "metadata": {},
     "output_type": "execute_result"
    }
   ],
   "source": [
    "from sklearn.preprocessing import scale\n",
    "train_vecs_w2v = np.concatenate([build_word_vector(z, 300) for z in tqdm(map(lambda x: x.words, w2v_train_corpus))])\n",
    "train_vecs_w2v"
   ]
  },
  {
   "cell_type": "code",
   "execution_count": 38,
   "metadata": {},
   "outputs": [
    {
     "data": {
      "text/plain": [
       "(48256, 300)"
      ]
     },
     "execution_count": 38,
     "metadata": {},
     "output_type": "execute_result"
    }
   ],
   "source": [
    "train_vecs_w2v.shape"
   ]
  },
  {
   "cell_type": "code",
   "execution_count": 39,
   "metadata": {},
   "outputs": [
    {
     "data": {
      "text/plain": [
       "array([[ 0.7494992 ,  0.27325493, -0.04489188, ...,  0.02207997,\n",
       "        -0.08734398, -0.71827012],\n",
       "       [-0.13685019, -1.26823545,  1.17067897, ..., -1.03518367,\n",
       "         0.51488191,  0.45797393],\n",
       "       [ 0.25559095, -0.11136463, -0.86170661, ...,  2.07393789,\n",
       "        -1.77209723,  1.10999489],\n",
       "       ...,\n",
       "       [ 1.39628327,  0.93085551, -0.65583003, ..., -1.26934838,\n",
       "        -0.2281805 ,  0.28258115],\n",
       "       [ 0.28805965,  0.85929656,  0.0935787 , ..., -0.90486532,\n",
       "         0.5761193 ,  0.14077491],\n",
       "       [-0.40288058,  0.93445909, -0.15108021, ..., -1.5667578 ,\n",
       "         1.15828168, -0.36930719]])"
      ]
     },
     "execution_count": 39,
     "metadata": {},
     "output_type": "execute_result"
    }
   ],
   "source": [
    "train_vecs_w2v"
   ]
  },
  {
   "cell_type": "code",
   "execution_count": 40,
   "metadata": {},
   "outputs": [],
   "source": [
    "train_vecs_w2v = scale(train_vecs_w2v)"
   ]
  },
  {
   "cell_type": "code",
   "execution_count": 41,
   "metadata": {},
   "outputs": [
    {
     "name": "stderr",
     "output_type": "stream",
     "text": [
      "12065it [00:00, 78481.68it/s]\n"
     ]
    },
    {
     "data": {
      "text/plain": [
       "array([[ 7.60316968e-01, -2.46769533e-01, -3.97943676e-01, ...,\n",
       "        -5.69126129e-01,  8.40350270e-01, -9.78185534e-01],\n",
       "       [-1.41234673e-03,  4.35999751e-01,  4.38242871e-03, ...,\n",
       "        -9.63718966e-02,  2.41926685e-01, -8.24145854e-01],\n",
       "       [ 2.69515276e-01, -8.14122081e-01,  5.83639979e-01, ...,\n",
       "        -8.25274408e-01, -7.52784088e-02,  4.05202299e-01],\n",
       "       ...,\n",
       "       [ 7.70528615e-01,  1.28036946e-01,  6.82863712e-01, ...,\n",
       "         1.48568988e+00,  3.71422470e-01, -1.68408945e-01],\n",
       "       [ 1.80797458e-01, -9.02864337e-01, -4.89612997e-01, ...,\n",
       "        -3.48119348e-01,  2.14486435e-01, -3.86300176e-01],\n",
       "       [ 4.61556911e-01,  9.85292494e-01,  4.51990992e-01, ...,\n",
       "        -9.03981984e-01,  1.00920737e+00,  1.23759434e-01]])"
      ]
     },
     "execution_count": 41,
     "metadata": {},
     "output_type": "execute_result"
    }
   ],
   "source": [
    "test_vecs_w2v = np.concatenate([build_word_vector(z, 300) for z in tqdm(map(lambda x: x.words, w2v_test_corpus))])\n",
    "test_vecs_w2v"
   ]
  },
  {
   "cell_type": "code",
   "execution_count": 42,
   "metadata": {},
   "outputs": [
    {
     "data": {
      "text/plain": [
       "(12065, 300)"
      ]
     },
     "execution_count": 42,
     "metadata": {},
     "output_type": "execute_result"
    }
   ],
   "source": [
    "test_vecs_w2v.shape"
   ]
  },
  {
   "cell_type": "code",
   "execution_count": 43,
   "metadata": {},
   "outputs": [],
   "source": [
    "test_vecs_w2v = scale(test_vecs_w2v)"
   ]
  },
  {
   "cell_type": "code",
   "execution_count": 44,
   "metadata": {},
   "outputs": [
    {
     "data": {
      "text/plain": [
       "array([[ 0.83205233, -0.59921931, -0.51772348, ..., -0.19585362,\n",
       "         0.74514248, -1.19515317],\n",
       "       [-0.20689871,  0.2207956 ,  0.01627443, ...,  0.39311527,\n",
       "        -0.07252069, -0.97228112],\n",
       "       [ 0.16262958, -1.28061719,  0.78510925, ..., -0.51496947,\n",
       "        -0.50593764,  0.80639916],\n",
       "       ...,\n",
       "       [ 0.84598037, -0.14907179,  0.91680656, ...,  2.36408687,\n",
       "         0.10441741, -0.02352929],\n",
       "       [ 0.04162404, -1.38719781, -0.639394  , ...,  0.07948208,\n",
       "        -0.110014  , -0.33878485],\n",
       "       [ 0.42456234,  0.88050342,  0.61037467, ..., -0.61302531,\n",
       "         0.97586238,  0.39919403]])"
      ]
     },
     "execution_count": 44,
     "metadata": {},
     "output_type": "execute_result"
    }
   ],
   "source": [
    "test_vecs_w2v"
   ]
  },
  {
   "cell_type": "code",
   "execution_count": 45,
   "metadata": {},
   "outputs": [
    {
     "data": {
      "text/plain": [
       "(48256, 7)"
      ]
     },
     "execution_count": 45,
     "metadata": {},
     "output_type": "execute_result"
    }
   ],
   "source": [
    "y_train_temp.shape"
   ]
  },
  {
   "cell_type": "code",
   "execution_count": 46,
   "metadata": {},
   "outputs": [
    {
     "data": {
      "text/plain": [
       "(12065, 7)"
      ]
     },
     "execution_count": 46,
     "metadata": {},
     "output_type": "execute_result"
    }
   ],
   "source": [
    "y_test_temp.shape"
   ]
  },
  {
   "cell_type": "code",
   "execution_count": 47,
   "metadata": {},
   "outputs": [
    {
     "name": "stderr",
     "output_type": "stream",
     "text": [
      "Using TensorFlow backend.\n"
     ]
    }
   ],
   "source": [
    "from keras.models import Sequential\n",
    "from keras.layers import Dense\n",
    "\n",
    "model = Sequential()\n",
    "model.add(Dense(256, activation='relu', input_dim=300))\n",
    "model.add(Dense(64, activation='relu'))\n",
    "model.add(Dense(7, activation='sigmoid'))\n",
    "model.compile(optimizer='adam',\n",
    "              loss='categorical_crossentropy',\n",
    "              metrics=['accuracy'])"
   ]
  },
  {
   "cell_type": "code",
   "execution_count": 48,
   "metadata": {},
   "outputs": [
    {
     "name": "stdout",
     "output_type": "stream",
     "text": [
      "Epoch 1/50\n",
      " - 11s - loss: 1.1975 - acc: 0.5628\n",
      "Epoch 2/50\n",
      " - 6s - loss: 1.1329 - acc: 0.5848\n",
      "Epoch 3/50\n",
      " - 6s - loss: 1.1166 - acc: 0.5883\n",
      "Epoch 4/50\n",
      " - 6s - loss: 1.1065 - acc: 0.5900\n",
      "Epoch 5/50\n",
      " - 6s - loss: 1.0986 - acc: 0.5929\n",
      "Epoch 6/50\n",
      " - 6s - loss: 1.0926 - acc: 0.5948\n",
      "Epoch 7/50\n",
      " - 6s - loss: 1.0879 - acc: 0.5957\n",
      "Epoch 8/50\n",
      " - 6s - loss: 1.0838 - acc: 0.5957\n",
      "Epoch 9/50\n",
      " - 6s - loss: 1.0801 - acc: 0.5971\n",
      "Epoch 10/50\n",
      " - 6s - loss: 1.0776 - acc: 0.5984\n",
      "Epoch 11/50\n",
      " - 6s - loss: 1.0751 - acc: 0.5983\n",
      "Epoch 12/50\n",
      " - 6s - loss: 1.0729 - acc: 0.5988\n",
      "Epoch 13/50\n",
      " - 6s - loss: 1.0710 - acc: 0.5979\n",
      "Epoch 14/50\n",
      " - 6s - loss: 1.0701 - acc: 0.5990\n",
      "Epoch 15/50\n",
      " - 6s - loss: 1.0683 - acc: 0.5993\n",
      "Epoch 16/50\n",
      " - 6s - loss: 1.0658 - acc: 0.6000\n",
      "Epoch 17/50\n",
      " - 6s - loss: 1.0665 - acc: 0.6000\n",
      "Epoch 18/50\n",
      " - 6s - loss: 1.0640 - acc: 0.5995\n",
      "Epoch 19/50\n",
      " - 6s - loss: 1.0623 - acc: 0.6008\n",
      "Epoch 20/50\n",
      " - 9s - loss: 1.0622 - acc: 0.6006\n",
      "Epoch 21/50\n",
      " - 7s - loss: 1.0622 - acc: 0.6006\n",
      "Epoch 22/50\n",
      " - 7s - loss: 1.0612 - acc: 0.5998\n",
      "Epoch 23/50\n",
      " - 6s - loss: 1.0592 - acc: 0.6008\n",
      "Epoch 24/50\n",
      " - 6s - loss: 1.0599 - acc: 0.6004\n",
      "Epoch 25/50\n",
      " - 6s - loss: 1.0584 - acc: 0.6010\n",
      "Epoch 26/50\n",
      " - 7s - loss: 1.0583 - acc: 0.6014\n",
      "Epoch 27/50\n",
      " - 7s - loss: 1.0577 - acc: 0.6019\n",
      "Epoch 28/50\n",
      " - 7s - loss: 1.0574 - acc: 0.6014\n",
      "Epoch 29/50\n",
      " - 7s - loss: 1.0563 - acc: 0.6018\n",
      "Epoch 30/50\n",
      " - 6s - loss: 1.0562 - acc: 0.6020\n",
      "Epoch 31/50\n",
      " - 6s - loss: 1.0554 - acc: 0.6025\n",
      "Epoch 32/50\n",
      " - 6s - loss: 1.0559 - acc: 0.6015\n",
      "Epoch 33/50\n",
      " - 7s - loss: 1.0544 - acc: 0.6015\n",
      "Epoch 34/50\n",
      " - 7s - loss: 1.0540 - acc: 0.6019\n",
      "Epoch 35/50\n",
      " - 6s - loss: 1.0535 - acc: 0.6017\n",
      "Epoch 36/50\n",
      " - 6s - loss: 1.0537 - acc: 0.6025\n",
      "Epoch 37/50\n",
      " - 6s - loss: 1.0529 - acc: 0.6026\n",
      "Epoch 38/50\n",
      " - 6s - loss: 1.0532 - acc: 0.6032\n",
      "Epoch 39/50\n",
      " - 6s - loss: 1.0535 - acc: 0.6019\n",
      "Epoch 40/50\n",
      " - 6s - loss: 1.0519 - acc: 0.6024\n",
      "Epoch 41/50\n",
      " - 6s - loss: 1.0523 - acc: 0.6021\n",
      "Epoch 42/50\n",
      " - 6s - loss: 1.0526 - acc: 0.6014\n",
      "Epoch 43/50\n",
      " - 6s - loss: 1.0520 - acc: 0.6021\n",
      "Epoch 44/50\n",
      " - 6s - loss: 1.0519 - acc: 0.6025\n",
      "Epoch 45/50\n",
      " - 6s - loss: 1.0512 - acc: 0.6023\n",
      "Epoch 46/50\n",
      " - 6s - loss: 1.0519 - acc: 0.6013\n",
      "Epoch 47/50\n",
      " - 6s - loss: 1.0511 - acc: 0.6021\n",
      "Epoch 48/50\n",
      " - 6s - loss: 1.0514 - acc: 0.6008\n",
      "Epoch 49/50\n",
      " - 7s - loss: 1.0503 - acc: 0.6020\n",
      "Epoch 50/50\n",
      " - 6s - loss: 1.0488 - acc: 0.6014\n"
     ]
    },
    {
     "data": {
      "text/plain": [
       "<keras.callbacks.History at 0x1d83282a2e8>"
      ]
     },
     "execution_count": 48,
     "metadata": {},
     "output_type": "execute_result"
    }
   ],
   "source": [
    "model.fit(train_vecs_w2v, y_train_temp, epochs=50, batch_size=32, verbose=2)"
   ]
  },
  {
   "cell_type": "code",
   "execution_count": 49,
   "metadata": {},
   "outputs": [],
   "source": [
    "score = model.evaluate(test_vecs_w2v, y_test_temp, batch_size=128, verbose=2)"
   ]
  },
  {
   "cell_type": "code",
   "execution_count": 50,
   "metadata": {},
   "outputs": [
    {
     "data": {
      "text/plain": [
       "[1.2503834371590485, 0.5794446747183454]"
      ]
     },
     "execution_count": 50,
     "metadata": {},
     "output_type": "execute_result"
    }
   ],
   "source": [
    "score"
   ]
  },
  {
   "cell_type": "code",
   "execution_count": 51,
   "metadata": {},
   "outputs": [
    {
     "data": {
      "text/plain": [
       "array([ 0.83205233, -0.59921931, -0.51772348, -0.16589996, -0.14741352,\n",
       "       -0.82477273,  0.21765645,  0.13409694, -0.14435001,  0.76337472,\n",
       "        0.48967698,  0.09309331, -1.22230343, -0.78939625, -0.53343333,\n",
       "        0.27814496, -0.97011009,  0.63620514, -1.2384566 ,  1.12556867,\n",
       "       -0.28476472,  0.02098426,  0.53966281,  0.63569531,  0.7694971 ,\n",
       "        1.41100995,  0.16671678,  0.31786638, -1.19357326, -0.26515389,\n",
       "       -0.03073085,  1.05673118, -1.31727795,  0.90833595,  0.87915298,\n",
       "       -0.07936188, -0.12579027, -0.75448046, -1.40570544,  0.1469871 ,\n",
       "        0.25894568,  1.57641788, -0.4285263 , -0.98642763, -0.98029355,\n",
       "       -0.82321378,  0.21288488,  0.92144931, -0.02775956, -0.07847759,\n",
       "        0.86689448, -1.28859155,  0.74765666, -1.96643197, -0.11101571,\n",
       "       -0.23948975, -0.03901057,  0.01047148,  0.0276817 , -0.40149277,\n",
       "        0.44431782,  0.82129388,  1.09868271,  1.58525537, -0.06256438,\n",
       "       -1.23332338, -0.56399116, -1.16781984,  0.2680573 ,  0.01662131,\n",
       "        1.60904616, -0.32689654,  0.64289164,  0.24081226,  0.29371776,\n",
       "        0.56620799,  0.19847058, -0.03652507, -1.61916699, -0.6141687 ,\n",
       "        0.89877586, -0.83808488,  0.76491848,  1.39977166, -0.31387978,\n",
       "        0.51183485,  1.0346742 ,  1.4243067 , -0.13949075,  0.55219765,\n",
       "       -0.30168756,  1.06442836,  0.36031154,  0.20137928, -0.01741179,\n",
       "       -0.15417602, -0.96864077, -0.51967538, -0.36766219,  0.61422688,\n",
       "        1.0577269 , -0.35307337, -0.72553722,  0.75600345,  1.14275107,\n",
       "        0.41662052, -0.46388467,  1.77045442, -1.14970696,  0.14791609,\n",
       "        0.87309365,  1.02726175, -0.25823678,  0.36918874,  1.10267865,\n",
       "        0.09905258, -1.02423809,  1.22537443,  0.88597656, -0.59986648,\n",
       "        1.98342748,  0.01946952, -0.21913004, -0.44563071, -0.41579493,\n",
       "       -0.25223039,  1.10981676, -0.66993775,  1.4873239 , -0.58258312,\n",
       "       -0.06990931,  0.94780069, -0.16969526,  1.05079934,  0.28731769,\n",
       "        0.5208647 , -1.48932192,  0.27612161, -1.61603094,  1.07597527,\n",
       "        0.31559985, -0.18167064, -0.28518288, -1.07785258,  0.71442999,\n",
       "       -0.37655753,  0.38803583, -1.02118755,  0.58251493, -0.41615087,\n",
       "        0.26398527, -0.3803318 , -0.05631903,  0.08657349, -0.95072757,\n",
       "        0.75263266, -1.93338072,  0.24669562, -0.986612  ,  0.52153551,\n",
       "        0.03021103, -0.40533985, -0.46695704, -0.23497528, -0.00936061,\n",
       "        0.84717131, -0.26933207, -0.91070899, -0.61958033, -0.30831917,\n",
       "       -1.0186091 ,  0.13102973,  0.68560241, -0.57427308,  0.47555814,\n",
       "        1.03791916,  0.37508623,  0.3125659 ,  1.31660952,  0.90114465,\n",
       "       -0.0675315 , -0.1989441 , -1.75618644, -0.28732344,  0.79665127,\n",
       "       -1.72892857, -0.07194842,  0.45027634, -1.81109053, -0.16349893,\n",
       "       -0.55224248, -0.40659942, -0.22560502,  0.43583503,  0.18964286,\n",
       "        0.29389869,  0.79235125,  1.36713567,  1.28185069, -0.10094801,\n",
       "        0.05370056,  0.86330784,  0.4732122 ,  0.51911679, -1.84042998,\n",
       "       -0.11399562,  1.05734417,  0.29706405, -0.35538657, -0.71619953,\n",
       "        0.92420865,  0.54401152,  0.74634702,  1.23130486,  1.32331119,\n",
       "        1.01087944,  0.74871994, -0.13156014,  0.09488542,  0.72570961,\n",
       "       -1.53361459,  1.63484447, -0.56455149,  0.60363743, -0.60437694,\n",
       "        0.4983873 , -1.4737832 , -0.54102914, -1.26639325, -1.40215785,\n",
       "        0.55884989, -0.28927429,  0.96989436, -0.45741235,  0.54164777,\n",
       "        1.11409271,  1.32486402, -0.4821074 ,  0.43894977, -0.08043538,\n",
       "       -0.03026924, -0.65693176, -0.7043523 ,  0.97420293,  1.06354329,\n",
       "        0.97278258,  1.18859403, -0.56774545,  0.62762821, -0.14738291,\n",
       "        0.92821354,  0.31316185,  0.09715   ,  0.47954815, -0.43176152,\n",
       "        0.7110486 , -0.25698038,  0.85150554,  0.58822076,  1.31739086,\n",
       "       -0.85513202, -0.7596478 ,  1.31105189, -0.66180091, -0.62335708,\n",
       "       -0.75259477, -0.91341429, -0.8573922 ,  1.11217093,  0.21266321,\n",
       "        0.73722381, -0.23920813,  0.76976813,  0.01472583, -0.07654165,\n",
       "        0.07191518, -0.12402476,  0.25897077, -1.05801478, -0.43893592,\n",
       "       -1.4016001 ,  1.24557736,  0.77495521, -1.16074546,  0.66679379,\n",
       "        0.13976005,  0.48019134,  1.70639759, -0.75289482, -0.90487363,\n",
       "        0.4271476 ,  0.36412001, -0.65491005,  0.95397462,  1.32241164,\n",
       "        0.4210768 ,  0.38276946, -0.19585362,  0.74514248, -1.19515317])"
      ]
     },
     "execution_count": 51,
     "metadata": {},
     "output_type": "execute_result"
    }
   ],
   "source": [
    "test_vecs_w2v[0]"
   ]
  },
  {
   "cell_type": "code",
   "execution_count": 52,
   "metadata": {},
   "outputs": [
    {
     "data": {
      "text/plain": [
       "array([ 0.1875    ,  0.06835938, -0.01123047,  0.17871094, -0.20703125,\n",
       "       -0.10644531,  0.1953125 ,  0.03222656,  0.19335938, -0.12597656,\n",
       "       -0.01269531, -0.02282715, -0.29492188, -0.20507812, -0.20605469,\n",
       "       -0.11328125,  0.16992188, -0.03222656,  0.11474609, -0.02111816,\n",
       "       -0.09375   ,  0.00179291,  0.13574219, -0.05029297, -0.08251953,\n",
       "       -0.24707031, -0.05883789, -0.08203125, -0.13085938, -0.07617188,\n",
       "        0.140625  , -0.00878906,  0.10351562, -0.28515625,  0.01239014,\n",
       "        0.12890625,  0.08984375, -0.10839844, -0.00218201, -0.14550781,\n",
       "        0.05200195, -0.02246094,  0.13183594, -0.09960938,  0.08203125,\n",
       "       -0.10742188, -0.02844238,  0.06079102, -0.03857422, -0.21679688,\n",
       "        0.00952148, -0.02941895, -0.10546875,  0.09716797, -0.01940918,\n",
       "        0.0402832 , -0.01281738, -0.06103516,  0.30078125, -0.00497437,\n",
       "        0.11181641, -0.13867188, -0.15527344, -0.09423828,  0.04736328,\n",
       "        0.06982422, -0.06884766,  0.26953125, -0.0088501 , -0.02062988,\n",
       "        0.01489258,  0.06640625,  0.00343323, -0.08886719, -0.1875    ,\n",
       "       -0.171875  ,  0.29296875,  0.16601562,  0.04785156, -0.25390625,\n",
       "        0.04614258,  0.07861328,  0.10888672,  0.07275391, -0.15625   ,\n",
       "       -0.05957031, -0.16015625,  0.06640625, -0.12353516,  0.17089844,\n",
       "        0.07714844, -0.09423828, -0.00241089, -0.11767578, -0.08349609,\n",
       "       -0.12255859,  0.06738281,  0.20019531, -0.03540039,  0.046875  ,\n",
       "        0.04492188, -0.12060547, -0.03295898,  0.140625  , -0.02111816,\n",
       "        0.03881836, -0.15234375, -0.18652344,  0.0859375 ,  0.03320312,\n",
       "       -0.21191406,  0.01446533, -0.04760742, -0.18554688,  0.01611328,\n",
       "        0.10498047, -0.01342773, -0.15722656,  0.14160156, -0.01672363,\n",
       "       -0.12597656, -0.10205078,  0.26367188, -0.07177734, -0.12988281,\n",
       "       -0.02124023, -0.20605469, -0.29101562, -0.25      , -0.06396484,\n",
       "        0.0300293 , -0.01000977, -0.08642578,  0.09570312, -0.12011719,\n",
       "       -0.31445312,  0.16992188,  0.02893066,  0.21484375,  0.1328125 ,\n",
       "       -0.19238281, -0.21875   , -0.02832031, -0.13378906,  0.14257812,\n",
       "        0.12451172, -0.02246094, -0.17773438,  0.19335938, -0.09814453,\n",
       "        0.06933594,  0.25390625, -0.18847656,  0.16796875,  0.09521484,\n",
       "        0.20507812, -0.15136719,  0.05419922, -0.3125    ,  0.0111084 ,\n",
       "        0.09619141,  0.11669922,  0.046875  ,  0.0703125 , -0.02502441,\n",
       "       -0.296875  ,  0.0859375 ,  0.13378906,  0.12353516, -0.0456543 ,\n",
       "       -0.203125  ,  0.07519531, -0.06396484, -0.09082031,  0.07861328,\n",
       "        0.01745605,  0.21191406, -0.11376953, -0.38085938,  0.10107422,\n",
       "       -0.11279297,  0.13574219,  0.15917969,  0.0123291 , -0.19335938,\n",
       "       -0.14648438, -0.03393555, -0.11230469,  0.13183594, -0.12988281,\n",
       "       -0.04711914, -0.0300293 , -0.03759766, -0.13085938,  0.07324219,\n",
       "        0.08154297,  0.2265625 , -0.00173187, -0.12402344, -0.28710938,\n",
       "        0.12792969,  0.40039062,  0.06201172,  0.04223633,  0.04003906,\n",
       "        0.0112915 , -0.11425781,  0.0456543 ,  0.20605469,  0.05151367,\n",
       "       -0.12792969,  0.39257812, -0.07275391,  0.16992188,  0.12792969,\n",
       "       -0.04907227,  0.14941406, -0.05297852, -0.08447266,  0.06298828,\n",
       "        0.07861328,  0.01098633, -0.19335938, -0.13867188, -0.0378418 ,\n",
       "        0.01171875,  0.23828125, -0.0378418 , -0.18359375, -0.12695312,\n",
       "        0.01733398, -0.0703125 ,  0.18847656, -0.05053711,  0.15136719,\n",
       "       -0.02001953,  0.04199219, -0.02563477, -0.02966309,  0.14355469,\n",
       "       -0.0859375 , -0.03637695, -0.0009613 , -0.19140625,  0.05639648,\n",
       "       -0.02624512,  0.01495361,  0.00476074,  0.14746094, -0.18652344,\n",
       "       -0.00265503, -0.05200195,  0.16503906,  0.11621094,  0.15527344,\n",
       "        0.12890625,  0.23046875, -0.07080078, -0.19042969, -0.05151367,\n",
       "       -0.14453125,  0.00297546, -0.09082031,  0.18457031,  0.12988281,\n",
       "       -0.0100708 ,  0.23144531, -0.02050781, -0.08349609,  0.18261719,\n",
       "        0.23242188,  0.0402832 ,  0.17480469,  0.10546875,  0.15527344,\n",
       "       -0.09619141,  0.04785156, -0.10253906, -0.08007812,  0.265625  ,\n",
       "       -0.15527344,  0.08642578,  0.16796875,  0.03417969, -0.07617188,\n",
       "       -0.046875  , -0.01586914,  0.00191498,  0.08496094,  0.03076172,\n",
       "       -0.11621094,  0.10205078, -0.08886719, -0.1171875 , -0.11181641,\n",
       "        0.11767578,  0.1015625 ,  0.00552368, -0.02185059, -0.1796875 ],\n",
       "      dtype=float32)"
      ]
     },
     "execution_count": 52,
     "metadata": {},
     "output_type": "execute_result"
    }
   ],
   "source": [
    "w2v_model['able']"
   ]
  },
  {
   "cell_type": "code",
   "execution_count": 53,
   "metadata": {},
   "outputs": [
    {
     "data": {
      "text/plain": [
       "3.997329171349713"
      ]
     },
     "execution_count": 53,
     "metadata": {},
     "output_type": "execute_result"
    }
   ],
   "source": [
    "tfidf['able']"
   ]
  },
  {
   "cell_type": "code",
   "execution_count": 54,
   "metadata": {},
   "outputs": [],
   "source": [
    "model.save('D:/Datasets/hackerearth/models/word2vec-d256-d64-e50.h5')"
   ]
  },
  {
   "cell_type": "code",
   "execution_count": null,
   "metadata": {},
   "outputs": [],
   "source": [
    "temp_word_vector = build_word_vector(['able'], 300)"
   ]
  },
  {
   "cell_type": "code",
   "execution_count": null,
   "metadata": {},
   "outputs": [],
   "source": [
    "temp_word_vector = scale(temp_word_vector)"
   ]
  },
  {
   "cell_type": "code",
   "execution_count": null,
   "metadata": {},
   "outputs": [],
   "source": [
    "temp_word_vector"
   ]
  },
  {
   "cell_type": "code",
   "execution_count": 55,
   "metadata": {},
   "outputs": [
    {
     "data": {
      "text/html": [
       "<div>\n",
       "<style scoped>\n",
       "    .dataframe tbody tr th:only-of-type {\n",
       "        vertical-align: middle;\n",
       "    }\n",
       "\n",
       "    .dataframe tbody tr th {\n",
       "        vertical-align: top;\n",
       "    }\n",
       "\n",
       "    .dataframe thead th {\n",
       "        text-align: right;\n",
       "    }\n",
       "</style>\n",
       "<table border=\"1\" class=\"dataframe\">\n",
       "  <thead>\n",
       "    <tr style=\"text-align: right;\">\n",
       "      <th></th>\n",
       "      <th>hmid</th>\n",
       "      <th>reflection_period</th>\n",
       "      <th>cleaned_hm</th>\n",
       "    </tr>\n",
       "  </thead>\n",
       "  <tbody>\n",
       "    <tr>\n",
       "      <th>0</th>\n",
       "      <td>88305</td>\n",
       "      <td>3m</td>\n",
       "      <td>I spent the weekend in Chicago with my friends.</td>\n",
       "    </tr>\n",
       "    <tr>\n",
       "      <th>1</th>\n",
       "      <td>88306</td>\n",
       "      <td>3m</td>\n",
       "      <td>We moved back into our house after a remodel. ...</td>\n",
       "    </tr>\n",
       "    <tr>\n",
       "      <th>2</th>\n",
       "      <td>88307</td>\n",
       "      <td>3m</td>\n",
       "      <td>My fiance proposed to me in front of my family...</td>\n",
       "    </tr>\n",
       "    <tr>\n",
       "      <th>3</th>\n",
       "      <td>88308</td>\n",
       "      <td>3m</td>\n",
       "      <td>I ate lobster at a fancy restaurant with some ...</td>\n",
       "    </tr>\n",
       "    <tr>\n",
       "      <th>4</th>\n",
       "      <td>88309</td>\n",
       "      <td>3m</td>\n",
       "      <td>I went out to a nice restaurant on a date with...</td>\n",
       "    </tr>\n",
       "  </tbody>\n",
       "</table>\n",
       "</div>"
      ],
      "text/plain": [
       "    hmid reflection_period                                         cleaned_hm\n",
       "0  88305                3m    I spent the weekend in Chicago with my friends.\n",
       "1  88306                3m  We moved back into our house after a remodel. ...\n",
       "2  88307                3m  My fiance proposed to me in front of my family...\n",
       "3  88308                3m  I ate lobster at a fancy restaurant with some ...\n",
       "4  88309                3m  I went out to a nice restaurant on a date with..."
      ]
     },
     "execution_count": 55,
     "metadata": {},
     "output_type": "execute_result"
    }
   ],
   "source": [
    "df_test = pd.read_csv('D:/Datasets/hackerearth/hm_test.csv')\n",
    "df_test.drop(['num_sentence'], axis=1, inplace=True)\n",
    "\n",
    "df_test.head()"
   ]
  },
  {
   "cell_type": "code",
   "execution_count": 56,
   "metadata": {},
   "outputs": [
    {
     "data": {
      "text/plain": [
       "40213"
      ]
     },
     "execution_count": 56,
     "metadata": {},
     "output_type": "execute_result"
    }
   ],
   "source": [
    "len(df_test)"
   ]
  },
  {
   "cell_type": "code",
   "execution_count": 57,
   "metadata": {},
   "outputs": [
    {
     "name": "stderr",
     "output_type": "stream",
     "text": [
      "progress-bar: 100%|█████████████████████████████████████████████████████████████| 40213/40213 [02:29<00:00, 268.50it/s]\n"
     ]
    }
   ],
   "source": [
    "df_test2 = postprocess(df_test)"
   ]
  },
  {
   "cell_type": "code",
   "execution_count": 58,
   "metadata": {},
   "outputs": [
    {
     "data": {
      "text/html": [
       "<div>\n",
       "<style scoped>\n",
       "    .dataframe tbody tr th:only-of-type {\n",
       "        vertical-align: middle;\n",
       "    }\n",
       "\n",
       "    .dataframe tbody tr th {\n",
       "        vertical-align: top;\n",
       "    }\n",
       "\n",
       "    .dataframe thead th {\n",
       "        text-align: right;\n",
       "    }\n",
       "</style>\n",
       "<table border=\"1\" class=\"dataframe\">\n",
       "  <thead>\n",
       "    <tr style=\"text-align: right;\">\n",
       "      <th></th>\n",
       "      <th>index</th>\n",
       "      <th>hmid</th>\n",
       "      <th>reflection_period</th>\n",
       "      <th>cleaned_hm</th>\n",
       "      <th>tokens</th>\n",
       "    </tr>\n",
       "  </thead>\n",
       "  <tbody>\n",
       "    <tr>\n",
       "      <th>40208</th>\n",
       "      <td>40208</td>\n",
       "      <td>128762</td>\n",
       "      <td>24h</td>\n",
       "      <td>My husband announced he is getting a decent bo...</td>\n",
       "      <td>[husband, announced, getting, decent, bonus, q...</td>\n",
       "    </tr>\n",
       "    <tr>\n",
       "      <th>40209</th>\n",
       "      <td>40209</td>\n",
       "      <td>128763</td>\n",
       "      <td>24h</td>\n",
       "      <td>Had a can of Pepsi to drink.</td>\n",
       "      <td>[pepsi, drink, .]</td>\n",
       "    </tr>\n",
       "    <tr>\n",
       "      <th>40210</th>\n",
       "      <td>40210</td>\n",
       "      <td>128764</td>\n",
       "      <td>24h</td>\n",
       "      <td>Cuddling with my girlfriend last night.</td>\n",
       "      <td>[cuddling, girlfriend, last, night, .]</td>\n",
       "    </tr>\n",
       "    <tr>\n",
       "      <th>40211</th>\n",
       "      <td>40211</td>\n",
       "      <td>128765</td>\n",
       "      <td>24h</td>\n",
       "      <td>I had a great meeting yesterday at work with m...</td>\n",
       "      <td>[great, meeting, yesterday, work, boss, collea...</td>\n",
       "    </tr>\n",
       "    <tr>\n",
       "      <th>40212</th>\n",
       "      <td>40212</td>\n",
       "      <td>128766</td>\n",
       "      <td>24h</td>\n",
       "      <td>I had a great workout last night.</td>\n",
       "      <td>[great, workout, last, night, .]</td>\n",
       "    </tr>\n",
       "  </tbody>\n",
       "</table>\n",
       "</div>"
      ],
      "text/plain": [
       "       index    hmid reflection_period  \\\n",
       "40208  40208  128762               24h   \n",
       "40209  40209  128763               24h   \n",
       "40210  40210  128764               24h   \n",
       "40211  40211  128765               24h   \n",
       "40212  40212  128766               24h   \n",
       "\n",
       "                                              cleaned_hm  \\\n",
       "40208  My husband announced he is getting a decent bo...   \n",
       "40209                       Had a can of Pepsi to drink.   \n",
       "40210            Cuddling with my girlfriend last night.   \n",
       "40211  I had a great meeting yesterday at work with m...   \n",
       "40212                  I had a great workout last night.   \n",
       "\n",
       "                                                  tokens  \n",
       "40208  [husband, announced, getting, decent, bonus, q...  \n",
       "40209                                  [pepsi, drink, .]  \n",
       "40210             [cuddling, girlfriend, last, night, .]  \n",
       "40211  [great, meeting, yesterday, work, boss, collea...  \n",
       "40212                   [great, workout, last, night, .]  "
      ]
     },
     "execution_count": 58,
     "metadata": {},
     "output_type": "execute_result"
    }
   ],
   "source": [
    "df_test2.tail()"
   ]
  },
  {
   "cell_type": "code",
   "execution_count": 59,
   "metadata": {},
   "outputs": [
    {
     "data": {
      "text/plain": [
       "40213"
      ]
     },
     "execution_count": 59,
     "metadata": {},
     "output_type": "execute_result"
    }
   ],
   "source": [
    "len(df_test2)"
   ]
  },
  {
   "cell_type": "code",
   "execution_count": 60,
   "metadata": {},
   "outputs": [],
   "source": [
    "df_to_test = df_test2.drop(['index', 'cleaned_hm'], axis=1)"
   ]
  },
  {
   "cell_type": "code",
   "execution_count": 61,
   "metadata": {},
   "outputs": [
    {
     "data": {
      "text/html": [
       "<div>\n",
       "<style scoped>\n",
       "    .dataframe tbody tr th:only-of-type {\n",
       "        vertical-align: middle;\n",
       "    }\n",
       "\n",
       "    .dataframe tbody tr th {\n",
       "        vertical-align: top;\n",
       "    }\n",
       "\n",
       "    .dataframe thead th {\n",
       "        text-align: right;\n",
       "    }\n",
       "</style>\n",
       "<table border=\"1\" class=\"dataframe\">\n",
       "  <thead>\n",
       "    <tr style=\"text-align: right;\">\n",
       "      <th></th>\n",
       "      <th>hmid</th>\n",
       "      <th>reflection_period</th>\n",
       "      <th>tokens</th>\n",
       "    </tr>\n",
       "  </thead>\n",
       "  <tbody>\n",
       "    <tr>\n",
       "      <th>0</th>\n",
       "      <td>88305</td>\n",
       "      <td>3m</td>\n",
       "      <td>[spent, weekend, chicago, friends, .]</td>\n",
       "    </tr>\n",
       "    <tr>\n",
       "      <th>1</th>\n",
       "      <td>88306</td>\n",
       "      <td>3m</td>\n",
       "      <td>[moved, back, house, remodel, ., lived, hotel,...</td>\n",
       "    </tr>\n",
       "    <tr>\n",
       "      <th>2</th>\n",
       "      <td>88307</td>\n",
       "      <td>3m</td>\n",
       "      <td>[fiance, proposed, front, family, beginning, m...</td>\n",
       "    </tr>\n",
       "    <tr>\n",
       "      <th>3</th>\n",
       "      <td>88308</td>\n",
       "      <td>3m</td>\n",
       "      <td>[ate, lobster, fancy, restaurant, friends, .]</td>\n",
       "    </tr>\n",
       "    <tr>\n",
       "      <th>4</th>\n",
       "      <td>88309</td>\n",
       "      <td>3m</td>\n",
       "      <td>[went, nice, restaurant, date, wife, ., popula...</td>\n",
       "    </tr>\n",
       "  </tbody>\n",
       "</table>\n",
       "</div>"
      ],
      "text/plain": [
       "    hmid reflection_period                                             tokens\n",
       "0  88305                3m              [spent, weekend, chicago, friends, .]\n",
       "1  88306                3m  [moved, back, house, remodel, ., lived, hotel,...\n",
       "2  88307                3m  [fiance, proposed, front, family, beginning, m...\n",
       "3  88308                3m      [ate, lobster, fancy, restaurant, friends, .]\n",
       "4  88309                3m  [went, nice, restaurant, date, wife, ., popula..."
      ]
     },
     "execution_count": 61,
     "metadata": {},
     "output_type": "execute_result"
    }
   ],
   "source": [
    "df_to_test.head()"
   ]
  },
  {
   "cell_type": "code",
   "execution_count": 62,
   "metadata": {},
   "outputs": [
    {
     "data": {
      "text/html": [
       "<div>\n",
       "<style scoped>\n",
       "    .dataframe tbody tr th:only-of-type {\n",
       "        vertical-align: middle;\n",
       "    }\n",
       "\n",
       "    .dataframe tbody tr th {\n",
       "        vertical-align: top;\n",
       "    }\n",
       "\n",
       "    .dataframe thead th {\n",
       "        text-align: right;\n",
       "    }\n",
       "</style>\n",
       "<table border=\"1\" class=\"dataframe\">\n",
       "  <thead>\n",
       "    <tr style=\"text-align: right;\">\n",
       "      <th></th>\n",
       "      <th>hmid</th>\n",
       "      <th>reflection_period</th>\n",
       "      <th>tokens</th>\n",
       "      <th>24h</th>\n",
       "      <th>3m</th>\n",
       "    </tr>\n",
       "  </thead>\n",
       "  <tbody>\n",
       "    <tr>\n",
       "      <th>0</th>\n",
       "      <td>88305</td>\n",
       "      <td>3m</td>\n",
       "      <td>[spent, weekend, chicago, friends, .]</td>\n",
       "      <td>False</td>\n",
       "      <td>True</td>\n",
       "    </tr>\n",
       "    <tr>\n",
       "      <th>1</th>\n",
       "      <td>88306</td>\n",
       "      <td>3m</td>\n",
       "      <td>[moved, back, house, remodel, ., lived, hotel,...</td>\n",
       "      <td>False</td>\n",
       "      <td>True</td>\n",
       "    </tr>\n",
       "    <tr>\n",
       "      <th>2</th>\n",
       "      <td>88307</td>\n",
       "      <td>3m</td>\n",
       "      <td>[fiance, proposed, front, family, beginning, m...</td>\n",
       "      <td>False</td>\n",
       "      <td>True</td>\n",
       "    </tr>\n",
       "    <tr>\n",
       "      <th>3</th>\n",
       "      <td>88308</td>\n",
       "      <td>3m</td>\n",
       "      <td>[ate, lobster, fancy, restaurant, friends, .]</td>\n",
       "      <td>False</td>\n",
       "      <td>True</td>\n",
       "    </tr>\n",
       "    <tr>\n",
       "      <th>4</th>\n",
       "      <td>88309</td>\n",
       "      <td>3m</td>\n",
       "      <td>[went, nice, restaurant, date, wife, ., popula...</td>\n",
       "      <td>False</td>\n",
       "      <td>True</td>\n",
       "    </tr>\n",
       "  </tbody>\n",
       "</table>\n",
       "</div>"
      ],
      "text/plain": [
       "    hmid reflection_period                                             tokens  \\\n",
       "0  88305                3m              [spent, weekend, chicago, friends, .]   \n",
       "1  88306                3m  [moved, back, house, remodel, ., lived, hotel,...   \n",
       "2  88307                3m  [fiance, proposed, front, family, beginning, m...   \n",
       "3  88308                3m      [ate, lobster, fancy, restaurant, friends, .]   \n",
       "4  88309                3m  [went, nice, restaurant, date, wife, ., popula...   \n",
       "\n",
       "     24h    3m  \n",
       "0  False  True  \n",
       "1  False  True  \n",
       "2  False  True  \n",
       "3  False  True  \n",
       "4  False  True  "
      ]
     },
     "execution_count": 62,
     "metadata": {},
     "output_type": "execute_result"
    }
   ],
   "source": [
    "df_to_test['24h'] = pd.to_numeric(df_test['reflection_period'] == '24h')\n",
    "df_to_test['3m'] = pd.to_numeric(df_test['reflection_period'] == '3m')\n",
    "df_to_test.head()"
   ]
  },
  {
   "cell_type": "code",
   "execution_count": 63,
   "metadata": {},
   "outputs": [
    {
     "data": {
      "text/html": [
       "<div>\n",
       "<style scoped>\n",
       "    .dataframe tbody tr th:only-of-type {\n",
       "        vertical-align: middle;\n",
       "    }\n",
       "\n",
       "    .dataframe tbody tr th {\n",
       "        vertical-align: top;\n",
       "    }\n",
       "\n",
       "    .dataframe thead th {\n",
       "        text-align: right;\n",
       "    }\n",
       "</style>\n",
       "<table border=\"1\" class=\"dataframe\">\n",
       "  <thead>\n",
       "    <tr style=\"text-align: right;\">\n",
       "      <th></th>\n",
       "      <th>hmid</th>\n",
       "      <th>reflection_period</th>\n",
       "      <th>tokens</th>\n",
       "      <th>24h</th>\n",
       "      <th>3m</th>\n",
       "    </tr>\n",
       "  </thead>\n",
       "  <tbody>\n",
       "    <tr>\n",
       "      <th>40208</th>\n",
       "      <td>128762</td>\n",
       "      <td>24h</td>\n",
       "      <td>[husband, announced, getting, decent, bonus, q...</td>\n",
       "      <td>True</td>\n",
       "      <td>False</td>\n",
       "    </tr>\n",
       "    <tr>\n",
       "      <th>40209</th>\n",
       "      <td>128763</td>\n",
       "      <td>24h</td>\n",
       "      <td>[pepsi, drink, .]</td>\n",
       "      <td>True</td>\n",
       "      <td>False</td>\n",
       "    </tr>\n",
       "    <tr>\n",
       "      <th>40210</th>\n",
       "      <td>128764</td>\n",
       "      <td>24h</td>\n",
       "      <td>[cuddling, girlfriend, last, night, .]</td>\n",
       "      <td>True</td>\n",
       "      <td>False</td>\n",
       "    </tr>\n",
       "    <tr>\n",
       "      <th>40211</th>\n",
       "      <td>128765</td>\n",
       "      <td>24h</td>\n",
       "      <td>[great, meeting, yesterday, work, boss, collea...</td>\n",
       "      <td>True</td>\n",
       "      <td>False</td>\n",
       "    </tr>\n",
       "    <tr>\n",
       "      <th>40212</th>\n",
       "      <td>128766</td>\n",
       "      <td>24h</td>\n",
       "      <td>[great, workout, last, night, .]</td>\n",
       "      <td>True</td>\n",
       "      <td>False</td>\n",
       "    </tr>\n",
       "  </tbody>\n",
       "</table>\n",
       "</div>"
      ],
      "text/plain": [
       "         hmid reflection_period  \\\n",
       "40208  128762               24h   \n",
       "40209  128763               24h   \n",
       "40210  128764               24h   \n",
       "40211  128765               24h   \n",
       "40212  128766               24h   \n",
       "\n",
       "                                                  tokens   24h     3m  \n",
       "40208  [husband, announced, getting, decent, bonus, q...  True  False  \n",
       "40209                                  [pepsi, drink, .]  True  False  \n",
       "40210             [cuddling, girlfriend, last, night, .]  True  False  \n",
       "40211  [great, meeting, yesterday, work, boss, collea...  True  False  \n",
       "40212                   [great, workout, last, night, .]  True  False  "
      ]
     },
     "execution_count": 63,
     "metadata": {},
     "output_type": "execute_result"
    }
   ],
   "source": [
    "df_to_test.tail()"
   ]
  },
  {
   "cell_type": "code",
   "execution_count": 64,
   "metadata": {},
   "outputs": [
    {
     "name": "stderr",
     "output_type": "stream",
     "text": [
      "40213it [00:00, 665670.31it/s]\n"
     ]
    }
   ],
   "source": [
    "w2v_finaltest_corpus = labelized_sentences(df_to_test.tokens, 'FTEST')"
   ]
  },
  {
   "cell_type": "code",
   "execution_count": 65,
   "metadata": {},
   "outputs": [
    {
     "data": {
      "text/plain": [
       "TaggedDocument(words=['spent', 'weekend', 'chicago', 'friends', '.'], tags=['FTEST_0'])"
      ]
     },
     "execution_count": 65,
     "metadata": {},
     "output_type": "execute_result"
    }
   ],
   "source": [
    "w2v_finaltest_corpus[0]"
   ]
  },
  {
   "cell_type": "code",
   "execution_count": 66,
   "metadata": {},
   "outputs": [],
   "source": [
    "t_vectorizer = TfidfVectorizer(analyzer=lambda x: x, min_df=10)\n",
    "t_matrix = t_vectorizer.fit_transform([x.words for x in w2v_finaltest_corpus])\n",
    "t_tfidf = dict(zip(t_vectorizer.get_feature_names(), t_vectorizer.idf_))"
   ]
  },
  {
   "cell_type": "code",
   "execution_count": 67,
   "metadata": {},
   "outputs": [
    {
     "data": {
      "text/plain": [
       "3410"
      ]
     },
     "execution_count": 67,
     "metadata": {},
     "output_type": "execute_result"
    }
   ],
   "source": [
    "len(t_tfidf)"
   ]
  },
  {
   "cell_type": "code",
   "execution_count": 68,
   "metadata": {},
   "outputs": [
    {
     "name": "stderr",
     "output_type": "stream",
     "text": [
      "40213it [00:00, 75851.58it/s]\n"
     ]
    }
   ],
   "source": [
    "ftest_vecs_w2v = np.concatenate([build_word_vector(z, 300) for z in tqdm(map(lambda x: x.words, w2v_finaltest_corpus))])"
   ]
  },
  {
   "cell_type": "code",
   "execution_count": 69,
   "metadata": {},
   "outputs": [
    {
     "data": {
      "text/plain": [
       "array([[ 1.37737083,  0.87410074,  0.18011773, ..., -0.22117397,\n",
       "         0.99064749, -0.02797785],\n",
       "       [-0.09140459,  1.82964754, -0.75301826, ..., -0.77479976,\n",
       "         0.87126076, -0.34383684],\n",
       "       [-0.83390683, -2.70347214, -1.27776051, ..., -1.04910862,\n",
       "         0.38332814, -0.42367849],\n",
       "       ...,\n",
       "       [ 0.46073484, -1.47598243, -1.52490997, ...,  0.20182632,\n",
       "        -1.33735418,  2.72363615],\n",
       "       [ 0.31513256,  0.91324127, -0.12487395, ..., -0.73745304,\n",
       "        -0.09164569, -0.62597758],\n",
       "       [ 0.31513256,  0.91324127, -0.12487395, ..., -0.73745304,\n",
       "        -0.09164569, -0.62597758]])"
      ]
     },
     "execution_count": 69,
     "metadata": {},
     "output_type": "execute_result"
    }
   ],
   "source": [
    "ftest_vecs_w2v"
   ]
  },
  {
   "cell_type": "code",
   "execution_count": 70,
   "metadata": {},
   "outputs": [
    {
     "data": {
      "text/plain": [
       "(40213, 300)"
      ]
     },
     "execution_count": 70,
     "metadata": {},
     "output_type": "execute_result"
    }
   ],
   "source": [
    "ftest_vecs_w2v.shape"
   ]
  },
  {
   "cell_type": "code",
   "execution_count": 71,
   "metadata": {},
   "outputs": [],
   "source": [
    "preds = model.predict(ftest_vecs_w2v, batch_size=128)"
   ]
  },
  {
   "cell_type": "code",
   "execution_count": 72,
   "metadata": {},
   "outputs": [
    {
     "data": {
      "text/plain": [
       "(40213, 7)"
      ]
     },
     "execution_count": 72,
     "metadata": {},
     "output_type": "execute_result"
    }
   ],
   "source": [
    "preds.shape"
   ]
  },
  {
   "cell_type": "code",
   "execution_count": 73,
   "metadata": {},
   "outputs": [
    {
     "data": {
      "text/plain": [
       "array([0.23947774, 0.9933524 , 0.18618575, 0.10845323, 0.09324333,\n",
       "       0.29971734, 0.2727763 ], dtype=float32)"
      ]
     },
     "execution_count": 73,
     "metadata": {},
     "output_type": "execute_result"
    }
   ],
   "source": [
    "preds[0]"
   ]
  },
  {
   "cell_type": "code",
   "execution_count": 77,
   "metadata": {},
   "outputs": [],
   "source": [
    "categories = []\n",
    "for pred in preds:\n",
    "    dummy = np.zeros((7,))\n",
    "    dummy[np.argmax(pred)] = 1\n",
    "    categories.append(cats_to_labels[tuple(dummy)])"
   ]
  },
  {
   "cell_type": "code",
   "execution_count": 78,
   "metadata": {},
   "outputs": [],
   "source": [
    "categories = np.array(categories)"
   ]
  },
  {
   "cell_type": "code",
   "execution_count": 79,
   "metadata": {},
   "outputs": [
    {
     "data": {
      "text/plain": [
       "(40213,)"
      ]
     },
     "execution_count": 79,
     "metadata": {},
     "output_type": "execute_result"
    }
   ],
   "source": [
    "categories.shape"
   ]
  },
  {
   "cell_type": "code",
   "execution_count": 80,
   "metadata": {},
   "outputs": [],
   "source": [
    "df_predictions = df_test.copy()"
   ]
  },
  {
   "cell_type": "code",
   "execution_count": 82,
   "metadata": {},
   "outputs": [],
   "source": [
    "df_predictions.drop(['index', 'reflection_period', 'cleaned_hm', 'tokens'], axis=1, inplace=True)"
   ]
  },
  {
   "cell_type": "code",
   "execution_count": 83,
   "metadata": {},
   "outputs": [
    {
     "data": {
      "text/html": [
       "<div>\n",
       "<style scoped>\n",
       "    .dataframe tbody tr th:only-of-type {\n",
       "        vertical-align: middle;\n",
       "    }\n",
       "\n",
       "    .dataframe tbody tr th {\n",
       "        vertical-align: top;\n",
       "    }\n",
       "\n",
       "    .dataframe thead th {\n",
       "        text-align: right;\n",
       "    }\n",
       "</style>\n",
       "<table border=\"1\" class=\"dataframe\">\n",
       "  <thead>\n",
       "    <tr style=\"text-align: right;\">\n",
       "      <th></th>\n",
       "      <th>hmid</th>\n",
       "    </tr>\n",
       "  </thead>\n",
       "  <tbody>\n",
       "    <tr>\n",
       "      <th>0</th>\n",
       "      <td>88305</td>\n",
       "    </tr>\n",
       "    <tr>\n",
       "      <th>1</th>\n",
       "      <td>88306</td>\n",
       "    </tr>\n",
       "    <tr>\n",
       "      <th>2</th>\n",
       "      <td>88307</td>\n",
       "    </tr>\n",
       "    <tr>\n",
       "      <th>3</th>\n",
       "      <td>88308</td>\n",
       "    </tr>\n",
       "    <tr>\n",
       "      <th>4</th>\n",
       "      <td>88309</td>\n",
       "    </tr>\n",
       "  </tbody>\n",
       "</table>\n",
       "</div>"
      ],
      "text/plain": [
       "    hmid\n",
       "0  88305\n",
       "1  88306\n",
       "2  88307\n",
       "3  88308\n",
       "4  88309"
      ]
     },
     "execution_count": 83,
     "metadata": {},
     "output_type": "execute_result"
    }
   ],
   "source": [
    "df_predictions.head()"
   ]
  },
  {
   "cell_type": "code",
   "execution_count": 84,
   "metadata": {},
   "outputs": [],
   "source": [
    "df_predictions['predicted_category'] = categories"
   ]
  },
  {
   "cell_type": "code",
   "execution_count": 89,
   "metadata": {},
   "outputs": [],
   "source": [
    "df_predictions.to_csv('D:/Datasets/hackerearth/sumbission_word2vec-d256-d64-e50.csv', index=False)"
   ]
  },
  {
   "cell_type": "code",
   "execution_count": 87,
   "metadata": {},
   "outputs": [
    {
     "data": {
      "text/html": [
       "<div>\n",
       "<style scoped>\n",
       "    .dataframe tbody tr th:only-of-type {\n",
       "        vertical-align: middle;\n",
       "    }\n",
       "\n",
       "    .dataframe tbody tr th {\n",
       "        vertical-align: top;\n",
       "    }\n",
       "\n",
       "    .dataframe thead th {\n",
       "        text-align: right;\n",
       "    }\n",
       "</style>\n",
       "<table border=\"1\" class=\"dataframe\">\n",
       "  <thead>\n",
       "    <tr style=\"text-align: right;\">\n",
       "      <th></th>\n",
       "      <th>predicted_category</th>\n",
       "    </tr>\n",
       "    <tr>\n",
       "      <th>hmid</th>\n",
       "      <th></th>\n",
       "    </tr>\n",
       "  </thead>\n",
       "  <tbody>\n",
       "    <tr>\n",
       "      <th>88305</th>\n",
       "      <td>affection</td>\n",
       "    </tr>\n",
       "    <tr>\n",
       "      <th>88306</th>\n",
       "      <td>achievement</td>\n",
       "    </tr>\n",
       "    <tr>\n",
       "      <th>88307</th>\n",
       "      <td>affection</td>\n",
       "    </tr>\n",
       "    <tr>\n",
       "      <th>88308</th>\n",
       "      <td>enjoy_the_moment</td>\n",
       "    </tr>\n",
       "    <tr>\n",
       "      <th>88309</th>\n",
       "      <td>affection</td>\n",
       "    </tr>\n",
       "    <tr>\n",
       "      <th>88310</th>\n",
       "      <td>leisure</td>\n",
       "    </tr>\n",
       "    <tr>\n",
       "      <th>88311</th>\n",
       "      <td>achievement</td>\n",
       "    </tr>\n",
       "    <tr>\n",
       "      <th>88312</th>\n",
       "      <td>affection</td>\n",
       "    </tr>\n",
       "    <tr>\n",
       "      <th>88313</th>\n",
       "      <td>affection</td>\n",
       "    </tr>\n",
       "    <tr>\n",
       "      <th>88314</th>\n",
       "      <td>affection</td>\n",
       "    </tr>\n",
       "    <tr>\n",
       "      <th>88315</th>\n",
       "      <td>achievement</td>\n",
       "    </tr>\n",
       "    <tr>\n",
       "      <th>88316</th>\n",
       "      <td>affection</td>\n",
       "    </tr>\n",
       "    <tr>\n",
       "      <th>88317</th>\n",
       "      <td>affection</td>\n",
       "    </tr>\n",
       "    <tr>\n",
       "      <th>88318</th>\n",
       "      <td>achievement</td>\n",
       "    </tr>\n",
       "    <tr>\n",
       "      <th>88319</th>\n",
       "      <td>achievement</td>\n",
       "    </tr>\n",
       "    <tr>\n",
       "      <th>88320</th>\n",
       "      <td>affection</td>\n",
       "    </tr>\n",
       "    <tr>\n",
       "      <th>88321</th>\n",
       "      <td>achievement</td>\n",
       "    </tr>\n",
       "    <tr>\n",
       "      <th>88322</th>\n",
       "      <td>affection</td>\n",
       "    </tr>\n",
       "    <tr>\n",
       "      <th>88323</th>\n",
       "      <td>affection</td>\n",
       "    </tr>\n",
       "    <tr>\n",
       "      <th>88324</th>\n",
       "      <td>affection</td>\n",
       "    </tr>\n",
       "    <tr>\n",
       "      <th>88325</th>\n",
       "      <td>affection</td>\n",
       "    </tr>\n",
       "    <tr>\n",
       "      <th>88326</th>\n",
       "      <td>achievement</td>\n",
       "    </tr>\n",
       "    <tr>\n",
       "      <th>88327</th>\n",
       "      <td>affection</td>\n",
       "    </tr>\n",
       "    <tr>\n",
       "      <th>88328</th>\n",
       "      <td>affection</td>\n",
       "    </tr>\n",
       "    <tr>\n",
       "      <th>88329</th>\n",
       "      <td>achievement</td>\n",
       "    </tr>\n",
       "    <tr>\n",
       "      <th>88330</th>\n",
       "      <td>affection</td>\n",
       "    </tr>\n",
       "    <tr>\n",
       "      <th>88331</th>\n",
       "      <td>enjoy_the_moment</td>\n",
       "    </tr>\n",
       "    <tr>\n",
       "      <th>88332</th>\n",
       "      <td>achievement</td>\n",
       "    </tr>\n",
       "    <tr>\n",
       "      <th>88333</th>\n",
       "      <td>bonding</td>\n",
       "    </tr>\n",
       "    <tr>\n",
       "      <th>88334</th>\n",
       "      <td>achievement</td>\n",
       "    </tr>\n",
       "    <tr>\n",
       "      <th>...</th>\n",
       "      <td>...</td>\n",
       "    </tr>\n",
       "    <tr>\n",
       "      <th>128737</th>\n",
       "      <td>nature</td>\n",
       "    </tr>\n",
       "    <tr>\n",
       "      <th>128738</th>\n",
       "      <td>achievement</td>\n",
       "    </tr>\n",
       "    <tr>\n",
       "      <th>128739</th>\n",
       "      <td>leisure</td>\n",
       "    </tr>\n",
       "    <tr>\n",
       "      <th>128740</th>\n",
       "      <td>achievement</td>\n",
       "    </tr>\n",
       "    <tr>\n",
       "      <th>128741</th>\n",
       "      <td>affection</td>\n",
       "    </tr>\n",
       "    <tr>\n",
       "      <th>128742</th>\n",
       "      <td>bonding</td>\n",
       "    </tr>\n",
       "    <tr>\n",
       "      <th>128743</th>\n",
       "      <td>affection</td>\n",
       "    </tr>\n",
       "    <tr>\n",
       "      <th>128744</th>\n",
       "      <td>bonding</td>\n",
       "    </tr>\n",
       "    <tr>\n",
       "      <th>128745</th>\n",
       "      <td>affection</td>\n",
       "    </tr>\n",
       "    <tr>\n",
       "      <th>128746</th>\n",
       "      <td>affection</td>\n",
       "    </tr>\n",
       "    <tr>\n",
       "      <th>128747</th>\n",
       "      <td>enjoy_the_moment</td>\n",
       "    </tr>\n",
       "    <tr>\n",
       "      <th>128748</th>\n",
       "      <td>affection</td>\n",
       "    </tr>\n",
       "    <tr>\n",
       "      <th>128749</th>\n",
       "      <td>achievement</td>\n",
       "    </tr>\n",
       "    <tr>\n",
       "      <th>128750</th>\n",
       "      <td>bonding</td>\n",
       "    </tr>\n",
       "    <tr>\n",
       "      <th>128751</th>\n",
       "      <td>achievement</td>\n",
       "    </tr>\n",
       "    <tr>\n",
       "      <th>128752</th>\n",
       "      <td>affection</td>\n",
       "    </tr>\n",
       "    <tr>\n",
       "      <th>128753</th>\n",
       "      <td>achievement</td>\n",
       "    </tr>\n",
       "    <tr>\n",
       "      <th>128754</th>\n",
       "      <td>achievement</td>\n",
       "    </tr>\n",
       "    <tr>\n",
       "      <th>128755</th>\n",
       "      <td>achievement</td>\n",
       "    </tr>\n",
       "    <tr>\n",
       "      <th>128756</th>\n",
       "      <td>affection</td>\n",
       "    </tr>\n",
       "    <tr>\n",
       "      <th>128757</th>\n",
       "      <td>achievement</td>\n",
       "    </tr>\n",
       "    <tr>\n",
       "      <th>128758</th>\n",
       "      <td>affection</td>\n",
       "    </tr>\n",
       "    <tr>\n",
       "      <th>128759</th>\n",
       "      <td>affection</td>\n",
       "    </tr>\n",
       "    <tr>\n",
       "      <th>128760</th>\n",
       "      <td>affection</td>\n",
       "    </tr>\n",
       "    <tr>\n",
       "      <th>128761</th>\n",
       "      <td>affection</td>\n",
       "    </tr>\n",
       "    <tr>\n",
       "      <th>128762</th>\n",
       "      <td>affection</td>\n",
       "    </tr>\n",
       "    <tr>\n",
       "      <th>128763</th>\n",
       "      <td>affection</td>\n",
       "    </tr>\n",
       "    <tr>\n",
       "      <th>128764</th>\n",
       "      <td>affection</td>\n",
       "    </tr>\n",
       "    <tr>\n",
       "      <th>128765</th>\n",
       "      <td>affection</td>\n",
       "    </tr>\n",
       "    <tr>\n",
       "      <th>128766</th>\n",
       "      <td>affection</td>\n",
       "    </tr>\n",
       "  </tbody>\n",
       "</table>\n",
       "<p>40213 rows × 1 columns</p>\n",
       "</div>"
      ],
      "text/plain": [
       "       predicted_category\n",
       "hmid                     \n",
       "88305           affection\n",
       "88306         achievement\n",
       "88307           affection\n",
       "88308    enjoy_the_moment\n",
       "88309           affection\n",
       "88310             leisure\n",
       "88311         achievement\n",
       "88312           affection\n",
       "88313           affection\n",
       "88314           affection\n",
       "88315         achievement\n",
       "88316           affection\n",
       "88317           affection\n",
       "88318         achievement\n",
       "88319         achievement\n",
       "88320           affection\n",
       "88321         achievement\n",
       "88322           affection\n",
       "88323           affection\n",
       "88324           affection\n",
       "88325           affection\n",
       "88326         achievement\n",
       "88327           affection\n",
       "88328           affection\n",
       "88329         achievement\n",
       "88330           affection\n",
       "88331    enjoy_the_moment\n",
       "88332         achievement\n",
       "88333             bonding\n",
       "88334         achievement\n",
       "...                   ...\n",
       "128737             nature\n",
       "128738        achievement\n",
       "128739            leisure\n",
       "128740        achievement\n",
       "128741          affection\n",
       "128742            bonding\n",
       "128743          affection\n",
       "128744            bonding\n",
       "128745          affection\n",
       "128746          affection\n",
       "128747   enjoy_the_moment\n",
       "128748          affection\n",
       "128749        achievement\n",
       "128750            bonding\n",
       "128751        achievement\n",
       "128752          affection\n",
       "128753        achievement\n",
       "128754        achievement\n",
       "128755        achievement\n",
       "128756          affection\n",
       "128757        achievement\n",
       "128758          affection\n",
       "128759          affection\n",
       "128760          affection\n",
       "128761          affection\n",
       "128762          affection\n",
       "128763          affection\n",
       "128764          affection\n",
       "128765          affection\n",
       "128766          affection\n",
       "\n",
       "[40213 rows x 1 columns]"
      ]
     },
     "execution_count": 87,
     "metadata": {},
     "output_type": "execute_result"
    }
   ],
   "source": [
    "df_predictions.set_index('hmid')"
   ]
  },
  {
   "cell_type": "code",
   "execution_count": null,
   "metadata": {},
   "outputs": [],
   "source": []
  }
 ],
 "metadata": {
  "kernelspec": {
   "display_name": "Python 3",
   "language": "python",
   "name": "python3"
  },
  "language_info": {
   "codemirror_mode": {
    "name": "ipython",
    "version": 3
   },
   "file_extension": ".py",
   "mimetype": "text/x-python",
   "name": "python",
   "nbconvert_exporter": "python",
   "pygments_lexer": "ipython3",
   "version": "3.6.5"
  }
 },
 "nbformat": 4,
 "nbformat_minor": 2
}
