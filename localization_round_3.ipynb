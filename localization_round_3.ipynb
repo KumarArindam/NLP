{
 "cells": [
  {
   "cell_type": "markdown",
   "metadata": {},
   "source": [
    "Setup environment."
   ]
  },
  {
   "cell_type": "code",
   "execution_count": 1,
   "metadata": {},
   "outputs": [],
   "source": [
    "!pip install fastai==0.7.0"
   ]
  },
  {
   "cell_type": "markdown",
   "metadata": {},
   "source": [
    "<pre>\n",
    "Collecting fastai==0.7.0\n",
    "  Downloading https://files.pythonhosted.org/packages/50/6d/9d0d6e17a78b0598d5e8c49a0d03ffc7ff265ae62eca3e2345fab14edb9b/fastai-0.7.0-py3-none-any.whl (112kB)\n",
    "    100% |████████████████████████████████| 122kB 4.7MB/s \n",
    "Requirement already satisfied: ipython-genutils in /usr/local/lib/python3.6/dist-packages (from fastai==0.7.0) (0.2.0)\n",
    "Requirement already satisfied: ipywidgets in /usr/local/lib/python3.6/dist-packages (from fastai==0.7.0) (7.4.2)\n",
    "Requirement already satisfied: simplegeneric in /usr/local/lib/python3.6/dist-packages (from fastai==0.7.0) (0.8.1)\n",
    "Requirement already satisfied: pickleshare in /usr/local/lib/python3.6/dist-packages (from fastai==0.7.0) (0.7.5)\n",
    "Requirement already satisfied: torchtext in /usr/local/lib/python3.6/dist-packages (from fastai==0.7.0) (0.3.1)\n",
    "Requirement already satisfied: python-dateutil in /usr/local/lib/python3.6/dist-packages (from fastai==0.7.0) (2.5.3)\n",
    "Requirement already satisfied: matplotlib in /usr/local/lib/python3.6/dist-packages (from fastai==0.7.0) (3.0.2)\n",
    "Requirement already satisfied: bleach in /usr/local/lib/python3.6/dist-packages (from fastai==0.7.0) (3.1.0)\n",
    "Requirement already satisfied: opencv-python in /usr/local/lib/python3.6/dist-packages (from fastai==0.7.0) (3.4.5.20)\n",
    "Requirement already satisfied: Pillow in /usr/local/lib/python3.6/dist-packages (from fastai==0.7.0) (4.0.0)\n",
    "Collecting jedi (from fastai==0.7.0)\n",
    "  Downloading https://files.pythonhosted.org/packages/c2/bc/54d53f5bc4658380d0eca9055d72be4df45e5bfd91a4bac97da224a92553/jedi-0.13.2-py2.py3-none-any.whl (177kB)\n",
    "    100% |████████████████████████████████| 184kB 8.9MB/s \n",
    "Collecting torch<0.4 (from fastai==0.7.0)\n",
    "  Downloading https://files.pythonhosted.org/packages/5b/a5/e8b50b55b1abac9f1e3346c4242f1e42a82d368a8442cbd50c532922f6c4/torch-0.3.1-cp36-cp36m-manylinux1_x86_64.whl (496.4MB)\n",
    "    100% |████████████████████████████████| 496.4MB 35kB/s \n",
    "Requirement already satisfied: webencodings in /usr/local/lib/python3.6/dist-packages (from fastai==0.7.0) (0.5.1)\n",
    "Requirement already satisfied: widgetsnbextension in /usr/local/lib/python3.6/dist-packages (from fastai==0.7.0) (3.4.2)\n",
    "Requirement already satisfied: MarkupSafe in /usr/local/lib/python3.6/dist-packages (from fastai==0.7.0) (1.1.0)\n",
    "Requirement already satisfied: cycler in /usr/local/lib/python3.6/dist-packages (from fastai==0.7.0) (0.10.0)\n",
    "Requirement already satisfied: decorator in /usr/local/lib/python3.6/dist-packages (from fastai==0.7.0) (4.3.2)\n",
    "Collecting sklearn-pandas (from fastai==0.7.0)\n",
    "  Downloading https://files.pythonhosted.org/packages/1f/48/4e1461d828baf41d609efaa720d20090ac6ec346b5daad3c88e243e2207e/sklearn_pandas-1.8.0-py2.py3-none-any.whl\n",
    "Requirement already satisfied: pandas in /usr/local/lib/python3.6/dist-packages (from fastai==0.7.0) (0.22.0)\n",
    "Collecting plotnine (from fastai==0.7.0)\n",
    "  Downloading https://files.pythonhosted.org/packages/84/02/b171c828560aea3a5da1efda464230dac3ef4f4834b88e0bd52ad14a08f0/plotnine-0.5.1-py2.py3-none-any.whl (3.6MB)\n",
    "    100% |████████████████████████████████| 3.6MB 5.3MB/s \n",
    "Requirement already satisfied: pytz in /usr/local/lib/python3.6/dist-packages (from fastai==0.7.0) (2018.9)\n",
    "Requirement already satisfied: tornado in /usr/local/lib/python3.6/dist-packages (from fastai==0.7.0) (4.5.3)\n",
    "Requirement already satisfied: seaborn in /usr/local/lib/python3.6/dist-packages (from fastai==0.7.0) (0.7.1)\n",
    "Requirement already satisfied: wcwidth in /usr/local/lib/python3.6/dist-packages (from fastai==0.7.0) (0.1.7)\n",
    "Requirement already satisfied: ipykernel in /usr/local/lib/python3.6/dist-packages (from fastai==0.7.0) (4.6.1)\n",
    "Requirement already satisfied: torchvision in /usr/local/lib/python3.6/dist-packages (from fastai==0.7.0) (0.2.1)\n",
    "Requirement already satisfied: tqdm in /usr/local/lib/python3.6/dist-packages (from fastai==0.7.0) (4.28.1)\n",
    "Requirement already satisfied: entrypoints in /usr/local/lib/python3.6/dist-packages (from fastai==0.7.0) (0.3)\n",
    "Requirement already satisfied: testpath in /usr/local/lib/python3.6/dist-packages (from fastai==0.7.0) (0.4.2)\n",
    "Requirement already satisfied: Pygments in /usr/local/lib/python3.6/dist-packages (from fastai==0.7.0) (2.1.3)\n",
    "Requirement already satisfied: graphviz in /usr/local/lib/python3.6/dist-packages (from fastai==0.7.0) (0.10.1)\n",
    "Requirement already satisfied: ipython in /usr/local/lib/python3.6/dist-packages (from fastai==0.7.0) (5.5.0)\n",
    "Requirement already satisfied: PyYAML in /usr/local/lib/python3.6/dist-packages (from fastai==0.7.0) (3.13)\n",
    "Collecting pandas-summary (from fastai==0.7.0)\n",
    "  Downloading https://files.pythonhosted.org/packages/6b/00/f7b4d7fd901db9a79d63e88000bd1e12efba4f5fb52608f906d7fea2b18f/pandas_summary-0.0.6-py2.py3-none-any.whl\n",
    "Requirement already satisfied: pyparsing in /usr/local/lib/python3.6/dist-packages (from fastai==0.7.0) (2.3.1)\n",
    "Requirement already satisfied: jsonschema in /usr/local/lib/python3.6/dist-packages (from fastai==0.7.0) (2.6.0)\n",
    "Requirement already satisfied: jupyter in /usr/local/lib/python3.6/dist-packages (from fastai==0.7.0) (1.0.0)\n",
    "Collecting bcolz (from fastai==0.7.0)\n",
    "  Downloading https://files.pythonhosted.org/packages/5c/4e/23942de9d5c0fb16f10335fa83e52b431bcb8c0d4a8419c9ac206268c279/bcolz-1.2.1.tar.gz (1.5MB)\n",
    "    100% |████████████████████████████████| 1.5MB 7.5MB/s \n",
    "Requirement already satisfied: scipy in /usr/local/lib/python3.6/dist-packages (from fastai==0.7.0) (1.1.0)\n",
    "Requirement already satisfied: html5lib in /usr/local/lib/python3.6/dist-packages (from fastai==0.7.0) (1.0.1)\n",
    "Collecting isoweek (from fastai==0.7.0)\n",
    "  Downloading https://files.pythonhosted.org/packages/c2/d4/fe7e2637975c476734fcbf53776e650a29680194eb0dd21dbdc020ca92de/isoweek-1.3.3-py2.py3-none-any.whl\n",
    "Requirement already satisfied: traitlets in /usr/local/lib/python3.6/dist-packages (from fastai==0.7.0) (4.3.2)\n",
    "Collecting feather-format (from fastai==0.7.0)\n",
    "  Downloading https://files.pythonhosted.org/packages/08/55/940b97cc6f19a19f5dab9efef2f68a0ce43a7632f858b272391f0b851a7e/feather-format-0.4.0.tar.gz\n",
    "Requirement already satisfied: numpy in /usr/local/lib/python3.6/dist-packages (from fastai==0.7.0) (1.14.6)\n",
    "Requirement already satisfied: pyzmq in /usr/local/lib/python3.6/dist-packages (from fastai==0.7.0) (17.0.0)\n",
    "Requirement already satisfied: Jinja2 in /usr/local/lib/python3.6/dist-packages (from fastai==0.7.0) (2.10)\n",
    "Requirement already satisfied: ptyprocess in /usr/local/lib/python3.6/dist-packages (from fastai==0.7.0) (0.6.0)\n",
    "Requirement already satisfied: certifi in /usr/local/lib/python3.6/dist-packages (from fastai==0.7.0) (2018.11.29)\n",
    "Requirement already satisfied: nbformat>=4.2.0 in /usr/local/lib/python3.6/dist-packages (from ipywidgets->fastai==0.7.0) (4.4.0)\n",
    "Requirement already satisfied: requests in /usr/local/lib/python3.6/dist-packages (from torchtext->fastai==0.7.0) (2.18.4)\n",
    "Requirement already satisfied: six>=1.5 in /usr/local/lib/python3.6/dist-packages (from python-dateutil->fastai==0.7.0) (1.11.0)\n",
    "Requirement already satisfied: kiwisolver>=1.0.1 in /usr/local/lib/python3.6/dist-packages (from matplotlib->fastai==0.7.0) (1.0.1)\n",
    "Requirement already satisfied: olefile in /usr/local/lib/python3.6/dist-packages (from Pillow->fastai==0.7.0) (0.46)\n",
    "Collecting parso>=0.3.0 (from jedi->fastai==0.7.0)\n",
    "  Downloading https://files.pythonhosted.org/packages/f9/95/917fbfaca4c173651cb8f02bd50712414a0e2a154c8b7077a80027c0864b/parso-0.3.3-py2.py3-none-any.whl (93kB)\n",
    "    100% |████████████████████████████████| 102kB 28.9MB/s \n",
    "Requirement already satisfied: notebook>=4.4.1 in /usr/local/lib/python3.6/dist-packages (from widgetsnbextension->fastai==0.7.0) (5.2.2)\n",
    "Requirement already satisfied: scikit-learn>=0.15.0 in /usr/local/lib/python3.6/dist-packages (from sklearn-pandas->fastai==0.7.0) (0.20.2)\n",
    "Requirement already satisfied: statsmodels>=0.8.0 in /usr/local/lib/python3.6/dist-packages (from plotnine->fastai==0.7.0) (0.8.0)\n",
    "Collecting descartes>=1.1.0 (from plotnine->fastai==0.7.0)\n",
    "  Downloading https://files.pythonhosted.org/packages/e5/b6/1ed2eb03989ae574584664985367ba70cd9cf8b32ee8cad0e8aaeac819f3/descartes-1.1.0-py3-none-any.whl\n",
    "Requirement already satisfied: patsy>=0.4.1 in /usr/local/lib/python3.6/dist-packages (from plotnine->fastai==0.7.0) (0.5.1)\n",
    "Collecting mizani>=0.5.2 (from plotnine->fastai==0.7.0)\n",
    "  Downloading https://files.pythonhosted.org/packages/21/00/f9b9334c94fe0f5267c81697b3f8a85b360144b3840f08526344c4dcae72/mizani-0.5.3-py2.py3-none-any.whl (59kB)\n",
    "    100% |████████████████████████████████| 61kB 23.4MB/s \n",
    "Requirement already satisfied: jupyter-client in /usr/local/lib/python3.6/dist-packages (from ipykernel->fastai==0.7.0) (5.2.4)\n",
    "Requirement already satisfied: setuptools>=18.5 in /usr/local/lib/python3.6/dist-packages (from ipython->fastai==0.7.0) (40.8.0)\n",
    "Requirement already satisfied: pexpect; sys_platform != \"win32\" in /usr/local/lib/python3.6/dist-packages (from ipython->fastai==0.7.0) (4.6.0)\n",
    "Requirement already satisfied: prompt-toolkit<2.0.0,>=1.0.4 in /usr/local/lib/python3.6/dist-packages (from ipython->fastai==0.7.0) (1.0.15)\n",
    "Requirement already satisfied: nbconvert in /usr/local/lib/python3.6/dist-packages (from jupyter->fastai==0.7.0) (5.4.0)\n",
    "Requirement already satisfied: qtconsole in /usr/local/lib/python3.6/dist-packages (from jupyter->fastai==0.7.0) (4.4.3)\n",
    "Requirement already satisfied: jupyter-console in /usr/local/lib/python3.6/dist-packages (from jupyter->fastai==0.7.0) (6.0.0)\n",
    "Collecting pyarrow>=0.4.0 (from feather-format->fastai==0.7.0)\n",
    "  Downloading https://files.pythonhosted.org/packages/42/be/8682e7f6c12dd42f31f32b18d5d61b4f578f12aaa9058081aef954a481d3/pyarrow-0.12.0-cp36-cp36m-manylinux1_x86_64.whl (12.5MB)\n",
    "    100% |████████████████████████████████| 12.5MB 2.9MB/s \n",
    "Requirement already satisfied: jupyter-core in /usr/local/lib/python3.6/dist-packages (from nbformat>=4.2.0->ipywidgets->fastai==0.7.0) (4.4.0)\n",
    "Requirement already satisfied: urllib3<1.23,>=1.21.1 in /usr/local/lib/python3.6/dist-packages (from requests->torchtext->fastai==0.7.0) (1.22)\n",
    "Requirement already satisfied: idna<2.7,>=2.5 in /usr/local/lib/python3.6/dist-packages (from requests->torchtext->fastai==0.7.0) (2.6)\n",
    "Requirement already satisfied: chardet<3.1.0,>=3.0.2 in /usr/local/lib/python3.6/dist-packages (from requests->torchtext->fastai==0.7.0) (3.0.4)\n",
    "Requirement already satisfied: terminado>=0.3.3; sys_platform != \"win32\" in /usr/local/lib/python3.6/dist-packages (from notebook>=4.4.1->widgetsnbextension->fastai==0.7.0) (0.8.1)\n",
    "Collecting palettable (from mizani>=0.5.2->plotnine->fastai==0.7.0)\n",
    "  Downloading https://files.pythonhosted.org/packages/56/8a/84537c0354f0d1f03bf644b71bf8e0a50db9c1294181905721a5f3efbf66/palettable-3.1.1-py2.py3-none-any.whl (77kB)\n",
    "    100% |████████████████████████████████| 81kB 27.2MB/s \n",
    "Requirement already satisfied: pandocfilters>=1.4.1 in /usr/local/lib/python3.6/dist-packages (from nbconvert->jupyter->fastai==0.7.0) (1.4.2)\n",
    "Requirement already satisfied: mistune>=0.8.1 in /usr/local/lib/python3.6/dist-packages (from nbconvert->jupyter->fastai==0.7.0) (0.8.4)\n",
    "Requirement already satisfied: defusedxml in /usr/local/lib/python3.6/dist-packages (from nbconvert->jupyter->fastai==0.7.0) (0.5.0)\n",
    "Building wheels for collected packages: bcolz, feather-format\n",
    "  Building wheel for bcolz (setup.py) ... done\n",
    "  Stored in directory: /root/.cache/pip/wheels/9f/78/26/fb8c0acb91a100dc8914bf236c4eaa4b207cb876893c40b745\n",
    "  Building wheel for feather-format (setup.py) ... done\n",
    "  Stored in directory: /root/.cache/pip/wheels/85/7d/12/2dfa5c0195f921ac935f5e8f27deada74972edc0ae9988a9c1\n",
    "Successfully built bcolz feather-format\n",
    "torchvision 0.2.1 has requirement pillow>=4.1.1, but you'll have pillow 4.0.0 which is incompatible.\n",
    "mizani 0.5.3 has requirement pandas>=0.23.4, but you'll have pandas 0.22.0 which is incompatible.\n",
    "plotnine 0.5.1 has requirement pandas>=0.23.4, but you'll have pandas 0.22.0 which is incompatible.\n",
    "Installing collected packages: parso, jedi, torch, sklearn-pandas, descartes, palettable, mizani, plotnine, pandas-summary, bcolz, isoweek, pyarrow, feather-format, fastai\n",
    "  Found existing installation: torch 1.0.0\n",
    "    Uninstalling torch-1.0.0:\n",
    "      Successfully uninstalled torch-1.0.0\n",
    "  Found existing installation: fastai 1.0.42\n",
    "    Uninstalling fastai-1.0.42:\n",
    "      Successfully uninstalled fastai-1.0.42\n",
    "Successfully installed bcolz-1.2.1 descartes-1.1.0 fastai-0.7.0 feather-format-0.4.0 isoweek-1.3.3 jedi-0.13.2 mizani-0.5.3 palettable-3.1.1 pandas-summary-0.0.6 parso-0.3.3 plotnine-0.5.1 pyarrow-0.12.0 sklearn-pandas-1.8.0 torch-0.3.1"
   ]
  },
  {
   "cell_type": "code",
   "execution_count": 2,
   "metadata": {},
   "outputs": [],
   "source": [
    "!pip uninstall torch"
   ]
  },
  {
   "cell_type": "markdown",
   "metadata": {},
   "source": [
    "<pre>\n",
    "Uninstalling torch-0.3.1:\n",
    "  Would remove:\n",
    "    /usr/local/lib/python3.6/dist-packages/torch-0.3.1.dist-info/*\n",
    "    /usr/local/lib/python3.6/dist-packages/torch/*\n",
    "Proceed (y/n)? y\n",
    "  Successfully uninstalled torch-0.3.1"
   ]
  },
  {
   "cell_type": "code",
   "execution_count": 3,
   "metadata": {},
   "outputs": [],
   "source": [
    "!pip install torch==0.4.1"
   ]
  },
  {
   "cell_type": "markdown",
   "metadata": {},
   "source": [
    "<pre>\n",
    "Collecting torch==0.4.1\n",
    "  Downloading https://files.pythonhosted.org/packages/49/0e/e382bcf1a6ae8225f50b99cc26effa2d4cc6d66975ccf3fa9590efcbedce/torch-0.4.1-cp36-cp36m-manylinux1_x86_64.whl (519.5MB)\n",
    "    100% |████████████████████████████████| 519.5MB 29kB/s \n",
    "torchvision 0.2.1 has requirement pillow>=4.1.1, but you'll have pillow 4.0.0 which is incompatible.\n",
    "fastai 0.7.0 has requirement torch<0.4, but you'll have torch 0.4.1 which is incompatible.\n",
    "Installing collected packages: torch\n",
    "Successfully installed torch-0.4.1"
   ]
  },
  {
   "cell_type": "code",
   "execution_count": 1,
   "metadata": {},
   "outputs": [],
   "source": [
    "from fastai.conv_learner import (\n",
    "    ConvLearner, TfmType, CropType, Flatten, VV, ImageClassifierData,\n",
    "    RandomFlip, RandomRotate, RandomLighting, RandomDihedral,\n",
    "    tfms_from_model, optim, nn\n",
    ")\n",
    "from fastai.dataset import to_np\n",
    "from fastai.model import *\n",
    "\n",
    "import torch\n",
    "import torch.nn as nn\n",
    "import torchvision\n",
    "import torchvision.transforms as transforms\n",
    "\n",
    "import os\n",
    "import math\n",
    "import shutil\n",
    "import numpy as np\n",
    "import pandas as pd\n",
    "from tqdm import tqdm\n",
    "from pathlib import Path\n",
    "from functools import reduce\n",
    "from PIL import ImageDraw, ImageFont\n",
    "from matplotlib import pyplot as plt\n",
    "from matplotlib import patches, patheffects\n",
    "%matplotlib inline"
   ]
  },
  {
   "cell_type": "markdown",
   "metadata": {},
   "source": [
    "Change filepath for running on a different machine, else data segregation / augmentation will not work properly."
   ]
  },
  {
   "cell_type": "code",
   "execution_count": 2,
   "metadata": {},
   "outputs": [],
   "source": [
    "filepath = 'C:/Datasets/localization/'\n",
    "PATH = Path(filepath)"
   ]
  },
  {
   "cell_type": "markdown",
   "metadata": {},
   "source": [
    "### Segregate the datasets into two folders, `test` and `train`\n",
    "<br>\n",
    "Create two folders `train` and `test` in the root directory."
   ]
  },
  {
   "cell_type": "code",
   "execution_count": 3,
   "metadata": {},
   "outputs": [],
   "source": [
    "source_folder = filepath + 'images/'\n",
    "test_folder = filepath + 'test/'\n",
    "train_folder = filepath + 'train/'\n",
    "\n",
    "df_test = pd.read_csv(filepath + 'test.csv')\n",
    "df_train = pd.read_csv(filepath + 'training_set.csv')\n",
    "\n",
    "for img in df_test.image_name:\n",
    "    shutil.move(source_folder + img, test_folder + img)\n",
    "    \n",
    "for img in df_train.image_name:\n",
    "    shutil.move(source_folder + img, train_folder + img)"
   ]
  },
  {
   "cell_type": "markdown",
   "metadata": {},
   "source": [
    "### Data augmentation\n",
    "I couldn't get fastai's data augmentation functions to work correctly, so I manually augmented the dataset.\n",
    "<br>\n",
    "Create a folder `train_aug` in the root directory."
   ]
  },
  {
   "cell_type": "code",
   "execution_count": 4,
   "metadata": {},
   "outputs": [],
   "source": [
    "# brightness/contrast augmentation\n",
    "alphas = np.array([1.25, 0.75, 1.1, 0.9, 0.8, 1.2, 0.7, 1.3])\n",
    "# contrast values\n",
    "betas = np.array([-30, -20, -10, 10, 20, 30, -5, 5])\n",
    "# brightness values\n",
    "\n",
    "df_aug = df_train.copy()\n",
    "\n",
    "# make a new folder called `train_aug`\n",
    "for image in tqdm(df_train.image_name):\n",
    "    im = cv2.imread(filepath + 'train/' + image)\n",
    "    for i in range(4):\n",
    "        a = np.random.choice(alphas)\n",
    "        b = np.random.choice(betas)\n",
    "        new_im = cv2.convertScaleAbs(im, alpha=a, beta=b)\n",
    "        fname = filepath + 'train_aug/' + image[:-4] + str(i) + '.png'\n",
    "        cv2.imwrite(fname, new_im)\n",
    "\n",
    "# augment the csv file accordingly\n",
    "df_train0 = df_train.copy()\n",
    "df_train1 = df_train.copy()\n",
    "df_train2 = df_train.copy()\n",
    "df_train3 = df_train.copy()\n",
    "\n",
    "tqdm.pandas()\n",
    "\n",
    "def str0(string): return string[:-4] + '0' + string[-4:]\n",
    "def str1(string): return string[:-4] + '1' + string[-4:]\n",
    "def str2(string): return string[:-4] + '2' + string[-4:]\n",
    "def str3(string): return string[:-4] + '3' + string[-4:]\n",
    "\n",
    "df_train0.image_name = df_train0.image_name.progress_apply(str0)\n",
    "df_train1.image_name = df_train1.image_name.progress_apply(str1)\n",
    "df_train2.image_name = df_train2.image_name.progress_apply(str2)\n",
    "df_train3.image_name = df_train3.image_name.progress_apply(str3)\n",
    "\n",
    "df_final = pd.concat([df_train, df_train0, df_train1, df_train2, df_train3])\n",
    "df_final.to_csv(filepath + 'train_aug.csv', index=False)\n",
    "df_train = df_final.copy()\n",
    "\n",
    "# apply random horizontal and vertical flips\n",
    "hx1 = []\n",
    "hx2 = []\n",
    "hy1 = []\n",
    "hy2 = []\n",
    "vx1 = []\n",
    "vx2 = []\n",
    "vy1 = []\n",
    "vy2 = []\n",
    "hvx1 = []\n",
    "hvx2 = []\n",
    "hvy1 = []\n",
    "hvy2 = []\n",
    "hname = []\n",
    "vname = []\n",
    "hvname = []\n",
    "\n",
    "for index_, row in tqdm(list(df_train.iterrows())):\n",
    "    im = cv2.imread(filepath + 'train_aug/' + row['image_name'])\n",
    "    him = cv2.flip(im, 1)\n",
    "    hx1.append(640 - row['x2'])\n",
    "    hx2.append(640 - row['x1'])\n",
    "    hy1.append(row['y1'])\n",
    "    hy2.append(row['y2'])\n",
    "    vim = cv2.flip(im, 0)\n",
    "    vx1.append(row['x1'])\n",
    "    vx2.append(row['x2'])\n",
    "    vy1.append(480 - row['y2'])\n",
    "    vy2.append(480 - row['y1'])\n",
    "    hvim = cv2.flip(im, -1)\n",
    "    hvx1.append(640 - row['x2'])\n",
    "    hvx2.append(640 - row['x1'])\n",
    "    hvy1.append(480 - row['y2'])\n",
    "    hvy2.append(480 - row['y1'])\n",
    "    hfname = filepath + 'train_aug/' + row['image_name'][:-4] + 'h' + '.png'\n",
    "    vfname = filepath + 'train_aug/' + row['image_name'][:-4] + 'v' + '.png'\n",
    "    hvfname = filepath + 'train_aug/' + row['image_name'][:-4] + 'x' + '.png'\n",
    "    hname.append(hfname)\n",
    "    vname.append(vfname)\n",
    "    hvname.append(hvfname)\n",
    "    cv2.imwrite(hfname, him)\n",
    "    cv2.imwrite(vfname, vim)\n",
    "    cv2.imwrite(hvfname, hvim)\n",
    "\n",
    "def prune(string): return string[len(filepath) + len('train_aug/'):]\n",
    "\n",
    "df_h = df_train.copy()\n",
    "df_h.image_name = hname\n",
    "df_h.x1 = hx1\n",
    "df_h.x2 = hx2\n",
    "df_h.y1 = hy1\n",
    "df_h.y2 = hy2\n",
    "df_h.image_name = df_h.image_name.apply(prune)\n",
    "\n",
    "df_v = df_train.copy()\n",
    "df_v.image_name = vname\n",
    "df_v.x1 = vx1\n",
    "df_v.x2 = vx2\n",
    "df_v.y1 = vy1\n",
    "df_v.y2 = vy2\n",
    "df_v.image_name = df_v.image_name.apply(prune)\n",
    "\n",
    "df_x = df_train.copy()\n",
    "df_x.image_name = hvname\n",
    "df_x.x1 = hvx1\n",
    "df_x.x2 = hvx2\n",
    "df_x.y1 = hvy1\n",
    "df_x.y2 = hvy2\n",
    "df_x.image_name = df_x.image_name.apply(prune)\n",
    "\n",
    "df_final = pd.concat([df_train, df_h, df_v, df_x])\n",
    "df_final.to_csv(filepath + 'train_aug.csv', index=False)"
   ]
  },
  {
   "cell_type": "markdown",
   "metadata": {},
   "source": [
    "After augmenting the dataset, we'll have 20 versions of each image. That is 480000 images."
   ]
  },
  {
   "cell_type": "code",
   "execution_count": 22,
   "metadata": {},
   "outputs": [],
   "source": [
    "def show_img(im, figsize=None, ax=None):\n",
    "    if not ax:\n",
    "        fig, ax = plt.subplots(figsize=figsize)\n",
    "    ax.imshow(im)\n",
    "    ax.get_xaxis().set_visible(False)\n",
    "    ax.get_yaxis().set_visible(False)\n",
    "    return ax\n",
    "\n",
    "def draw_bb(ax, b):\n",
    "    patch = ax.add_patch(patches.Rectangle([b[0], b[2]], b[1] - b[0], b[3] - b[2], fill=False, edgecolor='white', lw=2))\n",
    "    patch.set_path_effects([patheffects.Stroke(linewidth=3, foreground='black'), patheffects.Normal()])"
   ]
  },
  {
   "cell_type": "markdown",
   "metadata": {},
   "source": [
    "Generate bounding box as per requirements. Fastai requires the bounding box coordinates to be space separated."
   ]
  },
  {
   "cell_type": "code",
   "execution_count": 6,
   "metadata": {},
   "outputs": [],
   "source": [
    "df = pd.read_csv(filepath + 'training_set.csv')"
   ]
  },
  {
   "cell_type": "code",
   "execution_count": 7,
   "metadata": {},
   "outputs": [
    {
     "data": {
      "text/plain": [
       "(24000, 5)"
      ]
     },
     "execution_count": 7,
     "metadata": {},
     "output_type": "execute_result"
    }
   ],
   "source": [
    "df.shape"
   ]
  },
  {
   "cell_type": "code",
   "execution_count": 8,
   "metadata": {},
   "outputs": [
    {
     "name": "stderr",
     "output_type": "stream",
     "text": [
      "24000it [00:01, 14919.66it/s]\n"
     ]
    }
   ],
   "source": [
    "bbox = []\n",
    "for index, row in tqdm(df.iterrows()):\n",
    "    bbox.append(' '.join([str(row['x1']), str(row['y1']), str(row['x2']), str(row['y2'])]))"
   ]
  },
  {
   "cell_type": "code",
   "execution_count": 9,
   "metadata": {},
   "outputs": [
    {
     "data": {
      "text/plain": [
       "24000"
      ]
     },
     "execution_count": 9,
     "metadata": {},
     "output_type": "execute_result"
    }
   ],
   "source": [
    "len(bbox)"
   ]
  },
  {
   "cell_type": "code",
   "execution_count": 10,
   "metadata": {},
   "outputs": [],
   "source": [
    "df_aug = df.copy()\n",
    "df_aug.drop(['x1', 'x2', 'y1', 'y2'], axis=1, inplace=True)\n",
    "df_aug['bbox'] = bbox"
   ]
  },
  {
   "cell_type": "code",
   "execution_count": 11,
   "metadata": {},
   "outputs": [],
   "source": [
    "df_aug.to_csv(filepath + 'training_bb.csv', index=False)"
   ]
  },
  {
   "cell_type": "code",
   "execution_count": 12,
   "metadata": {},
   "outputs": [],
   "source": [
    "df = pd.read_csv(filepath + 'train_aug.csv')"
   ]
  },
  {
   "cell_type": "code",
   "execution_count": 13,
   "metadata": {},
   "outputs": [
    {
     "data": {
      "text/plain": [
       "(480000, 5)"
      ]
     },
     "execution_count": 13,
     "metadata": {},
     "output_type": "execute_result"
    }
   ],
   "source": [
    "df.shape"
   ]
  },
  {
   "cell_type": "code",
   "execution_count": 14,
   "metadata": {},
   "outputs": [
    {
     "name": "stderr",
     "output_type": "stream",
     "text": [
      "480000it [00:22, 15254.92it/s]\n"
     ]
    }
   ],
   "source": [
    "bbox = []\n",
    "for index, row in tqdm(df.iterrows()):\n",
    "    bbox.append(' '.join([str(row['x1']), str(row['y1']), str(row['x2']), str(row['y2'])]))"
   ]
  },
  {
   "cell_type": "code",
   "execution_count": 15,
   "metadata": {},
   "outputs": [
    {
     "data": {
      "text/plain": [
       "480000"
      ]
     },
     "execution_count": 15,
     "metadata": {},
     "output_type": "execute_result"
    }
   ],
   "source": [
    "len(bbox)"
   ]
  },
  {
   "cell_type": "code",
   "execution_count": 16,
   "metadata": {},
   "outputs": [],
   "source": [
    "df_aug.to_csv(filepath + 'train_aug_bb.csv', index=False)"
   ]
  },
  {
   "cell_type": "markdown",
   "metadata": {},
   "source": [
    "We now have two datasets, one containing the 24000 original images, and the augmented dataset containing 480000 images."
   ]
  },
  {
   "cell_type": "markdown",
   "metadata": {},
   "source": [
    "## Base Model\n",
    "For our base model, we are using a resnet34 architecture. We'll now define the model-building functions. Our residual CNN consists of 4 residual blocks, of size 3, 4, 6 and 3 respectively. We'll use this as our feature extractor and the final layer is connected to a dense layer with 4 output neurons. We removed the traditional global average pooling layer at the end to prevent data loss.\n",
    "<br>\n",
    "<br>\n",
    "\n",
    "> __Note:__ The base model was just used as a benchmark. Our best accuracy was reached on the ResNeXt101_32x4d model, which is given under the __'Second model'__ heading. All the cells for the base model can be skipped."
   ]
  },
  {
   "cell_type": "code",
   "execution_count": 17,
   "metadata": {},
   "outputs": [],
   "source": [
    "def conv3x3(in_planes, out_planes, stride=1):\n",
    "    return nn.Conv2d(in_planes, out_planes, kernel_size=3, stride=stride,\n",
    "                     padding=1, bias=False)"
   ]
  },
  {
   "cell_type": "code",
   "execution_count": 18,
   "metadata": {},
   "outputs": [],
   "source": [
    "class ResBlock(nn.Module):\n",
    "    expansion = 1\n",
    "\n",
    "    def __init__(self, inplanes, planes, stride=1, downsample=None):\n",
    "        super(ResBlock, self).__init__()\n",
    "        self.conv1 = conv3x3(inplanes, planes, stride)\n",
    "        self.bn1 = nn.BatchNorm2d(planes)\n",
    "        self.relu = nn.ReLU(inplace=True)\n",
    "        self.conv2 = conv3x3(planes, planes)\n",
    "        self.bn2 = nn.BatchNorm2d(planes)\n",
    "        self.downsample = downsample\n",
    "        self.stride = stride\n",
    "\n",
    "    def forward(self, x):\n",
    "        residual = x\n",
    "\n",
    "        out = self.conv1(x)\n",
    "        out = self.bn1(out)\n",
    "        out = self.relu(out)\n",
    "\n",
    "        out = self.conv2(out)\n",
    "        out = self.bn2(out)\n",
    "\n",
    "        if self.downsample is not None:\n",
    "            residual = self.downsample(x)\n",
    "\n",
    "        out += residual\n",
    "        out = self.relu(out)\n",
    "\n",
    "        return out"
   ]
  },
  {
   "cell_type": "code",
   "execution_count": 19,
   "metadata": {},
   "outputs": [],
   "source": [
    "class ResidualCNN(nn.Module):\n",
    "\n",
    "    def __init__(self, block, layers, num_classes=1000):\n",
    "        self.inplanes = 64\n",
    "        super(ResidualCNN, self).__init__()\n",
    "        self.conv1 = nn.Conv2d(3, 64, kernel_size=7, stride=2, padding=3, bias=False)\n",
    "        self.bn1 = nn.BatchNorm2d(64)\n",
    "        self.relu = nn.ReLU(inplace=True)\n",
    "        self.maxpool = nn.MaxPool2d(kernel_size=3, stride=2, padding=1)\n",
    "        self.layer1 = self._make_layer(block, 64, layers[0])\n",
    "        self.layer2 = self._make_layer(block, 128, layers[1], stride=2)\n",
    "        self.layer3 = self._make_layer(block, 256, layers[2], stride=2)\n",
    "        self.layer4 = self._make_layer(block, 512, layers[3], stride=2)\n",
    "        self.avgpool = nn.AvgPool2d(7)\n",
    "        self.fc = nn.Linear(512 * block.expansion, num_classes)\n",
    "\n",
    "        for m in self.modules():\n",
    "            if isinstance(m, nn.Conv2d):\n",
    "                n = m.kernel_size[0] * m.kernel_size[1] * m.out_channels\n",
    "                m.weight.data.normal_(0, math.sqrt(2. / n))\n",
    "            elif isinstance(m, nn.BatchNorm2d):\n",
    "                m.weight.data.fill_(1)\n",
    "                m.bias.data.zero_()\n",
    "\n",
    "    def _make_layer(self, block, planes, blocks, stride=1):\n",
    "        downsample = None\n",
    "        if stride != 1 or self.inplanes != planes * block.expansion:\n",
    "            downsample = nn.Sequential(\n",
    "                nn.Conv2d(self.inplanes, planes * block.expansion,\n",
    "                          kernel_size=1, stride=stride, bias=False),\n",
    "                nn.BatchNorm2d(planes * block.expansion),\n",
    "            )\n",
    "\n",
    "        layers = []\n",
    "        layers.append(block(self.inplanes, planes, stride, downsample))\n",
    "        self.inplanes = planes * block.expansion\n",
    "        for i in range(1, blocks):\n",
    "            layers.append(block(self.inplanes, planes))\n",
    "\n",
    "        return nn.Sequential(*layers)\n",
    "\n",
    "    def forward(self, x):\n",
    "        x = self.conv1(x)\n",
    "        x = self.bn1(x)\n",
    "        x = self.relu(x)\n",
    "        x = self.maxpool(x)\n",
    "\n",
    "        x = self.layer1(x)\n",
    "        x = self.layer2(x)\n",
    "        x = self.layer3(x)\n",
    "        x = self.layer4(x)\n",
    "\n",
    "        x = self.avgpool(x)\n",
    "        x = x.view(x.size(0), -1)\n",
    "        x = self.fc(x)\n",
    "\n",
    "        return x"
   ]
  },
  {
   "cell_type": "code",
   "execution_count": 20,
   "metadata": {},
   "outputs": [],
   "source": [
    "model = ResidualCNN(ResBlock, [3, 4, 6, 3])"
   ]
  },
  {
   "cell_type": "code",
   "execution_count": 21,
   "metadata": {},
   "outputs": [],
   "source": [
    "sz = 224\n",
    "bs = 64"
   ]
  },
  {
   "cell_type": "code",
   "execution_count": 22,
   "metadata": {},
   "outputs": [],
   "source": [
    "bb_csv = PATH/'training_bb.csv'\n",
    "tfms = tfms_from_model(model, sz, crop_type=CropType.NO, aug_tfms=[])\n",
    "datagen = ImageClassifierData.from_csv(PATH, 'train', bb_csv, test_name='test', tfms=tfms, bs=bs, continuous=True)"
   ]
  },
  {
   "cell_type": "code",
   "execution_count": 23,
   "metadata": {},
   "outputs": [
    {
     "name": "stdout",
     "output_type": "stream",
     "text": [
      "(224, 224, 3)\n"
     ]
    },
    {
     "name": "stderr",
     "output_type": "stream",
     "text": [
      "Clipping input data to the valid range for imshow with RGB data ([0..1] for floats or [0..255] for integers).\n"
     ]
    },
    {
     "name": "stdout",
     "output_type": "stream",
     "text": [
      "a [  2. 114. 582. 314.]\n"
     ]
    },
    {
     "data": {
      "text/plain": [
       "array([  2., 114., 582., 314.], dtype=float32)"
      ]
     },
     "execution_count": 23,
     "metadata": {},
     "output_type": "execute_result"
    },
    {
     "data": {
      "image/png": "[encoded data removed]",
      "text/plain": [
       "<Figure size 432x288 with 1 Axes>"
      ]
     },
     "metadata": {
      "needs_background": "light"
     },
     "output_type": "display_data"
    }
   ],
   "source": [
    "im=datagen.trn_ds[1234][0].transpose([1,2,0])\n",
    "print(im.shape)\n",
    "ax = show_img(im)\n",
    "a=datagen.trn_ds[1234][1]\n",
    "print('a', a)\n",
    "draw_bb(ax,[a[0]*224/640,a[2]*224/640,a[1]*224/480,a[3]*224/480])\n",
    "a"
   ]
  },
  {
   "cell_type": "code",
   "execution_count": 24,
   "metadata": {},
   "outputs": [
    {
     "name": "stdout",
     "output_type": "stream",
     "text": [
      "Number of images in training set:  19200\n",
      "Number of images in validation set:  4800\n",
      "Number of images in test set:  24045\n"
     ]
    }
   ],
   "source": [
    "print('Number of images in training set: ', len(datagen.trn_ds))\n",
    "print('Number of images in validation set: ', len(datagen.val_ds))\n",
    "print('Number of images in test set: ', len(datagen.test_ds))"
   ]
  },
  {
   "cell_type": "code",
   "execution_count": 25,
   "metadata": {},
   "outputs": [],
   "source": [
    "class ConvnetBuilder():\n",
    "\n",
    "    def __init__(self, f, c, is_multi, is_reg, ps=None, xtra_fc=None, xtra_cut=0, custom_head=None, pretrained=True):\n",
    "        self.f = f\n",
    "        self.c = c\n",
    "        self.is_multi = is_multi\n",
    "        self.is_reg = is_reg\n",
    "        self.xtra_cut = xtra_cut\n",
    "        \n",
    "        if xtra_fc is None:\n",
    "            xtra_fc = [512]\n",
    "        if ps is None:\n",
    "            ps = [0.25]*len(xtra_fc) + [0.5]\n",
    "            \n",
    "        self.ps = ps\n",
    "        self.xtra_fc = xtra_fc\n",
    "        cut = 8\n",
    "        self.lr_cut = 6\n",
    "        cut -= xtra_cut\n",
    "        layers = cut_model(f, cut)\n",
    "        self.nf = num_features(layers) * 2\n",
    "        if not custom_head:\n",
    "            layers += [AdaptiveConcatPool2d(), Flatten()]\n",
    "        self.top_model = nn.Sequential(*layers)\n",
    "\n",
    "        n_fc = len(self.xtra_fc)+1\n",
    "        if not isinstance(self.ps, list):\n",
    "            self.ps = [self.ps]*n_fc\n",
    "\n",
    "        if custom_head:\n",
    "            fc_layers = [custom_head]\n",
    "        else:\n",
    "            fc_layers = self.get_fc_layers()\n",
    "            \n",
    "        self.n_fc = len(fc_layers)\n",
    "        self.fc_model = to_gpu(nn.Sequential(*fc_layers))\n",
    "        if not custom_head:\n",
    "            apply_init(self.fc_model, kaiming_normal)\n",
    "        self.model = to_gpu(nn.Sequential(*(layers+fc_layers)))\n",
    "\n",
    "    @property\n",
    "    def name(self):\n",
    "        return f'{self.f.__name__}_{self.xtra_cut}'\n",
    "\n",
    "    def create_fc_layer(self, ni, nf, p, actn=None):\n",
    "        res=[nn.BatchNorm1d(num_features=ni)]\n",
    "        if p:\n",
    "            res.append(nn.Dropout(p=p))\n",
    "        res.append(nn.Linear(in_features=ni, out_features=nf))\n",
    "        if actn:\n",
    "            res.append(actn)\n",
    "        return res\n",
    "\n",
    "    def get_fc_layers(self):\n",
    "        res=[]\n",
    "        ni=self.nf\n",
    "        for i,nf in enumerate(self.xtra_fc):\n",
    "            res += self.create_fc_layer(ni, nf, p=self.ps[i], actn=nn.ReLU())\n",
    "            ni=nf\n",
    "        final_actn = nn.Sigmoid() if self.is_multi else nn.LogSoftmax()\n",
    "        if self.is_reg:\n",
    "            final_actn = None\n",
    "        res += self.create_fc_layer(ni, self.c, p=self.ps[-1], actn=final_actn)\n",
    "        return res\n",
    "\n",
    "    def get_layer_groups(self, do_fc=False):\n",
    "        if do_fc:\n",
    "            return [self.fc_model]\n",
    "        idxs = [self.lr_cut]\n",
    "        c = children(self.top_model)\n",
    "        if len(c)==3:\n",
    "            c = children(c[0])+c[1:]\n",
    "        lgs = list(split_by_idxs(c,idxs))\n",
    "        return lgs+[self.fc_model]"
   ]
  },
  {
   "cell_type": "code",
   "execution_count": 26,
   "metadata": {},
   "outputs": [],
   "source": [
    "head = nn.Sequential(Flatten(), nn.Linear(25088, 4))\n",
    "learner = ConvnetBuilder(f=model, c=datagen.c,\n",
    "                         is_multi=datagen.is_multi,\n",
    "                         is_reg=True,\n",
    "                         custom_head=head)\n",
    "regressor = ConvLearner(datagen, learner, precompute=False)\n",
    "regressor.opt_fn = optim.Adam\n",
    "regressor.crit = nn.L1Loss()"
   ]
  },
  {
   "cell_type": "code",
   "execution_count": 27,
   "metadata": {},
   "outputs": [
    {
     "data": {
      "text/plain": [
       "OrderedDict([('Conv2d-1',\n",
       "              OrderedDict([('input_shape', [-1, 3, 224, 224]),\n",
       "                           ('output_shape', [-1, 64, 112, 112]),\n",
       "                           ('trainable', False),\n",
       "                           ('nb_params', 9408)])),\n",
       "             ('BatchNorm2d-2',\n",
       "              OrderedDict([('input_shape', [-1, 64, 112, 112]),\n",
       "                           ('output_shape', [-1, 64, 112, 112]),\n",
       "                           ('trainable', False),\n",
       "                           ('nb_params', 128)])),\n",
       "             ('ReLU-3',\n",
       "              OrderedDict([('input_shape', [-1, 64, 112, 112]),\n",
       "                           ('output_shape', [-1, 64, 112, 112]),\n",
       "                           ('nb_params', 0)])),\n",
       "             ('MaxPool2d-4',\n",
       "              OrderedDict([('input_shape', [-1, 64, 112, 112]),\n",
       "                           ('output_shape', [-1, 64, 56, 56]),\n",
       "                           ('nb_params', 0)])),\n",
       "             ('Conv2d-5',\n",
       "              OrderedDict([('input_shape', [-1, 64, 56, 56]),\n",
       "                           ('output_shape', [-1, 64, 56, 56]),\n",
       "                           ('trainable', False),\n",
       "                           ('nb_params', 36864)])),\n",
       "             ('BatchNorm2d-6',\n",
       "              OrderedDict([('input_shape', [-1, 64, 56, 56]),\n",
       "                           ('output_shape', [-1, 64, 56, 56]),\n",
       "                           ('trainable', False),\n",
       "                           ('nb_params', 128)])),\n",
       "             ('ReLU-7',\n",
       "              OrderedDict([('input_shape', [-1, 64, 56, 56]),\n",
       "                           ('output_shape', [-1, 64, 56, 56]),\n",
       "                           ('nb_params', 0)])),\n",
       "             ('Conv2d-8',\n",
       "              OrderedDict([('input_shape', [-1, 64, 56, 56]),\n",
       "                           ('output_shape', [-1, 64, 56, 56]),\n",
       "                           ('trainable', False),\n",
       "                           ('nb_params', 36864)])),\n",
       "             ('BatchNorm2d-9',\n",
       "              OrderedDict([('input_shape', [-1, 64, 56, 56]),\n",
       "                           ('output_shape', [-1, 64, 56, 56]),\n",
       "                           ('trainable', False),\n",
       "                           ('nb_params', 128)])),\n",
       "             ('ReLU-10',\n",
       "              OrderedDict([('input_shape', [-1, 64, 56, 56]),\n",
       "                           ('output_shape', [-1, 64, 56, 56]),\n",
       "                           ('nb_params', 0)])),\n",
       "             ('ResBlock-11',\n",
       "              OrderedDict([('input_shape', [-1, 64, 56, 56]),\n",
       "                           ('output_shape', [-1, 64, 56, 56]),\n",
       "                           ('nb_params', 0)])),\n",
       "             ('Conv2d-12',\n",
       "              OrderedDict([('input_shape', [-1, 64, 56, 56]),\n",
       "                           ('output_shape', [-1, 64, 56, 56]),\n",
       "                           ('trainable', False),\n",
       "                           ('nb_params', 36864)])),\n",
       "             ('BatchNorm2d-13',\n",
       "              OrderedDict([('input_shape', [-1, 64, 56, 56]),\n",
       "                           ('output_shape', [-1, 64, 56, 56]),\n",
       "                           ('trainable', False),\n",
       "                           ('nb_params', 128)])),\n",
       "             ('ReLU-14',\n",
       "              OrderedDict([('input_shape', [-1, 64, 56, 56]),\n",
       "                           ('output_shape', [-1, 64, 56, 56]),\n",
       "                           ('nb_params', 0)])),\n",
       "             ('Conv2d-15',\n",
       "              OrderedDict([('input_shape', [-1, 64, 56, 56]),\n",
       "                           ('output_shape', [-1, 64, 56, 56]),\n",
       "                           ('trainable', False),\n",
       "                           ('nb_params', 36864)])),\n",
       "             ('BatchNorm2d-16',\n",
       "              OrderedDict([('input_shape', [-1, 64, 56, 56]),\n",
       "                           ('output_shape', [-1, 64, 56, 56]),\n",
       "                           ('trainable', False),\n",
       "                           ('nb_params', 128)])),\n",
       "             ('ReLU-17',\n",
       "              OrderedDict([('input_shape', [-1, 64, 56, 56]),\n",
       "                           ('output_shape', [-1, 64, 56, 56]),\n",
       "                           ('nb_params', 0)])),\n",
       "             ('ResBlock-18',\n",
       "              OrderedDict([('input_shape', [-1, 64, 56, 56]),\n",
       "                           ('output_shape', [-1, 64, 56, 56]),\n",
       "                           ('nb_params', 0)])),\n",
       "             ('Conv2d-19',\n",
       "              OrderedDict([('input_shape', [-1, 64, 56, 56]),\n",
       "                           ('output_shape', [-1, 64, 56, 56]),\n",
       "                           ('trainable', False),\n",
       "                           ('nb_params', 36864)])),\n",
       "             ('BatchNorm2d-20',\n",
       "              OrderedDict([('input_shape', [-1, 64, 56, 56]),\n",
       "                           ('output_shape', [-1, 64, 56, 56]),\n",
       "                           ('trainable', False),\n",
       "                           ('nb_params', 128)])),\n",
       "             ('ReLU-21',\n",
       "              OrderedDict([('input_shape', [-1, 64, 56, 56]),\n",
       "                           ('output_shape', [-1, 64, 56, 56]),\n",
       "                           ('nb_params', 0)])),\n",
       "             ('Conv2d-22',\n",
       "              OrderedDict([('input_shape', [-1, 64, 56, 56]),\n",
       "                           ('output_shape', [-1, 64, 56, 56]),\n",
       "                           ('trainable', False),\n",
       "                           ('nb_params', 36864)])),\n",
       "             ('BatchNorm2d-23',\n",
       "              OrderedDict([('input_shape', [-1, 64, 56, 56]),\n",
       "                           ('output_shape', [-1, 64, 56, 56]),\n",
       "                           ('trainable', False),\n",
       "                           ('nb_params', 128)])),\n",
       "             ('ReLU-24',\n",
       "              OrderedDict([('input_shape', [-1, 64, 56, 56]),\n",
       "                           ('output_shape', [-1, 64, 56, 56]),\n",
       "                           ('nb_params', 0)])),\n",
       "             ('ResBlock-25',\n",
       "              OrderedDict([('input_shape', [-1, 64, 56, 56]),\n",
       "                           ('output_shape', [-1, 64, 56, 56]),\n",
       "                           ('nb_params', 0)])),\n",
       "             ('Conv2d-26',\n",
       "              OrderedDict([('input_shape', [-1, 64, 56, 56]),\n",
       "                           ('output_shape', [-1, 128, 28, 28]),\n",
       "                           ('trainable', False),\n",
       "                           ('nb_params', 73728)])),\n",
       "             ('BatchNorm2d-27',\n",
       "              OrderedDict([('input_shape', [-1, 128, 28, 28]),\n",
       "                           ('output_shape', [-1, 128, 28, 28]),\n",
       "                           ('trainable', False),\n",
       "                           ('nb_params', 256)])),\n",
       "             ('ReLU-28',\n",
       "              OrderedDict([('input_shape', [-1, 128, 28, 28]),\n",
       "                           ('output_shape', [-1, 128, 28, 28]),\n",
       "                           ('nb_params', 0)])),\n",
       "             ('Conv2d-29',\n",
       "              OrderedDict([('input_shape', [-1, 128, 28, 28]),\n",
       "                           ('output_shape', [-1, 128, 28, 28]),\n",
       "                           ('trainable', False),\n",
       "                           ('nb_params', 147456)])),\n",
       "             ('BatchNorm2d-30',\n",
       "              OrderedDict([('input_shape', [-1, 128, 28, 28]),\n",
       "                           ('output_shape', [-1, 128, 28, 28]),\n",
       "                           ('trainable', False),\n",
       "                           ('nb_params', 256)])),\n",
       "             ('Conv2d-31',\n",
       "              OrderedDict([('input_shape', [-1, 64, 56, 56]),\n",
       "                           ('output_shape', [-1, 128, 28, 28]),\n",
       "                           ('trainable', False),\n",
       "                           ('nb_params', 8192)])),\n",
       "             ('BatchNorm2d-32',\n",
       "              OrderedDict([('input_shape', [-1, 128, 28, 28]),\n",
       "                           ('output_shape', [-1, 128, 28, 28]),\n",
       "                           ('trainable', False),\n",
       "                           ('nb_params', 256)])),\n",
       "             ('ReLU-33',\n",
       "              OrderedDict([('input_shape', [-1, 128, 28, 28]),\n",
       "                           ('output_shape', [-1, 128, 28, 28]),\n",
       "                           ('nb_params', 0)])),\n",
       "             ('ResBlock-34',\n",
       "              OrderedDict([('input_shape', [-1, 64, 56, 56]),\n",
       "                           ('output_shape', [-1, 128, 28, 28]),\n",
       "                           ('nb_params', 0)])),\n",
       "             ('Conv2d-35',\n",
       "              OrderedDict([('input_shape', [-1, 128, 28, 28]),\n",
       "                           ('output_shape', [-1, 128, 28, 28]),\n",
       "                           ('trainable', False),\n",
       "                           ('nb_params', 147456)])),\n",
       "             ('BatchNorm2d-36',\n",
       "              OrderedDict([('input_shape', [-1, 128, 28, 28]),\n",
       "                           ('output_shape', [-1, 128, 28, 28]),\n",
       "                           ('trainable', False),\n",
       "                           ('nb_params', 256)])),\n",
       "             ('ReLU-37',\n",
       "              OrderedDict([('input_shape', [-1, 128, 28, 28]),\n",
       "                           ('output_shape', [-1, 128, 28, 28]),\n",
       "                           ('nb_params', 0)])),\n",
       "             ('Conv2d-38',\n",
       "              OrderedDict([('input_shape', [-1, 128, 28, 28]),\n",
       "                           ('output_shape', [-1, 128, 28, 28]),\n",
       "                           ('trainable', False),\n",
       "                           ('nb_params', 147456)])),\n",
       "             ('BatchNorm2d-39',\n",
       "              OrderedDict([('input_shape', [-1, 128, 28, 28]),\n",
       "                           ('output_shape', [-1, 128, 28, 28]),\n",
       "                           ('trainable', False),\n",
       "                           ('nb_params', 256)])),\n",
       "             ('ReLU-40',\n",
       "              OrderedDict([('input_shape', [-1, 128, 28, 28]),\n",
       "                           ('output_shape', [-1, 128, 28, 28]),\n",
       "                           ('nb_params', 0)])),\n",
       "             ('ResBlock-41',\n",
       "              OrderedDict([('input_shape', [-1, 128, 28, 28]),\n",
       "                           ('output_shape', [-1, 128, 28, 28]),\n",
       "                           ('nb_params', 0)])),\n",
       "             ('Conv2d-42',\n",
       "              OrderedDict([('input_shape', [-1, 128, 28, 28]),\n",
       "                           ('output_shape', [-1, 128, 28, 28]),\n",
       "                           ('trainable', False),\n",
       "                           ('nb_params', 147456)])),\n",
       "             ('BatchNorm2d-43',\n",
       "              OrderedDict([('input_shape', [-1, 128, 28, 28]),\n",
       "                           ('output_shape', [-1, 128, 28, 28]),\n",
       "                           ('trainable', False),\n",
       "                           ('nb_params', 256)])),\n",
       "             ('ReLU-44',\n",
       "              OrderedDict([('input_shape', [-1, 128, 28, 28]),\n",
       "                           ('output_shape', [-1, 128, 28, 28]),\n",
       "                           ('nb_params', 0)])),\n",
       "             ('Conv2d-45',\n",
       "              OrderedDict([('input_shape', [-1, 128, 28, 28]),\n",
       "                           ('output_shape', [-1, 128, 28, 28]),\n",
       "                           ('trainable', False),\n",
       "                           ('nb_params', 147456)])),\n",
       "             ('BatchNorm2d-46',\n",
       "              OrderedDict([('input_shape', [-1, 128, 28, 28]),\n",
       "                           ('output_shape', [-1, 128, 28, 28]),\n",
       "                           ('trainable', False),\n",
       "                           ('nb_params', 256)])),\n",
       "             ('ReLU-47',\n",
       "              OrderedDict([('input_shape', [-1, 128, 28, 28]),\n",
       "                           ('output_shape', [-1, 128, 28, 28]),\n",
       "                           ('nb_params', 0)])),\n",
       "             ('ResBlock-48',\n",
       "              OrderedDict([('input_shape', [-1, 128, 28, 28]),\n",
       "                           ('output_shape', [-1, 128, 28, 28]),\n",
       "                           ('nb_params', 0)])),\n",
       "             ('Conv2d-49',\n",
       "              OrderedDict([('input_shape', [-1, 128, 28, 28]),\n",
       "                           ('output_shape', [-1, 128, 28, 28]),\n",
       "                           ('trainable', False),\n",
       "                           ('nb_params', 147456)])),\n",
       "             ('BatchNorm2d-50',\n",
       "              OrderedDict([('input_shape', [-1, 128, 28, 28]),\n",
       "                           ('output_shape', [-1, 128, 28, 28]),\n",
       "                           ('trainable', False),\n",
       "                           ('nb_params', 256)])),\n",
       "             ('ReLU-51',\n",
       "              OrderedDict([('input_shape', [-1, 128, 28, 28]),\n",
       "                           ('output_shape', [-1, 128, 28, 28]),\n",
       "                           ('nb_params', 0)])),\n",
       "             ('Conv2d-52',\n",
       "              OrderedDict([('input_shape', [-1, 128, 28, 28]),\n",
       "                           ('output_shape', [-1, 128, 28, 28]),\n",
       "                           ('trainable', False),\n",
       "                           ('nb_params', 147456)])),\n",
       "             ('BatchNorm2d-53',\n",
       "              OrderedDict([('input_shape', [-1, 128, 28, 28]),\n",
       "                           ('output_shape', [-1, 128, 28, 28]),\n",
       "                           ('trainable', False),\n",
       "                           ('nb_params', 256)])),\n",
       "             ('ReLU-54',\n",
       "              OrderedDict([('input_shape', [-1, 128, 28, 28]),\n",
       "                           ('output_shape', [-1, 128, 28, 28]),\n",
       "                           ('nb_params', 0)])),\n",
       "             ('ResBlock-55',\n",
       "              OrderedDict([('input_shape', [-1, 128, 28, 28]),\n",
       "                           ('output_shape', [-1, 128, 28, 28]),\n",
       "                           ('nb_params', 0)])),\n",
       "             ('Conv2d-56',\n",
       "              OrderedDict([('input_shape', [-1, 128, 28, 28]),\n",
       "                           ('output_shape', [-1, 256, 14, 14]),\n",
       "                           ('trainable', False),\n",
       "                           ('nb_params', 294912)])),\n",
       "             ('BatchNorm2d-57',\n",
       "              OrderedDict([('input_shape', [-1, 256, 14, 14]),\n",
       "                           ('output_shape', [-1, 256, 14, 14]),\n",
       "                           ('trainable', False),\n",
       "                           ('nb_params', 512)])),\n",
       "             ('ReLU-58',\n",
       "              OrderedDict([('input_shape', [-1, 256, 14, 14]),\n",
       "                           ('output_shape', [-1, 256, 14, 14]),\n",
       "                           ('nb_params', 0)])),\n",
       "             ('Conv2d-59',\n",
       "              OrderedDict([('input_shape', [-1, 256, 14, 14]),\n",
       "                           ('output_shape', [-1, 256, 14, 14]),\n",
       "                           ('trainable', False),\n",
       "                           ('nb_params', 589824)])),\n",
       "             ('BatchNorm2d-60',\n",
       "              OrderedDict([('input_shape', [-1, 256, 14, 14]),\n",
       "                           ('output_shape', [-1, 256, 14, 14]),\n",
       "                           ('trainable', False),\n",
       "                           ('nb_params', 512)])),\n",
       "             ('Conv2d-61',\n",
       "              OrderedDict([('input_shape', [-1, 128, 28, 28]),\n",
       "                           ('output_shape', [-1, 256, 14, 14]),\n",
       "                           ('trainable', False),\n",
       "                           ('nb_params', 32768)])),\n",
       "             ('BatchNorm2d-62',\n",
       "              OrderedDict([('input_shape', [-1, 256, 14, 14]),\n",
       "                           ('output_shape', [-1, 256, 14, 14]),\n",
       "                           ('trainable', False),\n",
       "                           ('nb_params', 512)])),\n",
       "             ('ReLU-63',\n",
       "              OrderedDict([('input_shape', [-1, 256, 14, 14]),\n",
       "                           ('output_shape', [-1, 256, 14, 14]),\n",
       "                           ('nb_params', 0)])),\n",
       "             ('ResBlock-64',\n",
       "              OrderedDict([('input_shape', [-1, 128, 28, 28]),\n",
       "                           ('output_shape', [-1, 256, 14, 14]),\n",
       "                           ('nb_params', 0)])),\n",
       "             ('Conv2d-65',\n",
       "              OrderedDict([('input_shape', [-1, 256, 14, 14]),\n",
       "                           ('output_shape', [-1, 256, 14, 14]),\n",
       "                           ('trainable', False),\n",
       "                           ('nb_params', 589824)])),\n",
       "             ('BatchNorm2d-66',\n",
       "              OrderedDict([('input_shape', [-1, 256, 14, 14]),\n",
       "                           ('output_shape', [-1, 256, 14, 14]),\n",
       "                           ('trainable', False),\n",
       "                           ('nb_params', 512)])),\n",
       "             ('ReLU-67',\n",
       "              OrderedDict([('input_shape', [-1, 256, 14, 14]),\n",
       "                           ('output_shape', [-1, 256, 14, 14]),\n",
       "                           ('nb_params', 0)])),\n",
       "             ('Conv2d-68',\n",
       "              OrderedDict([('input_shape', [-1, 256, 14, 14]),\n",
       "                           ('output_shape', [-1, 256, 14, 14]),\n",
       "                           ('trainable', False),\n",
       "                           ('nb_params', 589824)])),\n",
       "             ('BatchNorm2d-69',\n",
       "              OrderedDict([('input_shape', [-1, 256, 14, 14]),\n",
       "                           ('output_shape', [-1, 256, 14, 14]),\n",
       "                           ('trainable', False),\n",
       "                           ('nb_params', 512)])),\n",
       "             ('ReLU-70',\n",
       "              OrderedDict([('input_shape', [-1, 256, 14, 14]),\n",
       "                           ('output_shape', [-1, 256, 14, 14]),\n",
       "                           ('nb_params', 0)])),\n",
       "             ('ResBlock-71',\n",
       "              OrderedDict([('input_shape', [-1, 256, 14, 14]),\n",
       "                           ('output_shape', [-1, 256, 14, 14]),\n",
       "                           ('nb_params', 0)])),\n",
       "             ('Conv2d-72',\n",
       "              OrderedDict([('input_shape', [-1, 256, 14, 14]),\n",
       "                           ('output_shape', [-1, 256, 14, 14]),\n",
       "                           ('trainable', False),\n",
       "                           ('nb_params', 589824)])),\n",
       "             ('BatchNorm2d-73',\n",
       "              OrderedDict([('input_shape', [-1, 256, 14, 14]),\n",
       "                           ('output_shape', [-1, 256, 14, 14]),\n",
       "                           ('trainable', False),\n",
       "                           ('nb_params', 512)])),\n",
       "             ('ReLU-74',\n",
       "              OrderedDict([('input_shape', [-1, 256, 14, 14]),\n",
       "                           ('output_shape', [-1, 256, 14, 14]),\n",
       "                           ('nb_params', 0)])),\n",
       "             ('Conv2d-75',\n",
       "              OrderedDict([('input_shape', [-1, 256, 14, 14]),\n",
       "                           ('output_shape', [-1, 256, 14, 14]),\n",
       "                           ('trainable', False),\n",
       "                           ('nb_params', 589824)])),\n",
       "             ('BatchNorm2d-76',\n",
       "              OrderedDict([('input_shape', [-1, 256, 14, 14]),\n",
       "                           ('output_shape', [-1, 256, 14, 14]),\n",
       "                           ('trainable', False),\n",
       "                           ('nb_params', 512)])),\n",
       "             ('ReLU-77',\n",
       "              OrderedDict([('input_shape', [-1, 256, 14, 14]),\n",
       "                           ('output_shape', [-1, 256, 14, 14]),\n",
       "                           ('nb_params', 0)])),\n",
       "             ('ResBlock-78',\n",
       "              OrderedDict([('input_shape', [-1, 256, 14, 14]),\n",
       "                           ('output_shape', [-1, 256, 14, 14]),\n",
       "                           ('nb_params', 0)])),\n",
       "             ('Conv2d-79',\n",
       "              OrderedDict([('input_shape', [-1, 256, 14, 14]),\n",
       "                           ('output_shape', [-1, 256, 14, 14]),\n",
       "                           ('trainable', False),\n",
       "                           ('nb_params', 589824)])),\n",
       "             ('BatchNorm2d-80',\n",
       "              OrderedDict([('input_shape', [-1, 256, 14, 14]),\n",
       "                           ('output_shape', [-1, 256, 14, 14]),\n",
       "                           ('trainable', False),\n",
       "                           ('nb_params', 512)])),\n",
       "             ('ReLU-81',\n",
       "              OrderedDict([('input_shape', [-1, 256, 14, 14]),\n",
       "                           ('output_shape', [-1, 256, 14, 14]),\n",
       "                           ('nb_params', 0)])),\n",
       "             ('Conv2d-82',\n",
       "              OrderedDict([('input_shape', [-1, 256, 14, 14]),\n",
       "                           ('output_shape', [-1, 256, 14, 14]),\n",
       "                           ('trainable', False),\n",
       "                           ('nb_params', 589824)])),\n",
       "             ('BatchNorm2d-83',\n",
       "              OrderedDict([('input_shape', [-1, 256, 14, 14]),\n",
       "                           ('output_shape', [-1, 256, 14, 14]),\n",
       "                           ('trainable', False),\n",
       "                           ('nb_params', 512)])),\n",
       "             ('ReLU-84',\n",
       "              OrderedDict([('input_shape', [-1, 256, 14, 14]),\n",
       "                           ('output_shape', [-1, 256, 14, 14]),\n",
       "                           ('nb_params', 0)])),\n",
       "             ('ResBlock-85',\n",
       "              OrderedDict([('input_shape', [-1, 256, 14, 14]),\n",
       "                           ('output_shape', [-1, 256, 14, 14]),\n",
       "                           ('nb_params', 0)])),\n",
       "             ('Conv2d-86',\n",
       "              OrderedDict([('input_shape', [-1, 256, 14, 14]),\n",
       "                           ('output_shape', [-1, 256, 14, 14]),\n",
       "                           ('trainable', False),\n",
       "                           ('nb_params', 589824)])),\n",
       "             ('BatchNorm2d-87',\n",
       "              OrderedDict([('input_shape', [-1, 256, 14, 14]),\n",
       "                           ('output_shape', [-1, 256, 14, 14]),\n",
       "                           ('trainable', False),\n",
       "                           ('nb_params', 512)])),\n",
       "             ('ReLU-88',\n",
       "              OrderedDict([('input_shape', [-1, 256, 14, 14]),\n",
       "                           ('output_shape', [-1, 256, 14, 14]),\n",
       "                           ('nb_params', 0)])),\n",
       "             ('Conv2d-89',\n",
       "              OrderedDict([('input_shape', [-1, 256, 14, 14]),\n",
       "                           ('output_shape', [-1, 256, 14, 14]),\n",
       "                           ('trainable', False),\n",
       "                           ('nb_params', 589824)])),\n",
       "             ('BatchNorm2d-90',\n",
       "              OrderedDict([('input_shape', [-1, 256, 14, 14]),\n",
       "                           ('output_shape', [-1, 256, 14, 14]),\n",
       "                           ('trainable', False),\n",
       "                           ('nb_params', 512)])),\n",
       "             ('ReLU-91',\n",
       "              OrderedDict([('input_shape', [-1, 256, 14, 14]),\n",
       "                           ('output_shape', [-1, 256, 14, 14]),\n",
       "                           ('nb_params', 0)])),\n",
       "             ('ResBlock-92',\n",
       "              OrderedDict([('input_shape', [-1, 256, 14, 14]),\n",
       "                           ('output_shape', [-1, 256, 14, 14]),\n",
       "                           ('nb_params', 0)])),\n",
       "             ('Conv2d-93',\n",
       "              OrderedDict([('input_shape', [-1, 256, 14, 14]),\n",
       "                           ('output_shape', [-1, 256, 14, 14]),\n",
       "                           ('trainable', False),\n",
       "                           ('nb_params', 589824)])),\n",
       "             ('BatchNorm2d-94',\n",
       "              OrderedDict([('input_shape', [-1, 256, 14, 14]),\n",
       "                           ('output_shape', [-1, 256, 14, 14]),\n",
       "                           ('trainable', False),\n",
       "                           ('nb_params', 512)])),\n",
       "             ('ReLU-95',\n",
       "              OrderedDict([('input_shape', [-1, 256, 14, 14]),\n",
       "                           ('output_shape', [-1, 256, 14, 14]),\n",
       "                           ('nb_params', 0)])),\n",
       "             ('Conv2d-96',\n",
       "              OrderedDict([('input_shape', [-1, 256, 14, 14]),\n",
       "                           ('output_shape', [-1, 256, 14, 14]),\n",
       "                           ('trainable', False),\n",
       "                           ('nb_params', 589824)])),\n",
       "             ('BatchNorm2d-97',\n",
       "              OrderedDict([('input_shape', [-1, 256, 14, 14]),\n",
       "                           ('output_shape', [-1, 256, 14, 14]),\n",
       "                           ('trainable', False),\n",
       "                           ('nb_params', 512)])),\n",
       "             ('ReLU-98',\n",
       "              OrderedDict([('input_shape', [-1, 256, 14, 14]),\n",
       "                           ('output_shape', [-1, 256, 14, 14]),\n",
       "                           ('nb_params', 0)])),\n",
       "             ('ResBlock-99',\n",
       "              OrderedDict([('input_shape', [-1, 256, 14, 14]),\n",
       "                           ('output_shape', [-1, 256, 14, 14]),\n",
       "                           ('nb_params', 0)])),\n",
       "             ('Conv2d-100',\n",
       "              OrderedDict([('input_shape', [-1, 256, 14, 14]),\n",
       "                           ('output_shape', [-1, 512, 7, 7]),\n",
       "                           ('trainable', False),\n",
       "                           ('nb_params', 1179648)])),\n",
       "             ('BatchNorm2d-101',\n",
       "              OrderedDict([('input_shape', [-1, 512, 7, 7]),\n",
       "                           ('output_shape', [-1, 512, 7, 7]),\n",
       "                           ('trainable', False),\n",
       "                           ('nb_params', 1024)])),\n",
       "             ('ReLU-102',\n",
       "              OrderedDict([('input_shape', [-1, 512, 7, 7]),\n",
       "                           ('output_shape', [-1, 512, 7, 7]),\n",
       "                           ('nb_params', 0)])),\n",
       "             ('Conv2d-103',\n",
       "              OrderedDict([('input_shape', [-1, 512, 7, 7]),\n",
       "                           ('output_shape', [-1, 512, 7, 7]),\n",
       "                           ('trainable', False),\n",
       "                           ('nb_params', 2359296)])),\n",
       "             ('BatchNorm2d-104',\n",
       "              OrderedDict([('input_shape', [-1, 512, 7, 7]),\n",
       "                           ('output_shape', [-1, 512, 7, 7]),\n",
       "                           ('trainable', False),\n",
       "                           ('nb_params', 1024)])),\n",
       "             ('Conv2d-105',\n",
       "              OrderedDict([('input_shape', [-1, 256, 14, 14]),\n",
       "                           ('output_shape', [-1, 512, 7, 7]),\n",
       "                           ('trainable', False),\n",
       "                           ('nb_params', 131072)])),\n",
       "             ('BatchNorm2d-106',\n",
       "              OrderedDict([('input_shape', [-1, 512, 7, 7]),\n",
       "                           ('output_shape', [-1, 512, 7, 7]),\n",
       "                           ('trainable', False),\n",
       "                           ('nb_params', 1024)])),\n",
       "             ('ReLU-107',\n",
       "              OrderedDict([('input_shape', [-1, 512, 7, 7]),\n",
       "                           ('output_shape', [-1, 512, 7, 7]),\n",
       "                           ('nb_params', 0)])),\n",
       "             ('ResBlock-108',\n",
       "              OrderedDict([('input_shape', [-1, 256, 14, 14]),\n",
       "                           ('output_shape', [-1, 512, 7, 7]),\n",
       "                           ('nb_params', 0)])),\n",
       "             ('Conv2d-109',\n",
       "              OrderedDict([('input_shape', [-1, 512, 7, 7]),\n",
       "                           ('output_shape', [-1, 512, 7, 7]),\n",
       "                           ('trainable', False),\n",
       "                           ('nb_params', 2359296)])),\n",
       "             ('BatchNorm2d-110',\n",
       "              OrderedDict([('input_shape', [-1, 512, 7, 7]),\n",
       "                           ('output_shape', [-1, 512, 7, 7]),\n",
       "                           ('trainable', False),\n",
       "                           ('nb_params', 1024)])),\n",
       "             ('ReLU-111',\n",
       "              OrderedDict([('input_shape', [-1, 512, 7, 7]),\n",
       "                           ('output_shape', [-1, 512, 7, 7]),\n",
       "                           ('nb_params', 0)])),\n",
       "             ('Conv2d-112',\n",
       "              OrderedDict([('input_shape', [-1, 512, 7, 7]),\n",
       "                           ('output_shape', [-1, 512, 7, 7]),\n",
       "                           ('trainable', False),\n",
       "                           ('nb_params', 2359296)])),\n",
       "             ('BatchNorm2d-113',\n",
       "              OrderedDict([('input_shape', [-1, 512, 7, 7]),\n",
       "                           ('output_shape', [-1, 512, 7, 7]),\n",
       "                           ('trainable', False),\n",
       "                           ('nb_params', 1024)])),\n",
       "             ('ReLU-114',\n",
       "              OrderedDict([('input_shape', [-1, 512, 7, 7]),\n",
       "                           ('output_shape', [-1, 512, 7, 7]),\n",
       "                           ('nb_params', 0)])),\n",
       "             ('ResBlock-115',\n",
       "              OrderedDict([('input_shape', [-1, 512, 7, 7]),\n",
       "                           ('output_shape', [-1, 512, 7, 7]),\n",
       "                           ('nb_params', 0)])),\n",
       "             ('Conv2d-116',\n",
       "              OrderedDict([('input_shape', [-1, 512, 7, 7]),\n",
       "                           ('output_shape', [-1, 512, 7, 7]),\n",
       "                           ('trainable', False),\n",
       "                           ('nb_params', 2359296)])),\n",
       "             ('BatchNorm2d-117',\n",
       "              OrderedDict([('input_shape', [-1, 512, 7, 7]),\n",
       "                           ('output_shape', [-1, 512, 7, 7]),\n",
       "                           ('trainable', False),\n",
       "                           ('nb_params', 1024)])),\n",
       "             ('ReLU-118',\n",
       "              OrderedDict([('input_shape', [-1, 512, 7, 7]),\n",
       "                           ('output_shape', [-1, 512, 7, 7]),\n",
       "                           ('nb_params', 0)])),\n",
       "             ('Conv2d-119',\n",
       "              OrderedDict([('input_shape', [-1, 512, 7, 7]),\n",
       "                           ('output_shape', [-1, 512, 7, 7]),\n",
       "                           ('trainable', False),\n",
       "                           ('nb_params', 2359296)])),\n",
       "             ('BatchNorm2d-120',\n",
       "              OrderedDict([('input_shape', [-1, 512, 7, 7]),\n",
       "                           ('output_shape', [-1, 512, 7, 7]),\n",
       "                           ('trainable', False),\n",
       "                           ('nb_params', 1024)])),\n",
       "             ('ReLU-121',\n",
       "              OrderedDict([('input_shape', [-1, 512, 7, 7]),\n",
       "                           ('output_shape', [-1, 512, 7, 7]),\n",
       "                           ('nb_params', 0)])),\n",
       "             ('ResBlock-122',\n",
       "              OrderedDict([('input_shape', [-1, 512, 7, 7]),\n",
       "                           ('output_shape', [-1, 512, 7, 7]),\n",
       "                           ('nb_params', 0)])),\n",
       "             ('Flatten-123',\n",
       "              OrderedDict([('input_shape', [-1, 512, 7, 7]),\n",
       "                           ('output_shape', [-1, 25088]),\n",
       "                           ('nb_params', 0)])),\n",
       "             ('Linear-124',\n",
       "              OrderedDict([('input_shape', [-1, 25088]),\n",
       "                           ('output_shape', [-1, 4]),\n",
       "                           ('trainable', True),\n",
       "                           ('nb_params', 100356)]))])"
      ]
     },
     "execution_count": 27,
     "metadata": {},
     "output_type": "execute_result"
    }
   ],
   "source": [
    "regressor.summary()"
   ]
  },
  {
   "cell_type": "code",
   "execution_count": 28,
   "metadata": {},
   "outputs": [
    {
     "data": {
      "application/vnd.jupyter.widget-view+json": {
       "model_id": "304684e86f82454dbffa90699378c98b",
       "version_major": 2,
       "version_minor": 0
      },
      "text/plain": [
       "HBox(children=(IntProgress(value=0, description='Epoch', max=1, style=ProgressStyle(description_width='initial…"
      ]
     },
     "metadata": {},
     "output_type": "display_data"
    },
    {
     "name": "stdout",
     "output_type": "stream",
     "text": [
      " 42%|█████████████████████████████████████████████████▏                                                                   | 126/300 [00:36<00:41,  4.24it/s, loss=434]"
     ]
    },
    {
     "data": {
      "image/png": "[encoded data removed]",
      "text/plain": [
       "<Figure size 432x288 with 1 Axes>"
      ]
     },
     "metadata": {
      "needs_background": "light"
     },
     "output_type": "display_data"
    }
   ],
   "source": [
    "regressor.lr_find(1e-3,10)\n",
    "regressor.sched.plot(5)"
   ]
  },
  {
   "cell_type": "markdown",
   "metadata": {},
   "source": [
    "Throughout the notebook, we'll use cyclic learning rates. The learning rate decays according to the cosine function and then restarts from the original learning rate after a specified number of epochs. This is the basis of the `SGDR` learning rate scheduler (Stochastic Gradient Descent with Restarts). This prevents the network from converging irreversibly into a local minima and prevents overfitting. Another benefit is that every time the model reaches a minima, we can save a snapshot of it and use all these snapshots later to get an ensemble of models, without having to train these many models."
   ]
  },
  {
   "cell_type": "code",
   "execution_count": 11,
   "metadata": {},
   "outputs": [
    {
     "data": {
      "application/vnd.jupyter.widget-view+json": {
       "model_id": "eb470e1d931340cdb6e1a9d07baca80b",
       "version_major": 2,
       "version_minor": 0
      },
      "text/plain": [
       "HBox(children=(IntProgress(value=0, description='Epoch', max=3, style=ProgressStyle(description_width='initial…"
      ]
     },
     "metadata": {},
     "output_type": "display_data"
    },
    {
     "name": "stdout",
     "output_type": "stream",
     "text": [
      "epoch      trn_loss   val_loss                                                                                                                                        \n",
      "    0      68.12801   58.567166 \n",
      "    1      109.690315 91.253685                                                                                                                                       \n",
      "    2      52.846826  52.764762                                                                                                                                       \n"
     ]
    },
    {
     "data": {
      "text/plain": [
       "[array([52.76476])]"
      ]
     },
     "execution_count": 11,
     "metadata": {},
     "output_type": "execute_result"
    }
   ],
   "source": [
    "lr=3e-3\n",
    "regressor.fit(lr, 2, cycle_len=1, cycle_mult=2, best_save_name='nr34_v0.0')"
   ]
  },
  {
   "cell_type": "code",
   "execution_count": 15,
   "metadata": {},
   "outputs": [],
   "source": [
    "regressor.unfreeze()"
   ]
  },
  {
   "cell_type": "code",
   "execution_count": 16,
   "metadata": {},
   "outputs": [
    {
     "data": {
      "application/vnd.jupyter.widget-view+json": {
       "model_id": "09cd2dd2801e43608d9d459eba4dc87d",
       "version_major": 2,
       "version_minor": 0
      },
      "text/plain": [
       "HBox(children=(IntProgress(value=0, description='Epoch', max=1, style=ProgressStyle(description_width='initial…"
      ]
     },
     "metadata": {},
     "output_type": "display_data"
    },
    {
     "name": "stdout",
     "output_type": "stream",
     "text": [
      " 80%|█████████████████████████████████████████████████████████████████████████████████████████████▏                       | 239/300 [02:04<00:29,  2.08it/s, loss=113]"
     ]
    },
    {
     "data": {
      "image/png": "[encoded data removed]",
      "text/plain": [
       "<Figure size 432x288 with 1 Axes>"
      ]
     },
     "metadata": {
      "needs_background": "light"
     },
     "output_type": "display_data"
    }
   ],
   "source": [
    "regressor.lr_find(1e-3,10)\n",
    "regressor.sched.plot(5)"
   ]
  },
  {
   "cell_type": "markdown",
   "metadata": {},
   "source": [
    "The whole network is unfrozen. We will first train the network with a high enough learning rate, on the small dataset, to temper the network to the dataset."
   ]
  },
  {
   "cell_type": "code",
   "execution_count": 18,
   "metadata": {},
   "outputs": [
    {
     "data": {
      "application/vnd.jupyter.widget-view+json": {
       "model_id": "4fd4a40915114330ab7bb8e45ada89e8",
       "version_major": 2,
       "version_minor": 0
      },
      "text/plain": [
       "HBox(children=(IntProgress(value=0, description='Epoch', max=15, style=ProgressStyle(description_width='initia…"
      ]
     },
     "metadata": {},
     "output_type": "display_data"
    },
    {
     "name": "stdout",
     "output_type": "stream",
     "text": [
      "epoch      trn_loss   val_loss                                                                                                                                        \n",
      "    0      27.514715  25.875357 \n",
      "    1      23.544002  21.80169                                                                                                                                        \n",
      "    2      18.166533  17.630795                                                                                                                                       \n",
      "    3      20.349432  20.725168                                                                                                                                       \n",
      "    4      16.537084  15.95855                                                                                                                                        \n",
      "    5      14.128991  13.572636                                                                                                                                       \n",
      "    6      12.109882  12.494295                                                                                                                                       \n",
      "    7      16.568536  23.459994                                                                                                                                       \n",
      "    8      15.166998  14.411946                                                                                                                                       \n",
      "    9      13.4401    13.967939                                                                                                                                       \n",
      "    10     11.772623  12.590037                                                                                                                                       \n",
      "    11     10.414633  11.669518                                                                                                                                       \n",
      "    12     9.626579   10.428968                                                                                                                                       \n",
      "    13     8.25405    9.334251                                                                                                                                        \n",
      "    14     7.749634   9.190677                                                                                                                                        \n"
     ]
    },
    {
     "data": {
      "text/plain": [
       "[array([9.19068])]"
      ]
     },
     "execution_count": 18,
     "metadata": {},
     "output_type": "execute_result"
    }
   ],
   "source": [
    "lr=1e-2\n",
    "regressor.load('nr34_v0.0')\n",
    "regressor.fit(lr, 4, cycle_len=1, cycle_mult=2, best_save_name='nr34_v0.0')"
   ]
  },
  {
   "cell_type": "code",
   "execution_count": 19,
   "metadata": {},
   "outputs": [],
   "source": [
    "regressor.freeze_all_but(0)"
   ]
  },
  {
   "cell_type": "code",
   "execution_count": 21,
   "metadata": {},
   "outputs": [
    {
     "data": {
      "application/vnd.jupyter.widget-view+json": {
       "model_id": "335f4231bbe2419aa8ea6737fbb2b790",
       "version_major": 2,
       "version_minor": 0
      },
      "text/plain": [
       "HBox(children=(IntProgress(value=0, description='Epoch', max=1, style=ProgressStyle(description_width='initial…"
      ]
     },
     "metadata": {},
     "output_type": "display_data"
    },
    {
     "name": "stdout",
     "output_type": "stream",
     "text": [
      "epoch      trn_loss   val_loss                                                                                                                                        \n",
      "    0      8.042381   13.704726 \n"
     ]
    },
    {
     "data": {
      "image/png": "[encoded data removed]",
      "text/plain": [
       "<Figure size 432x288 with 1 Axes>"
      ]
     },
     "metadata": {
      "needs_background": "light"
     },
     "output_type": "display_data"
    }
   ],
   "source": [
    "regressor.lr_find(1e-6, 1e-2)\n",
    "regressor.sched.plot(5)"
   ]
  },
  {
   "cell_type": "code",
   "execution_count": 23,
   "metadata": {},
   "outputs": [
    {
     "data": {
      "application/vnd.jupyter.widget-view+json": {
       "model_id": "24257a07762d47c1865c71cca8f06869",
       "version_major": 2,
       "version_minor": 0
      },
      "text/plain": [
       "HBox(children=(IntProgress(value=0, description='Epoch', max=15, style=ProgressStyle(description_width='initia…"
      ]
     },
     "metadata": {},
     "output_type": "display_data"
    },
    {
     "name": "stdout",
     "output_type": "stream",
     "text": [
      "epoch      trn_loss   val_loss                                                                                                                                        \n",
      "    0      7.855345   9.208951  \n",
      "    1      7.598537   9.20119                                                                                                                                         \n",
      "    2      7.438321   9.132364                                                                                                                                        \n",
      "    3      7.395836   9.397478                                                                                                                                        \n",
      "    4      7.344246   9.088576                                                                                                                                        \n",
      "    5      7.328573   9.086223                                                                                                                                        \n",
      "    6      6.995603   9.036293                                                                                                                                        \n",
      "    7      7.28876    9.107788                                                                                                                                        \n",
      "    8      7.321925   9.501147                                                                                                                                        \n",
      "    9      7.245462   9.044123                                                                                                                                        \n",
      "    10     6.989999   8.96826                                                                                                                                         \n",
      "    11     6.815511   8.897917                                                                                                                                        \n",
      "    12     7.084582   8.888589                                                                                                                                        \n",
      "    13     6.828164   8.838169                                                                                                                                        \n",
      "    14     6.851742   8.81189                                                                                                                                         \n"
     ]
    },
    {
     "data": {
      "text/plain": [
       "[array([8.81189])]"
      ]
     },
     "execution_count": 23,
     "metadata": {},
     "output_type": "execute_result"
    }
   ],
   "source": [
    "lr=1e-3\n",
    "regressor.load('nr34_v0.0')\n",
    "regressor.fit(lr, 4, cycle_len=1, cycle_mult=2, best_save_name='nr34_v0.1')"
   ]
  },
  {
   "cell_type": "code",
   "execution_count": 24,
   "metadata": {},
   "outputs": [],
   "source": [
    "regressor.freeze_all_but(1)"
   ]
  },
  {
   "cell_type": "code",
   "execution_count": 25,
   "metadata": {},
   "outputs": [
    {
     "data": {
      "application/vnd.jupyter.widget-view+json": {
       "model_id": "3fcc71372f6940e0bbf665bb960f325b",
       "version_major": 2,
       "version_minor": 0
      },
      "text/plain": [
       "HBox(children=(IntProgress(value=0, description='Epoch', max=1, style=ProgressStyle(description_width='initial…"
      ]
     },
     "metadata": {},
     "output_type": "display_data"
    },
    {
     "name": "stdout",
     "output_type": "stream",
     "text": [
      "epoch      trn_loss   val_loss                                                                                                                                        \n",
      "    0      8.536997   12.021021 \n"
     ]
    },
    {
     "data": {
      "image/png": "[encoded data removed]",
      "text/plain": [
       "<Figure size 432x288 with 1 Axes>"
      ]
     },
     "metadata": {
      "needs_background": "light"
     },
     "output_type": "display_data"
    }
   ],
   "source": [
    "regressor.lr_find(1e-6, 1e-2)\n",
    "regressor.sched.plot(5)"
   ]
  },
  {
   "cell_type": "code",
   "execution_count": 26,
   "metadata": {},
   "outputs": [
    {
     "data": {
      "application/vnd.jupyter.widget-view+json": {
       "model_id": "96eaff1603624b8b8db4e82943ca2dcc",
       "version_major": 2,
       "version_minor": 0
      },
      "text/plain": [
       "HBox(children=(IntProgress(value=0, description='Epoch', max=15, style=ProgressStyle(description_width='initia…"
      ]
     },
     "metadata": {},
     "output_type": "display_data"
    },
    {
     "name": "stdout",
     "output_type": "stream",
     "text": [
      "epoch      trn_loss   val_loss                                                                                                                                        \n",
      "    0      6.901695   8.794077  \n",
      "    1      6.943502   8.772713                                                                                                                                        \n",
      "    2      6.660981   8.759281                                                                                                                                        \n",
      "    3      6.814113   8.751176                                                                                                                                        \n",
      "    4      6.845454   8.729939                                                                                                                                        \n",
      "    5      6.701739   8.729376                                                                                                                                        \n",
      "    6      6.621155   8.706817                                                                                                                                        \n",
      "    7      6.811114   8.701357                                                                                                                                        \n",
      "    8      6.651188   8.676609                                                                                                                                        \n",
      "    9      6.397954   8.67491                                                                                                                                         \n",
      "    10     6.243609   8.65653                                                                                                                                         \n",
      "    11     6.430008   8.649746                                                                                                                                        \n",
      "    12     6.643626   8.638277                                                                                                                                        \n",
      "    13     6.475678   8.627381                                                                                                                                        \n",
      "    14     6.180826   8.644908                                                                                                                                        \n"
     ]
    },
    {
     "data": {
      "text/plain": [
       "[array([8.64491])]"
      ]
     },
     "execution_count": 26,
     "metadata": {},
     "output_type": "execute_result"
    }
   ],
   "source": [
    "lr=1e-4\n",
    "regressor.fit(lr, 4, cycle_len=1, cycle_mult=2, best_save_name='nr34_v0.2')"
   ]
  },
  {
   "cell_type": "code",
   "execution_count": 27,
   "metadata": {},
   "outputs": [],
   "source": [
    "regressor.unfreeze()"
   ]
  },
  {
   "cell_type": "markdown",
   "metadata": {},
   "source": [
    "### Fine tuning\n",
    "Now that we have tempered the network, all further training will use the augmented dataset, and a batch size of 16, to prevent overfitting."
   ]
  },
  {
   "cell_type": "code",
   "execution_count": 29,
   "metadata": {},
   "outputs": [],
   "source": [
    "sz = 224\n",
    "bs = 16"
   ]
  },
  {
   "cell_type": "code",
   "execution_count": 31,
   "metadata": {},
   "outputs": [],
   "source": [
    "bb_csv = PATH/'train_aug_bb.csv'\n",
    "tfm_y = TfmType.NO\n",
    "tfms = tfms_from_model(model, sz, crop_type=CropType.NO, aug_tfms=[])\n",
    "datagen_aug = ImageClassifierData.from_csv(PATH, 'train_aug', bb_csv, test_name='test', tfms=tfms, bs=bs, continuous=True)"
   ]
  },
  {
   "cell_type": "code",
   "execution_count": 38,
   "metadata": {},
   "outputs": [
    {
     "name": "stdout",
     "output_type": "stream",
     "text": [
      "(224, 224, 3)\n"
     ]
    },
    {
     "name": "stderr",
     "output_type": "stream",
     "text": [
      "Clipping input data to the valid range for imshow with RGB data ([0..1] for floats or [0..255] for integers).\n"
     ]
    },
    {
     "name": "stdout",
     "output_type": "stream",
     "text": [
      "a [  0.  67. 610. 321.]\n"
     ]
    },
    {
     "data": {
      "text/plain": [
       "array([  0.,  67., 610., 321.], dtype=float32)"
      ]
     },
     "execution_count": 38,
     "metadata": {},
     "output_type": "execute_result"
    },
    {
     "data": {
      "image/png": "[encoded data removed]",
      "text/plain": [
       "<Figure size 432x288 with 1 Axes>"
      ]
     },
     "metadata": {
      "needs_background": "light"
     },
     "output_type": "display_data"
    }
   ],
   "source": [
    "im=datagen_aug.trn_ds[12345][0].transpose([1,2,0])\n",
    "print(im.shape)\n",
    "ax = show_img(im)\n",
    "a=datagen_aug.trn_ds[12345][1]\n",
    "print('a', a)\n",
    "draw_bb(ax,[a[0]*224/640,a[2]*224/640,a[1]*224/480,a[3]*224/480])\n",
    "a"
   ]
  },
  {
   "cell_type": "code",
   "execution_count": 34,
   "metadata": {},
   "outputs": [
    {
     "name": "stdout",
     "output_type": "stream",
     "text": [
      "Number of images in training set:  384000\n",
      "Number of images in validation set:  96000\n",
      "Number of images in test set:  24045\n"
     ]
    }
   ],
   "source": [
    "print('Number of images in training set: ', len(datagen_aug.trn_ds))\n",
    "print('Number of images in validation set: ', len(datagen_aug.val_ds))\n",
    "print('Number of images in test set: ', len(datagen_aug.test_ds))"
   ]
  },
  {
   "cell_type": "code",
   "execution_count": 39,
   "metadata": {},
   "outputs": [],
   "source": [
    "head = nn.Sequential(Flatten(), nn.Linear(25088, 4))\n",
    "learner = ConvnetBuilder(f=model, c=datagen_aug.c,\n",
    "                         is_multi=datagen_aug.is_multi,\n",
    "                         is_reg=True,\n",
    "                         custom_head=head)\n",
    "regressor = ConvLearner(datagen_aug, learner, precompute=False)\n",
    "regressor.opt_fn = optim.Adam\n",
    "regressor.crit = nn.L1Loss()"
   ]
  },
  {
   "cell_type": "code",
   "execution_count": 40,
   "metadata": {},
   "outputs": [],
   "source": [
    "regressor.load('nr34_v0.2')"
   ]
  },
  {
   "cell_type": "code",
   "execution_count": 41,
   "metadata": {},
   "outputs": [],
   "source": [
    "regressor.unfreeze()"
   ]
  },
  {
   "cell_type": "code",
   "execution_count": 33,
   "metadata": {},
   "outputs": [
    {
     "data": {
      "application/vnd.jupyter.widget-view+json": {
       "model_id": "827c21bf43d64cd7ae0966e2edae660d",
       "version_major": 2,
       "version_minor": 0
      },
      "text/plain": [
       "HBox(children=(IntProgress(value=0, description='Epoch', max=1, style=ProgressStyle(description_width='initial…"
      ]
     },
     "metadata": {},
     "output_type": "display_data"
    },
    {
     "name": "stdout",
     "output_type": "stream",
     "text": [
      "epoch      trn_loss   val_loss                                                                                                                                        \n",
      "    0      18.399643  21.643681 \n"
     ]
    },
    {
     "data": {
      "image/png": "[encoded data removed]",
      "text/plain": [
       "<Figure size 432x288 with 1 Axes>"
      ]
     },
     "metadata": {
      "needs_background": "light"
     },
     "output_type": "display_data"
    }
   ],
   "source": [
    "regressor.lr_find(1e-6, 1e-2)\n",
    "regressor.sched.plot(5)"
   ]
  },
  {
   "cell_type": "code",
   "execution_count": 34,
   "metadata": {},
   "outputs": [],
   "source": [
    "regressor.load('nr34_v0.2')\n",
    "regressor.unfreeze()"
   ]
  },
  {
   "cell_type": "code",
   "execution_count": 35,
   "metadata": {},
   "outputs": [
    {
     "data": {
      "application/vnd.jupyter.widget-view+json": {
       "model_id": "3d595756439f4d02a4792f6f4d069f35",
       "version_major": 2,
       "version_minor": 0
      },
      "text/plain": [
       "HBox(children=(IntProgress(value=0, description='Epoch', max=15, style=ProgressStyle(description_width='initia…"
      ]
     },
     "metadata": {},
     "output_type": "display_data"
    },
    {
     "name": "stdout",
     "output_type": "stream",
     "text": [
      "epoch      trn_loss   val_loss                                                                                                                                        \n",
      "    0      9.622942   9.40588   \n",
      "    1      9.160407   8.832906                                                                                                                                        \n",
      "    2      9.081863   8.629565                                                                                                                                        \n",
      "    3      8.653056   8.510391                                                                                                                                        \n",
      "    4      7.787274   8.097724                                                                                                                                        \n",
      "    5      7.283014   7.903505                                                                                                                                        \n",
      "    6      7.084588   7.840402                                                                                                                                        \n",
      "    7      7.301391   8.029572                                                                                                                                        \n",
      "    8      7.168025   7.855143                                                                                                                                        \n",
      "    9      6.721269   7.52249                                                                                                                                         \n",
      "    10     6.425998   7.36577                                                                                                                                         \n",
      "    11     6.400173   7.238792                                                                                                                                        \n",
      "    12     7.314792   7.102725                                                                                                                                        \n",
      "    13     5.995104   7.069474                                                                                                                                        \n",
      "    14     6.334222   7.047163                                                                                                                                        \n"
     ]
    },
    {
     "data": {
      "text/plain": [
       "[array([7.04716])]"
      ]
     },
     "execution_count": 35,
     "metadata": {},
     "output_type": "execute_result"
    }
   ],
   "source": [
    "lr=1e-4\n",
    "regressor.fit(lr, 4, cycle_len=1, cycle_mult=2, best_save_name='nr34_v0.3')"
   ]
  },
  {
   "cell_type": "code",
   "execution_count": 39,
   "metadata": {},
   "outputs": [],
   "source": [
    "regressor.freeze_to(-1)"
   ]
  },
  {
   "cell_type": "code",
   "execution_count": 40,
   "metadata": {},
   "outputs": [
    {
     "data": {
      "application/vnd.jupyter.widget-view+json": {
       "model_id": "243cc0060aea4c809c8d645f2652effc",
       "version_major": 2,
       "version_minor": 0
      },
      "text/plain": [
       "HBox(children=(IntProgress(value=0, description='Epoch', max=1, style=ProgressStyle(description_width='initial…"
      ]
     },
     "metadata": {},
     "output_type": "display_data"
    },
    {
     "name": "stdout",
     "output_type": "stream",
     "text": [
      "epoch      trn_loss   val_loss                                                                                                                                        \n",
      "    0      9.196487   11.227101 \n"
     ]
    },
    {
     "data": {
      "image/png": "[encoded data removed]",
      "text/plain": [
       "<Figure size 432x288 with 1 Axes>"
      ]
     },
     "metadata": {
      "needs_background": "light"
     },
     "output_type": "display_data"
    }
   ],
   "source": [
    "regressor.lr_find(1e-6, 1e-2)\n",
    "regressor.sched.plot(5)"
   ]
  },
  {
   "cell_type": "code",
   "execution_count": 42,
   "metadata": {},
   "outputs": [],
   "source": [
    "regressor.unfreeze()\n",
    "regressor.freeze_to(-2)"
   ]
  },
  {
   "cell_type": "code",
   "execution_count": 43,
   "metadata": {},
   "outputs": [
    {
     "data": {
      "application/vnd.jupyter.widget-view+json": {
       "model_id": "944a2aa341ce4058b10202ac6c8932fa",
       "version_major": 2,
       "version_minor": 0
      },
      "text/plain": [
       "HBox(children=(IntProgress(value=0, description='Epoch', max=1, style=ProgressStyle(description_width='initial…"
      ]
     },
     "metadata": {},
     "output_type": "display_data"
    },
    {
     "name": "stdout",
     "output_type": "stream",
     "text": [
      "epoch      trn_loss   val_loss                                                                                                                                        \n",
      "    0      13.604466  13.323856 \n"
     ]
    },
    {
     "data": {
      "image/png": "[encoded data removed]",
      "text/plain": [
       "<Figure size 432x288 with 1 Axes>"
      ]
     },
     "metadata": {
      "needs_background": "light"
     },
     "output_type": "display_data"
    }
   ],
   "source": [
    "regressor.lr_find(1e-6, 1e-2)\n",
    "regressor.sched.plot(5)"
   ]
  },
  {
   "cell_type": "code",
   "execution_count": 44,
   "metadata": {},
   "outputs": [],
   "source": [
    "regressor.load('nr34_v0.3')"
   ]
  },
  {
   "cell_type": "code",
   "execution_count": 45,
   "metadata": {},
   "outputs": [
    {
     "data": {
      "application/vnd.jupyter.widget-view+json": {
       "model_id": "9d50dbfb850047daac32ba0cbd487c9b",
       "version_major": 2,
       "version_minor": 0
      },
      "text/plain": [
       "HBox(children=(IntProgress(value=0, description='Epoch', max=31, style=ProgressStyle(description_width='initia…"
      ]
     },
     "metadata": {},
     "output_type": "display_data"
    },
    {
     "name": "stdout",
     "output_type": "stream",
     "text": [
      "epoch      trn_loss   val_loss                                                                                                                                        \n",
      "    0      7.086009   7.022355  \n",
      "    1      5.896448   7.070824                                                                                                                                        \n",
      "    2      5.424847   6.917821                                                                                                                                        \n",
      "    3      6.614825   7.046163                                                                                                                                        \n",
      "    4      5.277228   6.943494                                                                                                                                        \n",
      "    5      5.168299   6.821067                                                                                                                                        \n",
      "    6      4.885701   6.790365                                                                                                                                        \n",
      "    7      5.55937    7.024873                                                                                                                                        \n",
      "    8      5.251766   6.928416                                                                                                                                        \n",
      "    9      5.065716   6.830942                                                                                                                                        \n",
      "    10     5.969999   6.728508                                                                                                                                        \n",
      "    11     4.599645   6.663382                                                                                                                                        \n",
      "    12     4.767925   6.639946                                                                                                                                        \n",
      "    13     4.398668   6.59237                                                                                                                                         \n",
      "    14     4.479818   6.582514                                                                                                                                        \n",
      "    15     5.099289   6.802092                                                                                                                                        \n",
      "    16     4.938978   6.846033                                                                                                                                        \n",
      "    17     4.867148   6.765357                                                                                                                                        \n",
      "    18     4.768583   6.62577                                                                                                                                         \n",
      "    19     4.485943   6.624738                                                                                                                                        \n",
      "    20     4.305527   6.636142                                                                                                                                        \n",
      "    21     4.090812   6.54415                                                                                                                                         \n",
      "    22     3.986646   6.500164                                                                                                                                        \n",
      "    23     4.358994   6.535759                                                                                                                                        \n",
      "    24     3.654294   6.455448                                                                                                                                        \n",
      "    25     3.925305   6.414505                                                                                                                                        \n",
      "    26     3.89553    6.419986                                                                                                                                        \n",
      "    27     3.78518    6.413698                                                                                                                                        \n",
      "    28     3.351271   6.410059                                                                                                                                        \n",
      "    29     3.548549   6.39812                                                                                                                                         \n",
      "    30     3.635134   6.398178                                                                                                                                        \n"
     ]
    },
    {
     "data": {
      "text/plain": [
       "[array([6.39818])]"
      ]
     },
     "execution_count": 45,
     "metadata": {},
     "output_type": "execute_result"
    }
   ],
   "source": [
    "lr=1e-4\n",
    "regressor.fit(lr, 5, cycle_len=1, cycle_mult=2, best_save_name='nr34_v0.4')"
   ]
  },
  {
   "cell_type": "code",
   "execution_count": 46,
   "metadata": {},
   "outputs": [],
   "source": [
    "regressor.load('nr34_v0.4')"
   ]
  },
  {
   "cell_type": "code",
   "execution_count": 47,
   "metadata": {},
   "outputs": [],
   "source": [
    "regressor.freeze_to(-1)"
   ]
  },
  {
   "cell_type": "code",
   "execution_count": 48,
   "metadata": {},
   "outputs": [
    {
     "data": {
      "application/vnd.jupyter.widget-view+json": {
       "model_id": "8a1a5c8cda774cfa9408dc554557c5ef",
       "version_major": 2,
       "version_minor": 0
      },
      "text/plain": [
       "HBox(children=(IntProgress(value=0, description='Epoch', max=15, style=ProgressStyle(description_width='initia…"
      ]
     },
     "metadata": {},
     "output_type": "display_data"
    },
    {
     "name": "stdout",
     "output_type": "stream",
     "text": [
      "epoch      trn_loss   val_loss                                                                                                                                        \n",
      "    0      2.843282   6.384829  \n",
      "    1      3.338653   6.383554                                                                                                                                        \n",
      "    2      3.001899   6.382801                                                                                                                                        \n",
      "    3      3.494076   6.391386                                                                                                                                        \n",
      "    4      3.157896   6.386607                                                                                                                                        \n",
      "    5      3.265622   6.382745                                                                                                                                        \n",
      "    6      3.37387    6.382441                                                                                                                                        \n",
      "    7      2.976652   6.38891                                                                                                                                         \n",
      "    8      3.681734   6.386582                                                                                                                                        \n",
      "    9      3.095309   6.38353                                                                                                                                         \n",
      "    10     3.506734   6.386201                                                                                                                                        \n",
      "    11     2.934678   6.383476                                                                                                                                        \n",
      "    12     3.174391   6.384507                                                                                                                                        \n",
      "    13     3.289657   6.383115                                                                                                                                        \n",
      "    14     3.150065   6.383091                                                                                                                                        \n"
     ]
    },
    {
     "data": {
      "text/plain": [
       "[array([6.38309])]"
      ]
     },
     "execution_count": 48,
     "metadata": {},
     "output_type": "execute_result"
    }
   ],
   "source": [
    "lr=4e-5\n",
    "regressor.fit(lr, 4, cycle_len=1, cycle_mult=2, best_save_name='nr34_v0.5')"
   ]
  },
  {
   "cell_type": "code",
   "execution_count": 49,
   "metadata": {},
   "outputs": [],
   "source": [
    "regressor.load('nr34_v0.5')"
   ]
  },
  {
   "cell_type": "code",
   "execution_count": 50,
   "metadata": {},
   "outputs": [],
   "source": [
    "regressor.unfreeze()"
   ]
  },
  {
   "cell_type": "code",
   "execution_count": 51,
   "metadata": {},
   "outputs": [
    {
     "data": {
      "application/vnd.jupyter.widget-view+json": {
       "model_id": "58461001eec64446a512314bdc8d3555",
       "version_major": 2,
       "version_minor": 0
      },
      "text/plain": [
       "HBox(children=(IntProgress(value=0, description='Epoch', max=1, style=ProgressStyle(description_width='initial…"
      ]
     },
     "metadata": {},
     "output_type": "display_data"
    },
    {
     "name": "stdout",
     "output_type": "stream",
     "text": []
    },
    {
     "data": {
      "image/png": "[encoded data removed]",
      "text/plain": [
       "<Figure size 432x288 with 1 Axes>"
      ]
     },
     "metadata": {
      "needs_background": "light"
     },
     "output_type": "display_data"
    }
   ],
   "source": [
    "regressor.lr_find(1e-6, 1e-2)\n",
    "regressor.sched.plot(5)"
   ]
  },
  {
   "cell_type": "code",
   "execution_count": 53,
   "metadata": {},
   "outputs": [],
   "source": [
    "regressor.load('nr34_v0.5')"
   ]
  },
  {
   "cell_type": "code",
   "execution_count": 54,
   "metadata": {},
   "outputs": [
    {
     "data": {
      "application/vnd.jupyter.widget-view+json": {
       "model_id": "b3dcb4f4df584faa8559bea71952c640",
       "version_major": 2,
       "version_minor": 0
      },
      "text/plain": [
       "HBox(children=(IntProgress(value=0, description='Epoch', max=7, style=ProgressStyle(description_width='initial…"
      ]
     },
     "metadata": {},
     "output_type": "display_data"
    },
    {
     "name": "stdout",
     "output_type": "stream",
     "text": [
      "epoch      trn_loss   val_loss                                                                                                                                        \n",
      "    0      3.662631   6.412508  \n",
      "    1      3.55621    6.41575                                                                                                                                         \n",
      "    2      3.435932   6.399679                                                                                                                                        \n",
      "    3      3.528438   6.401477                                                                                                                                        \n",
      "    4      3.736286   6.412006                                                                                                                                        \n",
      "    5      3.736971   6.411332                                                                                                                                        \n",
      "    6      3.422205   6.389687                                                                                                                                        \n"
     ]
    },
    {
     "data": {
      "text/plain": [
       "[array([6.38969])]"
      ]
     },
     "execution_count": 54,
     "metadata": {},
     "output_type": "execute_result"
    }
   ],
   "source": [
    "lr=7e-6\n",
    "regressor.fit(lr, 3, cycle_len=1, cycle_mult=2, best_save_name='nr34_v0.6')"
   ]
  },
  {
   "cell_type": "markdown",
   "metadata": {},
   "source": [
    "Creating a submission file at this validation loss gives us a testing score of 93.55.\n",
    "<br>\n",
    "Before running the next cell, run the `create_submission` function given at the very end, with the right regressor object to create a submission."
   ]
  },
  {
   "cell_type": "code",
   "execution_count": 43,
   "metadata": {},
   "outputs": [],
   "source": [
    "create_submission(regressor, 'sub_1')"
   ]
  },
  {
   "cell_type": "markdown",
   "metadata": {},
   "source": [
    "## Second model\n",
    "_This is the model we reached our best testing score on_\n",
    "<br>\n",
    "<br>\n",
    "For our next model, we used the __ResNeXt101__ architecture with 32 channels. It's a huge model, so we cannot use a large batch size for tempering. 20 is the largest batch size that I could fit in my GPU for this model.\n",
    "<br>\n",
    "<br>\n",
    "When I trained it for the first time, this model stagnated at a validation loss of ~8.5. This was unexpected as a ResNeXt101 has a lot more parameters than a ResNet34. To debug this, I removed the regressor layer and the last 3 convolutional layers. I freezed the remaining model and trained a single dense layer just on the last part. I found that this new regressor wasn't able to learn anything either. This meant that our gradients had died. Most (if not all) the neurons within the inner parts of the network had reduced to minuscule values. This is an inherent problem with the ReLU activation function, especially with datasets with not a lot of variance.\n",
    "<br>\n",
    "To tackle this problem, we can replace ReLU with LeakyReLU or SELU.\n",
    "<br>\n",
    "So I replaced all the ReLU activations of ResNeXt101 with SELU."
   ]
  },
  {
   "cell_type": "code",
   "execution_count": 44,
   "metadata": {},
   "outputs": [],
   "source": [
    "class LambdaBase(nn.Sequential):\n",
    "    def __init__(self, fn, *args):\n",
    "        super(LambdaBase, self).__init__(*args)\n",
    "        self.lambda_func = fn\n",
    "\n",
    "    def forward_prepare(self, input):\n",
    "        output = []\n",
    "        for module in self._modules.values():\n",
    "            output.append(module(input))\n",
    "        return output if output else input\n",
    "\n",
    "class Lambda(LambdaBase):\n",
    "    def forward(self, input):\n",
    "        return self.lambda_func(self.forward_prepare(input))\n",
    "\n",
    "class LambdaMap(LambdaBase):\n",
    "    def forward(self, input):\n",
    "        return list(map(self.lambda_func,self.forward_prepare(input)))\n",
    "\n",
    "class LambdaReduce(LambdaBase):\n",
    "    def forward(self, input):\n",
    "        return reduce(self.lambda_func,self.forward_prepare(input))"
   ]
  },
  {
   "cell_type": "code",
   "execution_count": 45,
   "metadata": {},
   "outputs": [],
   "source": [
    "def resnext101(): return nn.Sequential( # Sequential,\n",
    "    nn.Conv2d(3,64,(7, 7),(2, 2),(3, 3),1,1,bias=False),\n",
    "    nn.BatchNorm2d(64),\n",
    "    nn.SELU(),\n",
    "    nn.MaxPool2d((3, 3),(2, 2),(1, 1)),\n",
    "    nn.Sequential( # Sequential,\n",
    "        nn.Sequential( # Sequential,\n",
    "            LambdaMap(lambda x: x, # ConcatTable,\n",
    "                nn.Sequential( # Sequential,\n",
    "                    nn.Sequential( # Sequential,\n",
    "                        nn.Conv2d(64,128,(1, 1),(1, 1),(0, 0),1,1,bias=False),\n",
    "                        nn.BatchNorm2d(128),\n",
    "                        nn.SELU(),\n",
    "                        nn.Conv2d(128,128,(3, 3),(1, 1),(1, 1),1,32,bias=False),\n",
    "                        nn.BatchNorm2d(128),\n",
    "                        nn.SELU(),\n",
    "                    ),\n",
    "                    nn.Conv2d(128,256,(1, 1),(1, 1),(0, 0),1,1,bias=False),\n",
    "                    nn.BatchNorm2d(256),\n",
    "                ),\n",
    "                nn.Sequential( # Sequential,\n",
    "                    nn.Conv2d(64,256,(1, 1),(1, 1),(0, 0),1,1,bias=False),\n",
    "                    nn.BatchNorm2d(256),\n",
    "                ),\n",
    "            ),\n",
    "            LambdaReduce(lambda x,y: x+y), # CAddTable,\n",
    "            nn.SELU(),\n",
    "        ),\n",
    "        nn.Sequential( # Sequential,\n",
    "            LambdaMap(lambda x: x, # ConcatTable,\n",
    "                nn.Sequential( # Sequential,\n",
    "                    nn.Sequential( # Sequential,\n",
    "                        nn.Conv2d(256,128,(1, 1),(1, 1),(0, 0),1,1,bias=False),\n",
    "                        nn.BatchNorm2d(128),\n",
    "                        nn.SELU(),\n",
    "                        nn.Conv2d(128,128,(3, 3),(1, 1),(1, 1),1,32,bias=False),\n",
    "                        nn.BatchNorm2d(128),\n",
    "                        nn.SELU(),\n",
    "                    ),\n",
    "                    nn.Conv2d(128,256,(1, 1),(1, 1),(0, 0),1,1,bias=False),\n",
    "                    nn.BatchNorm2d(256),\n",
    "                ),\n",
    "                Lambda(lambda x: x), # Identity,\n",
    "            ),\n",
    "            LambdaReduce(lambda x,y: x+y), # CAddTable,\n",
    "            nn.SELU(),\n",
    "        ),\n",
    "        nn.Sequential( # Sequential,\n",
    "            LambdaMap(lambda x: x, # ConcatTable,\n",
    "                nn.Sequential( # Sequential,\n",
    "                    nn.Sequential( # Sequential,\n",
    "                        nn.Conv2d(256,128,(1, 1),(1, 1),(0, 0),1,1,bias=False),\n",
    "                        nn.BatchNorm2d(128),\n",
    "                        nn.SELU(),\n",
    "                        nn.Conv2d(128,128,(3, 3),(1, 1),(1, 1),1,32,bias=False),\n",
    "                        nn.BatchNorm2d(128),\n",
    "                        nn.SELU(),\n",
    "                    ),\n",
    "                    nn.Conv2d(128,256,(1, 1),(1, 1),(0, 0),1,1,bias=False),\n",
    "                    nn.BatchNorm2d(256),\n",
    "                ),\n",
    "                Lambda(lambda x: x), # Identity,\n",
    "            ),\n",
    "            LambdaReduce(lambda x,y: x+y), # CAddTable,\n",
    "            nn.SELU(),\n",
    "        ),\n",
    "    ),\n",
    "    nn.Sequential( # Sequential,\n",
    "        nn.Sequential( # Sequential,\n",
    "            LambdaMap(lambda x: x, # ConcatTable,\n",
    "                nn.Sequential( # Sequential,\n",
    "                    nn.Sequential( # Sequential,\n",
    "                        nn.Conv2d(256,256,(1, 1),(1, 1),(0, 0),1,1,bias=False),\n",
    "                        nn.BatchNorm2d(256),\n",
    "                        nn.SELU(),\n",
    "                        nn.Conv2d(256,256,(3, 3),(2, 2),(1, 1),1,32,bias=False),\n",
    "                        nn.BatchNorm2d(256),\n",
    "                        nn.SELU(),\n",
    "                    ),\n",
    "                    nn.Conv2d(256,512,(1, 1),(1, 1),(0, 0),1,1,bias=False),\n",
    "                    nn.BatchNorm2d(512),\n",
    "                ),\n",
    "                nn.Sequential( # Sequential,\n",
    "                    nn.Conv2d(256,512,(1, 1),(2, 2),(0, 0),1,1,bias=False),\n",
    "                    nn.BatchNorm2d(512),\n",
    "                ),\n",
    "            ),\n",
    "            LambdaReduce(lambda x,y: x+y), # CAddTable,\n",
    "            nn.SELU(),\n",
    "        ),\n",
    "        nn.Sequential( # Sequential,\n",
    "            LambdaMap(lambda x: x, # ConcatTable,\n",
    "                nn.Sequential( # Sequential,\n",
    "                    nn.Sequential( # Sequential,\n",
    "                        nn.Conv2d(512,256,(1, 1),(1, 1),(0, 0),1,1,bias=False),\n",
    "                        nn.BatchNorm2d(256),\n",
    "                        nn.SELU(),\n",
    "                        nn.Conv2d(256,256,(3, 3),(1, 1),(1, 1),1,32,bias=False),\n",
    "                        nn.BatchNorm2d(256),\n",
    "                        nn.SELU(),\n",
    "                    ),\n",
    "                    nn.Conv2d(256,512,(1, 1),(1, 1),(0, 0),1,1,bias=False),\n",
    "                    nn.BatchNorm2d(512),\n",
    "                ),\n",
    "                Lambda(lambda x: x), # Identity,\n",
    "            ),\n",
    "            LambdaReduce(lambda x,y: x+y), # CAddTable,\n",
    "            nn.SELU(),\n",
    "        ),\n",
    "        nn.Sequential( # Sequential,\n",
    "            LambdaMap(lambda x: x, # ConcatTable,\n",
    "                nn.Sequential( # Sequential,\n",
    "                    nn.Sequential( # Sequential,\n",
    "                        nn.Conv2d(512,256,(1, 1),(1, 1),(0, 0),1,1,bias=False),\n",
    "                        nn.BatchNorm2d(256),\n",
    "                        nn.SELU(),\n",
    "                        nn.Conv2d(256,256,(3, 3),(1, 1),(1, 1),1,32,bias=False),\n",
    "                        nn.BatchNorm2d(256),\n",
    "                        nn.SELU(),\n",
    "                    ),\n",
    "                    nn.Conv2d(256,512,(1, 1),(1, 1),(0, 0),1,1,bias=False),\n",
    "                    nn.BatchNorm2d(512),\n",
    "                ),\n",
    "                Lambda(lambda x: x), # Identity,\n",
    "            ),\n",
    "            LambdaReduce(lambda x,y: x+y), # CAddTable,\n",
    "            nn.SELU(),\n",
    "        ),\n",
    "        nn.Sequential( # Sequential,\n",
    "            LambdaMap(lambda x: x, # ConcatTable,\n",
    "                nn.Sequential( # Sequential,\n",
    "                    nn.Sequential( # Sequential,\n",
    "                        nn.Conv2d(512,256,(1, 1),(1, 1),(0, 0),1,1,bias=False),\n",
    "                        nn.BatchNorm2d(256),\n",
    "                        nn.SELU(),\n",
    "                        nn.Conv2d(256,256,(3, 3),(1, 1),(1, 1),1,32,bias=False),\n",
    "                        nn.BatchNorm2d(256),\n",
    "                        nn.SELU(),\n",
    "                    ),\n",
    "                    nn.Conv2d(256,512,(1, 1),(1, 1),(0, 0),1,1,bias=False),\n",
    "                    nn.BatchNorm2d(512),\n",
    "                ),\n",
    "                Lambda(lambda x: x), # Identity,\n",
    "            ),\n",
    "            LambdaReduce(lambda x,y: x+y), # CAddTable,\n",
    "            nn.SELU(),\n",
    "        ),\n",
    "    ),\n",
    "    nn.Sequential( # Sequential,\n",
    "        nn.Sequential( # Sequential,\n",
    "            LambdaMap(lambda x: x, # ConcatTable,\n",
    "                nn.Sequential( # Sequential,\n",
    "                    nn.Sequential( # Sequential,\n",
    "                        nn.Conv2d(512,512,(1, 1),(1, 1),(0, 0),1,1,bias=False),\n",
    "                        nn.BatchNorm2d(512),\n",
    "                        nn.SELU(),\n",
    "                        nn.Conv2d(512,512,(3, 3),(2, 2),(1, 1),1,32,bias=False),\n",
    "                        nn.BatchNorm2d(512),\n",
    "                        nn.SELU(),\n",
    "                    ),\n",
    "                    nn.Conv2d(512,1024,(1, 1),(1, 1),(0, 0),1,1,bias=False),\n",
    "                    nn.BatchNorm2d(1024),\n",
    "                ),\n",
    "                nn.Sequential( # Sequential,\n",
    "                    nn.Conv2d(512,1024,(1, 1),(2, 2),(0, 0),1,1,bias=False),\n",
    "                    nn.BatchNorm2d(1024),\n",
    "                ),\n",
    "            ),\n",
    "            LambdaReduce(lambda x,y: x+y), # CAddTable,\n",
    "            nn.SELU(),\n",
    "        ),\n",
    "        nn.Sequential( # Sequential,\n",
    "            LambdaMap(lambda x: x, # ConcatTable,\n",
    "                nn.Sequential( # Sequential,\n",
    "                    nn.Sequential( # Sequential,\n",
    "                        nn.Conv2d(1024,512,(1, 1),(1, 1),(0, 0),1,1,bias=False),\n",
    "                        nn.BatchNorm2d(512),\n",
    "                        nn.SELU(),\n",
    "                        nn.Conv2d(512,512,(3, 3),(1, 1),(1, 1),1,32,bias=False),\n",
    "                        nn.BatchNorm2d(512),\n",
    "                        nn.SELU(),\n",
    "                    ),\n",
    "                    nn.Conv2d(512,1024,(1, 1),(1, 1),(0, 0),1,1,bias=False),\n",
    "                    nn.BatchNorm2d(1024),\n",
    "                ),\n",
    "                Lambda(lambda x: x), # Identity,\n",
    "            ),\n",
    "            LambdaReduce(lambda x,y: x+y), # CAddTable,\n",
    "            nn.SELU(),\n",
    "        ),\n",
    "        nn.Sequential( # Sequential,\n",
    "            LambdaMap(lambda x: x, # ConcatTable,\n",
    "                nn.Sequential( # Sequential,\n",
    "                    nn.Sequential( # Sequential,\n",
    "                        nn.Conv2d(1024,512,(1, 1),(1, 1),(0, 0),1,1,bias=False),\n",
    "                        nn.BatchNorm2d(512),\n",
    "                        nn.SELU(),\n",
    "                        nn.Conv2d(512,512,(3, 3),(1, 1),(1, 1),1,32,bias=False),\n",
    "                        nn.BatchNorm2d(512),\n",
    "                        nn.SELU(),\n",
    "                    ),\n",
    "                    nn.Conv2d(512,1024,(1, 1),(1, 1),(0, 0),1,1,bias=False),\n",
    "                    nn.BatchNorm2d(1024),\n",
    "                ),\n",
    "                Lambda(lambda x: x), # Identity,\n",
    "            ),\n",
    "            LambdaReduce(lambda x,y: x+y), # CAddTable,\n",
    "            nn.SELU(),\n",
    "        ),\n",
    "        nn.Sequential( # Sequential,\n",
    "            LambdaMap(lambda x: x, # ConcatTable,\n",
    "                nn.Sequential( # Sequential,\n",
    "                    nn.Sequential( # Sequential,\n",
    "                        nn.Conv2d(1024,512,(1, 1),(1, 1),(0, 0),1,1,bias=False),\n",
    "                        nn.BatchNorm2d(512),\n",
    "                        nn.SELU(),\n",
    "                        nn.Conv2d(512,512,(3, 3),(1, 1),(1, 1),1,32,bias=False),\n",
    "                        nn.BatchNorm2d(512),\n",
    "                        nn.SELU(),\n",
    "                    ),\n",
    "                    nn.Conv2d(512,1024,(1, 1),(1, 1),(0, 0),1,1,bias=False),\n",
    "                    nn.BatchNorm2d(1024),\n",
    "                ),\n",
    "                Lambda(lambda x: x), # Identity,\n",
    "            ),\n",
    "            LambdaReduce(lambda x,y: x+y), # CAddTable,\n",
    "            nn.SELU(),\n",
    "        ),\n",
    "        nn.Sequential( # Sequential,\n",
    "            LambdaMap(lambda x: x, # ConcatTable,\n",
    "                nn.Sequential( # Sequential,\n",
    "                    nn.Sequential( # Sequential,\n",
    "                        nn.Conv2d(1024,512,(1, 1),(1, 1),(0, 0),1,1,bias=False),\n",
    "                        nn.BatchNorm2d(512),\n",
    "                        nn.SELU(),\n",
    "                        nn.Conv2d(512,512,(3, 3),(1, 1),(1, 1),1,32,bias=False),\n",
    "                        nn.BatchNorm2d(512),\n",
    "                        nn.SELU(),\n",
    "                    ),\n",
    "                    nn.Conv2d(512,1024,(1, 1),(1, 1),(0, 0),1,1,bias=False),\n",
    "                    nn.BatchNorm2d(1024),\n",
    "                ),\n",
    "                Lambda(lambda x: x), # Identity,\n",
    "            ),\n",
    "            LambdaReduce(lambda x,y: x+y), # CAddTable,\n",
    "            nn.SELU(),\n",
    "        ),\n",
    "        nn.Sequential( # Sequential,\n",
    "            LambdaMap(lambda x: x, # ConcatTable,\n",
    "                nn.Sequential( # Sequential,\n",
    "                    nn.Sequential( # Sequential,\n",
    "                        nn.Conv2d(1024,512,(1, 1),(1, 1),(0, 0),1,1,bias=False),\n",
    "                        nn.BatchNorm2d(512),\n",
    "                        nn.SELU(),\n",
    "                        nn.Conv2d(512,512,(3, 3),(1, 1),(1, 1),1,32,bias=False),\n",
    "                        nn.BatchNorm2d(512),\n",
    "                        nn.SELU(),\n",
    "                    ),\n",
    "                    nn.Conv2d(512,1024,(1, 1),(1, 1),(0, 0),1,1,bias=False),\n",
    "                    nn.BatchNorm2d(1024),\n",
    "                ),\n",
    "                Lambda(lambda x: x), # Identity,\n",
    "            ),\n",
    "            LambdaReduce(lambda x,y: x+y), # CAddTable,\n",
    "            nn.SELU(),\n",
    "        ),\n",
    "        nn.Sequential( # Sequential,\n",
    "            LambdaMap(lambda x: x, # ConcatTable,\n",
    "                nn.Sequential( # Sequential,\n",
    "                    nn.Sequential( # Sequential,\n",
    "                        nn.Conv2d(1024,512,(1, 1),(1, 1),(0, 0),1,1,bias=False),\n",
    "                        nn.BatchNorm2d(512),\n",
    "                        nn.SELU(),\n",
    "                        nn.Conv2d(512,512,(3, 3),(1, 1),(1, 1),1,32,bias=False),\n",
    "                        nn.BatchNorm2d(512),\n",
    "                        nn.SELU(),\n",
    "                    ),\n",
    "                    nn.Conv2d(512,1024,(1, 1),(1, 1),(0, 0),1,1,bias=False),\n",
    "                    nn.BatchNorm2d(1024),\n",
    "                ),\n",
    "                Lambda(lambda x: x), # Identity,\n",
    "            ),\n",
    "            LambdaReduce(lambda x,y: x+y), # CAddTable,\n",
    "            nn.SELU(),\n",
    "        ),\n",
    "        nn.Sequential( # Sequential,\n",
    "            LambdaMap(lambda x: x, # ConcatTable,\n",
    "                nn.Sequential( # Sequential,\n",
    "                    nn.Sequential( # Sequential,\n",
    "                        nn.Conv2d(1024,512,(1, 1),(1, 1),(0, 0),1,1,bias=False),\n",
    "                        nn.BatchNorm2d(512),\n",
    "                        nn.SELU(),\n",
    "                        nn.Conv2d(512,512,(3, 3),(1, 1),(1, 1),1,32,bias=False),\n",
    "                        nn.BatchNorm2d(512),\n",
    "                        nn.SELU(),\n",
    "                    ),\n",
    "                    nn.Conv2d(512,1024,(1, 1),(1, 1),(0, 0),1,1,bias=False),\n",
    "                    nn.BatchNorm2d(1024),\n",
    "                ),\n",
    "                Lambda(lambda x: x), # Identity,\n",
    "            ),\n",
    "            LambdaReduce(lambda x,y: x+y), # CAddTable,\n",
    "            nn.SELU(),\n",
    "        ),\n",
    "        nn.Sequential( # Sequential,\n",
    "            LambdaMap(lambda x: x, # ConcatTable,\n",
    "                nn.Sequential( # Sequential,\n",
    "                    nn.Sequential( # Sequential,\n",
    "                        nn.Conv2d(1024,512,(1, 1),(1, 1),(0, 0),1,1,bias=False),\n",
    "                        nn.BatchNorm2d(512),\n",
    "                        nn.SELU(),\n",
    "                        nn.Conv2d(512,512,(3, 3),(1, 1),(1, 1),1,32,bias=False),\n",
    "                        nn.BatchNorm2d(512),\n",
    "                        nn.SELU(),\n",
    "                    ),\n",
    "                    nn.Conv2d(512,1024,(1, 1),(1, 1),(0, 0),1,1,bias=False),\n",
    "                    nn.BatchNorm2d(1024),\n",
    "                ),\n",
    "                Lambda(lambda x: x), # Identity,\n",
    "            ),\n",
    "            LambdaReduce(lambda x,y: x+y), # CAddTable,\n",
    "            nn.SELU(),\n",
    "        ),\n",
    "        nn.Sequential( # Sequential,\n",
    "            LambdaMap(lambda x: x, # ConcatTable,\n",
    "                nn.Sequential( # Sequential,\n",
    "                    nn.Sequential( # Sequential,\n",
    "                        nn.Conv2d(1024,512,(1, 1),(1, 1),(0, 0),1,1,bias=False),\n",
    "                        nn.BatchNorm2d(512),\n",
    "                        nn.SELU(),\n",
    "                        nn.Conv2d(512,512,(3, 3),(1, 1),(1, 1),1,32,bias=False),\n",
    "                        nn.BatchNorm2d(512),\n",
    "                        nn.SELU(),\n",
    "                    ),\n",
    "                    nn.Conv2d(512,1024,(1, 1),(1, 1),(0, 0),1,1,bias=False),\n",
    "                    nn.BatchNorm2d(1024),\n",
    "                ),\n",
    "                Lambda(lambda x: x), # Identity,\n",
    "            ),\n",
    "            LambdaReduce(lambda x,y: x+y), # CAddTable,\n",
    "            nn.SELU(),\n",
    "        ),\n",
    "        nn.Sequential( # Sequential,\n",
    "            LambdaMap(lambda x: x, # ConcatTable,\n",
    "                nn.Sequential( # Sequential,\n",
    "                    nn.Sequential( # Sequential,\n",
    "                        nn.Conv2d(1024,512,(1, 1),(1, 1),(0, 0),1,1,bias=False),\n",
    "                        nn.BatchNorm2d(512),\n",
    "                        nn.SELU(),\n",
    "                        nn.Conv2d(512,512,(3, 3),(1, 1),(1, 1),1,32,bias=False),\n",
    "                        nn.BatchNorm2d(512),\n",
    "                        nn.SELU(),\n",
    "                    ),\n",
    "                    nn.Conv2d(512,1024,(1, 1),(1, 1),(0, 0),1,1,bias=False),\n",
    "                    nn.BatchNorm2d(1024),\n",
    "                ),\n",
    "                Lambda(lambda x: x), # Identity,\n",
    "            ),\n",
    "            LambdaReduce(lambda x,y: x+y), # CAddTable,\n",
    "            nn.SELU(),\n",
    "        ),\n",
    "        nn.Sequential( # Sequential,\n",
    "            LambdaMap(lambda x: x, # ConcatTable,\n",
    "                nn.Sequential( # Sequential,\n",
    "                    nn.Sequential( # Sequential,\n",
    "                        nn.Conv2d(1024,512,(1, 1),(1, 1),(0, 0),1,1,bias=False),\n",
    "                        nn.BatchNorm2d(512),\n",
    "                        nn.SELU(),\n",
    "                        nn.Conv2d(512,512,(3, 3),(1, 1),(1, 1),1,32,bias=False),\n",
    "                        nn.BatchNorm2d(512),\n",
    "                        nn.SELU(),\n",
    "                    ),\n",
    "                    nn.Conv2d(512,1024,(1, 1),(1, 1),(0, 0),1,1,bias=False),\n",
    "                    nn.BatchNorm2d(1024),\n",
    "                ),\n",
    "                Lambda(lambda x: x), # Identity,\n",
    "            ),\n",
    "            LambdaReduce(lambda x,y: x+y), # CAddTable,\n",
    "            nn.SELU(),\n",
    "        ),\n",
    "        nn.Sequential( # Sequential,\n",
    "            LambdaMap(lambda x: x, # ConcatTable,\n",
    "                nn.Sequential( # Sequential,\n",
    "                    nn.Sequential( # Sequential,\n",
    "                        nn.Conv2d(1024,512,(1, 1),(1, 1),(0, 0),1,1,bias=False),\n",
    "                        nn.BatchNorm2d(512),\n",
    "                        nn.SELU(),\n",
    "                        nn.Conv2d(512,512,(3, 3),(1, 1),(1, 1),1,32,bias=False),\n",
    "                        nn.BatchNorm2d(512),\n",
    "                        nn.SELU(),\n",
    "                    ),\n",
    "                    nn.Conv2d(512,1024,(1, 1),(1, 1),(0, 0),1,1,bias=False),\n",
    "                    nn.BatchNorm2d(1024),\n",
    "                ),\n",
    "                Lambda(lambda x: x), # Identity,\n",
    "            ),\n",
    "            LambdaReduce(lambda x,y: x+y), # CAddTable,\n",
    "            nn.SELU(),\n",
    "        ),\n",
    "        nn.Sequential( # Sequential,\n",
    "            LambdaMap(lambda x: x, # ConcatTable,\n",
    "                nn.Sequential( # Sequential,\n",
    "                    nn.Sequential( # Sequential,\n",
    "                        nn.Conv2d(1024,512,(1, 1),(1, 1),(0, 0),1,1,bias=False),\n",
    "                        nn.BatchNorm2d(512),\n",
    "                        nn.SELU(),\n",
    "                        nn.Conv2d(512,512,(3, 3),(1, 1),(1, 1),1,32,bias=False),\n",
    "                        nn.BatchNorm2d(512),\n",
    "                        nn.SELU(),\n",
    "                    ),\n",
    "                    nn.Conv2d(512,1024,(1, 1),(1, 1),(0, 0),1,1,bias=False),\n",
    "                    nn.BatchNorm2d(1024),\n",
    "                ),\n",
    "                Lambda(lambda x: x), # Identity,\n",
    "            ),\n",
    "            LambdaReduce(lambda x,y: x+y), # CAddTable,\n",
    "            nn.SELU(),\n",
    "        ),\n",
    "        nn.Sequential( # Sequential,\n",
    "            LambdaMap(lambda x: x, # ConcatTable,\n",
    "                nn.Sequential( # Sequential,\n",
    "                    nn.Sequential( # Sequential,\n",
    "                        nn.Conv2d(1024,512,(1, 1),(1, 1),(0, 0),1,1,bias=False),\n",
    "                        nn.BatchNorm2d(512),\n",
    "                        nn.SELU(),\n",
    "                        nn.Conv2d(512,512,(3, 3),(1, 1),(1, 1),1,32,bias=False),\n",
    "                        nn.BatchNorm2d(512),\n",
    "                        nn.SELU(),\n",
    "                    ),\n",
    "                    nn.Conv2d(512,1024,(1, 1),(1, 1),(0, 0),1,1,bias=False),\n",
    "                    nn.BatchNorm2d(1024),\n",
    "                ),\n",
    "                Lambda(lambda x: x), # Identity,\n",
    "            ),\n",
    "            LambdaReduce(lambda x,y: x+y), # CAddTable,\n",
    "            nn.SELU(),\n",
    "        ),\n",
    "        nn.Sequential( # Sequential,\n",
    "            LambdaMap(lambda x: x, # ConcatTable,\n",
    "                nn.Sequential( # Sequential,\n",
    "                    nn.Sequential( # Sequential,\n",
    "                        nn.Conv2d(1024,512,(1, 1),(1, 1),(0, 0),1,1,bias=False),\n",
    "                        nn.BatchNorm2d(512),\n",
    "                        nn.SELU(),\n",
    "                        nn.Conv2d(512,512,(3, 3),(1, 1),(1, 1),1,32,bias=False),\n",
    "                        nn.BatchNorm2d(512),\n",
    "                        nn.SELU(),\n",
    "                    ),\n",
    "                    nn.Conv2d(512,1024,(1, 1),(1, 1),(0, 0),1,1,bias=False),\n",
    "                    nn.BatchNorm2d(1024),\n",
    "                ),\n",
    "                Lambda(lambda x: x), # Identity,\n",
    "            ),\n",
    "            LambdaReduce(lambda x,y: x+y), # CAddTable,\n",
    "            nn.SELU(),\n",
    "        ),\n",
    "        nn.Sequential( # Sequential,\n",
    "            LambdaMap(lambda x: x, # ConcatTable,\n",
    "                nn.Sequential( # Sequential,\n",
    "                    nn.Sequential( # Sequential,\n",
    "                        nn.Conv2d(1024,512,(1, 1),(1, 1),(0, 0),1,1,bias=False),\n",
    "                        nn.BatchNorm2d(512),\n",
    "                        nn.SELU(),\n",
    "                        nn.Conv2d(512,512,(3, 3),(1, 1),(1, 1),1,32,bias=False),\n",
    "                        nn.BatchNorm2d(512),\n",
    "                        nn.SELU(),\n",
    "                    ),\n",
    "                    nn.Conv2d(512,1024,(1, 1),(1, 1),(0, 0),1,1,bias=False),\n",
    "                    nn.BatchNorm2d(1024),\n",
    "                ),\n",
    "                Lambda(lambda x: x), # Identity,\n",
    "            ),\n",
    "            LambdaReduce(lambda x,y: x+y), # CAddTable,\n",
    "            nn.SELU(),\n",
    "        ),\n",
    "        nn.Sequential( # Sequential,\n",
    "            LambdaMap(lambda x: x, # ConcatTable,\n",
    "                nn.Sequential( # Sequential,\n",
    "                    nn.Sequential( # Sequential,\n",
    "                        nn.Conv2d(1024,512,(1, 1),(1, 1),(0, 0),1,1,bias=False),\n",
    "                        nn.BatchNorm2d(512),\n",
    "                        nn.SELU(),\n",
    "                        nn.Conv2d(512,512,(3, 3),(1, 1),(1, 1),1,32,bias=False),\n",
    "                        nn.BatchNorm2d(512),\n",
    "                        nn.SELU(),\n",
    "                    ),\n",
    "                    nn.Conv2d(512,1024,(1, 1),(1, 1),(0, 0),1,1,bias=False),\n",
    "                    nn.BatchNorm2d(1024),\n",
    "                ),\n",
    "                Lambda(lambda x: x), # Identity,\n",
    "            ),\n",
    "            LambdaReduce(lambda x,y: x+y), # CAddTable,\n",
    "            nn.SELU(),\n",
    "        ),\n",
    "        nn.Sequential( # Sequential,\n",
    "            LambdaMap(lambda x: x, # ConcatTable,\n",
    "                nn.Sequential( # Sequential,\n",
    "                    nn.Sequential( # Sequential,\n",
    "                        nn.Conv2d(1024,512,(1, 1),(1, 1),(0, 0),1,1,bias=False),\n",
    "                        nn.BatchNorm2d(512),\n",
    "                        nn.SELU(),\n",
    "                        nn.Conv2d(512,512,(3, 3),(1, 1),(1, 1),1,32,bias=False),\n",
    "                        nn.BatchNorm2d(512),\n",
    "                        nn.SELU(),\n",
    "                    ),\n",
    "                    nn.Conv2d(512,1024,(1, 1),(1, 1),(0, 0),1,1,bias=False),\n",
    "                    nn.BatchNorm2d(1024),\n",
    "                ),\n",
    "                Lambda(lambda x: x), # Identity,\n",
    "            ),\n",
    "            LambdaReduce(lambda x,y: x+y), # CAddTable,\n",
    "            nn.SELU(),\n",
    "        ),\n",
    "        nn.Sequential( # Sequential,\n",
    "            LambdaMap(lambda x: x, # ConcatTable,\n",
    "                nn.Sequential( # Sequential,\n",
    "                    nn.Sequential( # Sequential,\n",
    "                        nn.Conv2d(1024,512,(1, 1),(1, 1),(0, 0),1,1,bias=False),\n",
    "                        nn.BatchNorm2d(512),\n",
    "                        nn.SELU(),\n",
    "                        nn.Conv2d(512,512,(3, 3),(1, 1),(1, 1),1,32,bias=False),\n",
    "                        nn.BatchNorm2d(512),\n",
    "                        nn.SELU(),\n",
    "                    ),\n",
    "                    nn.Conv2d(512,1024,(1, 1),(1, 1),(0, 0),1,1,bias=False),\n",
    "                    nn.BatchNorm2d(1024),\n",
    "                ),\n",
    "                Lambda(lambda x: x), # Identity,\n",
    "            ),\n",
    "            LambdaReduce(lambda x,y: x+y), # CAddTable,\n",
    "            nn.SELU(),\n",
    "        ),\n",
    "        nn.Sequential( # Sequential,\n",
    "            LambdaMap(lambda x: x, # ConcatTable,\n",
    "                nn.Sequential( # Sequential,\n",
    "                    nn.Sequential( # Sequential,\n",
    "                        nn.Conv2d(1024,512,(1, 1),(1, 1),(0, 0),1,1,bias=False),\n",
    "                        nn.BatchNorm2d(512),\n",
    "                        nn.SELU(),\n",
    "                        nn.Conv2d(512,512,(3, 3),(1, 1),(1, 1),1,32,bias=False),\n",
    "                        nn.BatchNorm2d(512),\n",
    "                        nn.SELU(),\n",
    "                    ),\n",
    "                    nn.Conv2d(512,1024,(1, 1),(1, 1),(0, 0),1,1,bias=False),\n",
    "                    nn.BatchNorm2d(1024),\n",
    "                ),\n",
    "                Lambda(lambda x: x), # Identity,\n",
    "            ),\n",
    "            LambdaReduce(lambda x,y: x+y), # CAddTable,\n",
    "            nn.SELU(),\n",
    "        ),\n",
    "        nn.Sequential( # Sequential,\n",
    "            LambdaMap(lambda x: x, # ConcatTable,\n",
    "                nn.Sequential( # Sequential,\n",
    "                    nn.Sequential( # Sequential,\n",
    "                        nn.Conv2d(1024,512,(1, 1),(1, 1),(0, 0),1,1,bias=False),\n",
    "                        nn.BatchNorm2d(512),\n",
    "                        nn.SELU(),\n",
    "                        nn.Conv2d(512,512,(3, 3),(1, 1),(1, 1),1,32,bias=False),\n",
    "                        nn.BatchNorm2d(512),\n",
    "                        nn.SELU(),\n",
    "                    ),\n",
    "                    nn.Conv2d(512,1024,(1, 1),(1, 1),(0, 0),1,1,bias=False),\n",
    "                    nn.BatchNorm2d(1024),\n",
    "                ),\n",
    "                Lambda(lambda x: x), # Identity,\n",
    "            ),\n",
    "            LambdaReduce(lambda x,y: x+y), # CAddTable,\n",
    "            nn.SELU(),\n",
    "        ),\n",
    "        nn.Sequential( # Sequential,\n",
    "            LambdaMap(lambda x: x, # ConcatTable,\n",
    "                nn.Sequential( # Sequential,\n",
    "                    nn.Sequential( # Sequential,\n",
    "                        nn.Conv2d(1024,512,(1, 1),(1, 1),(0, 0),1,1,bias=False),\n",
    "                        nn.BatchNorm2d(512),\n",
    "                        nn.SELU(),\n",
    "                        nn.Conv2d(512,512,(3, 3),(1, 1),(1, 1),1,32,bias=False),\n",
    "                        nn.BatchNorm2d(512),\n",
    "                        nn.SELU(),\n",
    "                    ),\n",
    "                    nn.Conv2d(512,1024,(1, 1),(1, 1),(0, 0),1,1,bias=False),\n",
    "                    nn.BatchNorm2d(1024),\n",
    "                ),\n",
    "                Lambda(lambda x: x), # Identity,\n",
    "            ),\n",
    "            LambdaReduce(lambda x,y: x+y), # CAddTable,\n",
    "            nn.SELU(),\n",
    "        ),\n",
    "    ),\n",
    "    nn.Sequential( # Sequential,\n",
    "        nn.Sequential( # Sequential,\n",
    "            LambdaMap(lambda x: x, # ConcatTable,\n",
    "                nn.Sequential( # Sequential,\n",
    "                    nn.Sequential( # Sequential,\n",
    "                        nn.Conv2d(1024,1024,(1, 1),(1, 1),(0, 0),1,1,bias=False),\n",
    "                        nn.BatchNorm2d(1024),\n",
    "                        nn.SELU(),\n",
    "                        nn.Conv2d(1024,1024,(3, 3),(2, 2),(1, 1),1,32,bias=False),\n",
    "                        nn.BatchNorm2d(1024),\n",
    "                        nn.SELU(),\n",
    "                    ),\n",
    "                    nn.Conv2d(1024,2048,(1, 1),(1, 1),(0, 0),1,1,bias=False),\n",
    "                    nn.BatchNorm2d(2048),\n",
    "                ),\n",
    "                nn.Sequential( # Sequential,\n",
    "                    nn.Conv2d(1024,2048,(1, 1),(2, 2),(0, 0),1,1,bias=False),\n",
    "                    nn.BatchNorm2d(2048),\n",
    "                ),\n",
    "            ),\n",
    "            LambdaReduce(lambda x,y: x+y), # CAddTable,\n",
    "            nn.SELU(),\n",
    "        ),\n",
    "        nn.Sequential( # Sequential,\n",
    "            LambdaMap(lambda x: x, # ConcatTable,\n",
    "                nn.Sequential( # Sequential,\n",
    "                    nn.Sequential( # Sequential,\n",
    "                        nn.Conv2d(2048,1024,(1, 1),(1, 1),(0, 0),1,1,bias=False),\n",
    "                        nn.BatchNorm2d(1024),\n",
    "                        nn.SELU(),\n",
    "                        nn.Conv2d(1024,1024,(3, 3),(1, 1),(1, 1),1,32,bias=False),\n",
    "                        nn.BatchNorm2d(1024),\n",
    "                        nn.SELU(),\n",
    "                    ),\n",
    "                    nn.Conv2d(1024,2048,(1, 1),(1, 1),(0, 0),1,1,bias=False),\n",
    "                    nn.BatchNorm2d(2048),\n",
    "                ),\n",
    "                Lambda(lambda x: x), # Identity,\n",
    "            ),\n",
    "            LambdaReduce(lambda x,y: x+y), # CAddTable,\n",
    "            nn.SELU(),\n",
    "        ),\n",
    "        nn.Sequential( # Sequential,\n",
    "            LambdaMap(lambda x: x, # ConcatTable,\n",
    "                nn.Sequential( # Sequential,\n",
    "                    nn.Sequential( # Sequential,\n",
    "                        nn.Conv2d(2048,1024,(1, 1),(1, 1),(0, 0),1,1,bias=False),\n",
    "                        nn.BatchNorm2d(1024),\n",
    "                        nn.SELU(),\n",
    "                        nn.Conv2d(1024,1024,(3, 3),(1, 1),(1, 1),1,32,bias=False),\n",
    "                        nn.BatchNorm2d(1024),\n",
    "                        nn.SELU(),\n",
    "                    ),\n",
    "                    nn.Conv2d(1024,2048,(1, 1),(1, 1),(0, 0),1,1,bias=False),\n",
    "                    nn.BatchNorm2d(2048),\n",
    "                ),\n",
    "                Lambda(lambda x: x), # Identity,\n",
    "            ),\n",
    "            LambdaReduce(lambda x,y: x+y), # CAddTable,\n",
    "            nn.SELU(),\n",
    "        ),\n",
    "    ),\n",
    "    nn.AvgPool2d((7, 7),(1, 1)),\n",
    "    Lambda(lambda x: x.view(x.size(0),-1)), # View,\n",
    "    nn.Sequential(Lambda(lambda x: x.view(1,-1) if 1==len(x.size()) else x ),nn.Linear(2048,1000)), # Linear,\n",
    ")"
   ]
  },
  {
   "cell_type": "code",
   "execution_count": 46,
   "metadata": {},
   "outputs": [],
   "source": [
    "model = resnext101()"
   ]
  },
  {
   "cell_type": "code",
   "execution_count": 47,
   "metadata": {},
   "outputs": [],
   "source": [
    "sz = 224\n",
    "bs = 20"
   ]
  },
  {
   "cell_type": "markdown",
   "metadata": {},
   "source": [
    "We'll first use the small dataset for tempering the network to the dataset."
   ]
  },
  {
   "cell_type": "code",
   "execution_count": 48,
   "metadata": {},
   "outputs": [],
   "source": [
    "bb_csv = PATH/'training_bb.csv'\n",
    "tfms = tfms_from_model(model, sz, crop_type=CropType.NO, aug_tfms=[])\n",
    "datagen = ImageClassifierData.from_csv(PATH, 'train', bb_csv, test_name='test', tfms=tfms, bs=bs, continuous=True)"
   ]
  },
  {
   "cell_type": "code",
   "execution_count": 49,
   "metadata": {},
   "outputs": [
    {
     "name": "stderr",
     "output_type": "stream",
     "text": [
      "Clipping input data to the valid range for imshow with RGB data ([0..1] for floats or [0..255] for integers).\n"
     ]
    },
    {
     "data": {
      "image/png": "[encoded data removed]",
      "text/plain": [
       "<Figure size 432x288 with 1 Axes>"
      ]
     },
     "metadata": {
      "needs_background": "light"
     },
     "output_type": "display_data"
    }
   ],
   "source": [
    "ix = 16777\n",
    "im = datagen.trn_ds[ix][0].transpose([1, 2, 0])\n",
    "ax = show_img(im)\n",
    "bb = datagen.trn_ds[ix][1] * [224/640, 224/480, 224/640, 224/480]\n",
    "draw_bb(ax, [bb[0], bb[2], bb[1], bb[3]])"
   ]
  },
  {
   "cell_type": "code",
   "execution_count": 50,
   "metadata": {},
   "outputs": [
    {
     "name": "stdout",
     "output_type": "stream",
     "text": [
      "19200 training samples, \n",
      " 4800 validation samples, \n",
      "24045 testing samples\n"
     ]
    }
   ],
   "source": [
    "print(f'{len(datagen.trn_ds)} training samples, \\n {len(datagen.val_ds)} validation samples, \\n{len(datagen.test_ds)} testing samples')"
   ]
  },
  {
   "cell_type": "code",
   "execution_count": 51,
   "metadata": {},
   "outputs": [],
   "source": [
    "class ConvnetBuilder():\n",
    "\n",
    "    def __init__(self, f, c, is_multi, is_reg, ps=None, xtra_fc=None, xtra_cut=0, custom_head=None):\n",
    "        self.f = f\n",
    "        self.c = c\n",
    "        self.is_multi = is_multi\n",
    "        self.is_reg = is_reg\n",
    "        self.xtra_cut = xtra_cut\n",
    "        \n",
    "        if xtra_fc is None:\n",
    "            xtra_fc = [512]\n",
    "        if ps is None:\n",
    "            ps = [0.25]*len(xtra_fc) + [0.5]\n",
    "            \n",
    "        self.ps = ps\n",
    "        self.xtra_fc = xtra_fc\n",
    "        cut = 8\n",
    "        self.lr_cut = 6\n",
    "        cut -= xtra_cut\n",
    "        layers = cut_model(f, cut)\n",
    "        self.nf = num_features(layers) * 2\n",
    "        if not custom_head:\n",
    "            layers += [AdaptiveConcatPool2d(), Flatten()]\n",
    "        self.top_model = nn.Sequential(*layers)\n",
    "\n",
    "        n_fc = len(self.xtra_fc)+1\n",
    "        if not isinstance(self.ps, list):\n",
    "            self.ps = [self.ps]*n_fc\n",
    "\n",
    "        if custom_head:\n",
    "            fc_layers = [custom_head]\n",
    "        else:\n",
    "            fc_layers = self.get_fc_layers()\n",
    "            \n",
    "        self.n_fc = len(fc_layers)\n",
    "        self.fc_model = to_gpu(nn.Sequential(*fc_layers))\n",
    "        if not custom_head:\n",
    "            apply_init(self.fc_model, kaiming_normal)\n",
    "        self.model = to_gpu(nn.Sequential(*(layers+fc_layers)))\n",
    "\n",
    "    @property\n",
    "    def name(self):\n",
    "        return f'{self.f.__name__}_{self.xtra_cut}'\n",
    "\n",
    "    def create_fc_layer(self, ni, nf, p, actn=None):\n",
    "        res=[nn.BatchNorm1d(num_features=ni)]\n",
    "        if p:\n",
    "            res.append(nn.Dropout(p=p))\n",
    "        res.append(nn.Linear(in_features=ni, out_features=nf))\n",
    "        if actn:\n",
    "            res.append(actn)\n",
    "        return res\n",
    "\n",
    "    def get_fc_layers(self):\n",
    "        res=[]\n",
    "        ni=self.nf\n",
    "        for i,nf in enumerate(self.xtra_fc):\n",
    "            res += self.create_fc_layer(ni, nf, p=self.ps[i], actn=nn.ReLU())\n",
    "            ni=nf\n",
    "        final_actn = nn.Sigmoid() if self.is_multi else nn.LogSoftmax()\n",
    "        if self.is_reg:\n",
    "            final_actn = None\n",
    "        res += self.create_fc_layer(ni, self.c, p=self.ps[-1], actn=final_actn)\n",
    "        return res\n",
    "\n",
    "    def get_layer_groups(self, do_fc=False):\n",
    "        if do_fc:\n",
    "            return [self.fc_model]\n",
    "        idxs = [self.lr_cut]\n",
    "        c = children(self.top_model)\n",
    "        if len(c)==3:\n",
    "            c = children(c[0])+c[1:]\n",
    "        lgs = list(split_by_idxs(c,idxs))\n",
    "        return lgs+[self.fc_model]"
   ]
  },
  {
   "cell_type": "code",
   "execution_count": 52,
   "metadata": {},
   "outputs": [],
   "source": [
    "head = nn.Sequential(Flatten(), nn.Linear(100352, 4))\n",
    "learner = ConvnetBuilder(f=model, c=datagen.c,\n",
    "                         is_multi=datagen.is_multi,\n",
    "                         is_reg=True,\n",
    "                         custom_head=head)\n",
    "regressor = ConvLearner(datagen, learner, precompute=False)\n",
    "regressor.opt_fn = optim.Adam\n",
    "regressor.crit = nn.L1Loss()"
   ]
  },
  {
   "cell_type": "code",
   "execution_count": 55,
   "metadata": {
    "scrolled": true
   },
   "outputs": [
    {
     "data": {
      "text/plain": [
       "OrderedDict([('Conv2d-1',\n",
       "              OrderedDict([('input_shape', [-1, 3, 224, 224]),\n",
       "                           ('output_shape', [-1, 64, 112, 112]),\n",
       "                           ('trainable', False),\n",
       "                           ('nb_params', 9408)])),\n",
       "             ('BatchNorm2d-2',\n",
       "              OrderedDict([('input_shape', [-1, 64, 112, 112]),\n",
       "                           ('output_shape', [-1, 64, 112, 112]),\n",
       "                           ('trainable', False),\n",
       "                           ('nb_params', 128)])),\n",
       "             ('SELU-3',\n",
       "              OrderedDict([('input_shape', [-1, 64, 112, 112]),\n",
       "                           ('output_shape', [-1, 64, 112, 112]),\n",
       "                           ('nb_params', 0)])),\n",
       "             ('MaxPool2d-4',\n",
       "              OrderedDict([('input_shape', [-1, 64, 112, 112]),\n",
       "                           ('output_shape', [-1, 64, 56, 56]),\n",
       "                           ('nb_params', 0)])),\n",
       "             ('Conv2d-5',\n",
       "              OrderedDict([('input_shape', [-1, 64, 56, 56]),\n",
       "                           ('output_shape', [-1, 128, 56, 56]),\n",
       "                           ('trainable', False),\n",
       "                           ('nb_params', 8192)])),\n",
       "             ('BatchNorm2d-6',\n",
       "              OrderedDict([('input_shape', [-1, 128, 56, 56]),\n",
       "                           ('output_shape', [-1, 128, 56, 56]),\n",
       "                           ('trainable', False),\n",
       "                           ('nb_params', 256)])),\n",
       "             ('SELU-7',\n",
       "              OrderedDict([('input_shape', [-1, 128, 56, 56]),\n",
       "                           ('output_shape', [-1, 128, 56, 56]),\n",
       "                           ('nb_params', 0)])),\n",
       "             ('Conv2d-8',\n",
       "              OrderedDict([('input_shape', [-1, 128, 56, 56]),\n",
       "                           ('output_shape', [-1, 128, 56, 56]),\n",
       "                           ('trainable', False),\n",
       "                           ('nb_params', 4608)])),\n",
       "             ('BatchNorm2d-9',\n",
       "              OrderedDict([('input_shape', [-1, 128, 56, 56]),\n",
       "                           ('output_shape', [-1, 128, 56, 56]),\n",
       "                           ('trainable', False),\n",
       "                           ('nb_params', 256)])),\n",
       "             ('SELU-10',\n",
       "              OrderedDict([('input_shape', [-1, 128, 56, 56]),\n",
       "                           ('output_shape', [-1, 128, 56, 56]),\n",
       "                           ('nb_params', 0)])),\n",
       "             ('Conv2d-11',\n",
       "              OrderedDict([('input_shape', [-1, 128, 56, 56]),\n",
       "                           ('output_shape', [-1, 256, 56, 56]),\n",
       "                           ('trainable', False),\n",
       "                           ('nb_params', 32768)])),\n",
       "             ('BatchNorm2d-12',\n",
       "              OrderedDict([('input_shape', [-1, 256, 56, 56]),\n",
       "                           ('output_shape', [-1, 256, 56, 56]),\n",
       "                           ('trainable', False),\n",
       "                           ('nb_params', 512)])),\n",
       "             ('Conv2d-13',\n",
       "              OrderedDict([('input_shape', [-1, 64, 56, 56]),\n",
       "                           ('output_shape', [-1, 256, 56, 56]),\n",
       "                           ('trainable', False),\n",
       "                           ('nb_params', 16384)])),\n",
       "             ('BatchNorm2d-14',\n",
       "              OrderedDict([('input_shape', [-1, 256, 56, 56]),\n",
       "                           ('output_shape', [-1, 256, 56, 56]),\n",
       "                           ('trainable', False),\n",
       "                           ('nb_params', 512)])),\n",
       "             ('SELU-15',\n",
       "              OrderedDict([('input_shape', [-1, 256, 56, 56]),\n",
       "                           ('output_shape', [-1, 256, 56, 56]),\n",
       "                           ('nb_params', 0)])),\n",
       "             ('Conv2d-16',\n",
       "              OrderedDict([('input_shape', [-1, 256, 56, 56]),\n",
       "                           ('output_shape', [-1, 128, 56, 56]),\n",
       "                           ('trainable', False),\n",
       "                           ('nb_params', 32768)])),\n",
       "             ('BatchNorm2d-17',\n",
       "              OrderedDict([('input_shape', [-1, 128, 56, 56]),\n",
       "                           ('output_shape', [-1, 128, 56, 56]),\n",
       "                           ('trainable', False),\n",
       "                           ('nb_params', 256)])),\n",
       "             ('SELU-18',\n",
       "              OrderedDict([('input_shape', [-1, 128, 56, 56]),\n",
       "                           ('output_shape', [-1, 128, 56, 56]),\n",
       "                           ('nb_params', 0)])),\n",
       "             ('Conv2d-19',\n",
       "              OrderedDict([('input_shape', [-1, 128, 56, 56]),\n",
       "                           ('output_shape', [-1, 128, 56, 56]),\n",
       "                           ('trainable', False),\n",
       "                           ('nb_params', 4608)])),\n",
       "             ('BatchNorm2d-20',\n",
       "              OrderedDict([('input_shape', [-1, 128, 56, 56]),\n",
       "                           ('output_shape', [-1, 128, 56, 56]),\n",
       "                           ('trainable', False),\n",
       "                           ('nb_params', 256)])),\n",
       "             ('SELU-21',\n",
       "              OrderedDict([('input_shape', [-1, 128, 56, 56]),\n",
       "                           ('output_shape', [-1, 128, 56, 56]),\n",
       "                           ('nb_params', 0)])),\n",
       "             ('Conv2d-22',\n",
       "              OrderedDict([('input_shape', [-1, 128, 56, 56]),\n",
       "                           ('output_shape', [-1, 256, 56, 56]),\n",
       "                           ('trainable', False),\n",
       "                           ('nb_params', 32768)])),\n",
       "             ('BatchNorm2d-23',\n",
       "              OrderedDict([('input_shape', [-1, 256, 56, 56]),\n",
       "                           ('output_shape', [-1, 256, 56, 56]),\n",
       "                           ('trainable', False),\n",
       "                           ('nb_params', 512)])),\n",
       "             ('SELU-24',\n",
       "              OrderedDict([('input_shape', [-1, 256, 56, 56]),\n",
       "                           ('output_shape', [-1, 256, 56, 56]),\n",
       "                           ('nb_params', 0)])),\n",
       "             ('Conv2d-25',\n",
       "              OrderedDict([('input_shape', [-1, 256, 56, 56]),\n",
       "                           ('output_shape', [-1, 128, 56, 56]),\n",
       "                           ('trainable', False),\n",
       "                           ('nb_params', 32768)])),\n",
       "             ('BatchNorm2d-26',\n",
       "              OrderedDict([('input_shape', [-1, 128, 56, 56]),\n",
       "                           ('output_shape', [-1, 128, 56, 56]),\n",
       "                           ('trainable', False),\n",
       "                           ('nb_params', 256)])),\n",
       "             ('SELU-27',\n",
       "              OrderedDict([('input_shape', [-1, 128, 56, 56]),\n",
       "                           ('output_shape', [-1, 128, 56, 56]),\n",
       "                           ('nb_params', 0)])),\n",
       "             ('Conv2d-28',\n",
       "              OrderedDict([('input_shape', [-1, 128, 56, 56]),\n",
       "                           ('output_shape', [-1, 128, 56, 56]),\n",
       "                           ('trainable', False),\n",
       "                           ('nb_params', 4608)])),\n",
       "             ('BatchNorm2d-29',\n",
       "              OrderedDict([('input_shape', [-1, 128, 56, 56]),\n",
       "                           ('output_shape', [-1, 128, 56, 56]),\n",
       "                           ('trainable', False),\n",
       "                           ('nb_params', 256)])),\n",
       "             ('SELU-30',\n",
       "              OrderedDict([('input_shape', [-1, 128, 56, 56]),\n",
       "                           ('output_shape', [-1, 128, 56, 56]),\n",
       "                           ('nb_params', 0)])),\n",
       "             ('Conv2d-31',\n",
       "              OrderedDict([('input_shape', [-1, 128, 56, 56]),\n",
       "                           ('output_shape', [-1, 256, 56, 56]),\n",
       "                           ('trainable', False),\n",
       "                           ('nb_params', 32768)])),\n",
       "             ('BatchNorm2d-32',\n",
       "              OrderedDict([('input_shape', [-1, 256, 56, 56]),\n",
       "                           ('output_shape', [-1, 256, 56, 56]),\n",
       "                           ('trainable', False),\n",
       "                           ('nb_params', 512)])),\n",
       "             ('SELU-33',\n",
       "              OrderedDict([('input_shape', [-1, 256, 56, 56]),\n",
       "                           ('output_shape', [-1, 256, 56, 56]),\n",
       "                           ('nb_params', 0)])),\n",
       "             ('Conv2d-34',\n",
       "              OrderedDict([('input_shape', [-1, 256, 56, 56]),\n",
       "                           ('output_shape', [-1, 256, 56, 56]),\n",
       "                           ('trainable', False),\n",
       "                           ('nb_params', 65536)])),\n",
       "             ('BatchNorm2d-35',\n",
       "              OrderedDict([('input_shape', [-1, 256, 56, 56]),\n",
       "                           ('output_shape', [-1, 256, 56, 56]),\n",
       "                           ('trainable', False),\n",
       "                           ('nb_params', 512)])),\n",
       "             ('SELU-36',\n",
       "              OrderedDict([('input_shape', [-1, 256, 56, 56]),\n",
       "                           ('output_shape', [-1, 256, 56, 56]),\n",
       "                           ('nb_params', 0)])),\n",
       "             ('Conv2d-37',\n",
       "              OrderedDict([('input_shape', [-1, 256, 56, 56]),\n",
       "                           ('output_shape', [-1, 256, 28, 28]),\n",
       "                           ('trainable', False),\n",
       "                           ('nb_params', 18432)])),\n",
       "             ('BatchNorm2d-38',\n",
       "              OrderedDict([('input_shape', [-1, 256, 28, 28]),\n",
       "                           ('output_shape', [-1, 256, 28, 28]),\n",
       "                           ('trainable', False),\n",
       "                           ('nb_params', 512)])),\n",
       "             ('SELU-39',\n",
       "              OrderedDict([('input_shape', [-1, 256, 28, 28]),\n",
       "                           ('output_shape', [-1, 256, 28, 28]),\n",
       "                           ('nb_params', 0)])),\n",
       "             ('Conv2d-40',\n",
       "              OrderedDict([('input_shape', [-1, 256, 28, 28]),\n",
       "                           ('output_shape', [-1, 512, 28, 28]),\n",
       "                           ('trainable', False),\n",
       "                           ('nb_params', 131072)])),\n",
       "             ('BatchNorm2d-41',\n",
       "              OrderedDict([('input_shape', [-1, 512, 28, 28]),\n",
       "                           ('output_shape', [-1, 512, 28, 28]),\n",
       "                           ('trainable', False),\n",
       "                           ('nb_params', 1024)])),\n",
       "             ('Conv2d-42',\n",
       "              OrderedDict([('input_shape', [-1, 256, 56, 56]),\n",
       "                           ('output_shape', [-1, 512, 28, 28]),\n",
       "                           ('trainable', False),\n",
       "                           ('nb_params', 131072)])),\n",
       "             ('BatchNorm2d-43',\n",
       "              OrderedDict([('input_shape', [-1, 512, 28, 28]),\n",
       "                           ('output_shape', [-1, 512, 28, 28]),\n",
       "                           ('trainable', False),\n",
       "                           ('nb_params', 1024)])),\n",
       "             ('SELU-44',\n",
       "              OrderedDict([('input_shape', [-1, 512, 28, 28]),\n",
       "                           ('output_shape', [-1, 512, 28, 28]),\n",
       "                           ('nb_params', 0)])),\n",
       "             ('Conv2d-45',\n",
       "              OrderedDict([('input_shape', [-1, 512, 28, 28]),\n",
       "                           ('output_shape', [-1, 256, 28, 28]),\n",
       "                           ('trainable', False),\n",
       "                           ('nb_params', 131072)])),\n",
       "             ('BatchNorm2d-46',\n",
       "              OrderedDict([('input_shape', [-1, 256, 28, 28]),\n",
       "                           ('output_shape', [-1, 256, 28, 28]),\n",
       "                           ('trainable', False),\n",
       "                           ('nb_params', 512)])),\n",
       "             ('SELU-47',\n",
       "              OrderedDict([('input_shape', [-1, 256, 28, 28]),\n",
       "                           ('output_shape', [-1, 256, 28, 28]),\n",
       "                           ('nb_params', 0)])),\n",
       "             ('Conv2d-48',\n",
       "              OrderedDict([('input_shape', [-1, 256, 28, 28]),\n",
       "                           ('output_shape', [-1, 256, 28, 28]),\n",
       "                           ('trainable', False),\n",
       "                           ('nb_params', 18432)])),\n",
       "             ('BatchNorm2d-49',\n",
       "              OrderedDict([('input_shape', [-1, 256, 28, 28]),\n",
       "                           ('output_shape', [-1, 256, 28, 28]),\n",
       "                           ('trainable', False),\n",
       "                           ('nb_params', 512)])),\n",
       "             ('SELU-50',\n",
       "              OrderedDict([('input_shape', [-1, 256, 28, 28]),\n",
       "                           ('output_shape', [-1, 256, 28, 28]),\n",
       "                           ('nb_params', 0)])),\n",
       "             ('Conv2d-51',\n",
       "              OrderedDict([('input_shape', [-1, 256, 28, 28]),\n",
       "                           ('output_shape', [-1, 512, 28, 28]),\n",
       "                           ('trainable', False),\n",
       "                           ('nb_params', 131072)])),\n",
       "             ('BatchNorm2d-52',\n",
       "              OrderedDict([('input_shape', [-1, 512, 28, 28]),\n",
       "                           ('output_shape', [-1, 512, 28, 28]),\n",
       "                           ('trainable', False),\n",
       "                           ('nb_params', 1024)])),\n",
       "             ('SELU-53',\n",
       "              OrderedDict([('input_shape', [-1, 512, 28, 28]),\n",
       "                           ('output_shape', [-1, 512, 28, 28]),\n",
       "                           ('nb_params', 0)])),\n",
       "             ('Conv2d-54',\n",
       "              OrderedDict([('input_shape', [-1, 512, 28, 28]),\n",
       "                           ('output_shape', [-1, 256, 28, 28]),\n",
       "                           ('trainable', False),\n",
       "                           ('nb_params', 131072)])),\n",
       "             ('BatchNorm2d-55',\n",
       "              OrderedDict([('input_shape', [-1, 256, 28, 28]),\n",
       "                           ('output_shape', [-1, 256, 28, 28]),\n",
       "                           ('trainable', False),\n",
       "                           ('nb_params', 512)])),\n",
       "             ('SELU-56',\n",
       "              OrderedDict([('input_shape', [-1, 256, 28, 28]),\n",
       "                           ('output_shape', [-1, 256, 28, 28]),\n",
       "                           ('nb_params', 0)])),\n",
       "             ('Conv2d-57',\n",
       "              OrderedDict([('input_shape', [-1, 256, 28, 28]),\n",
       "                           ('output_shape', [-1, 256, 28, 28]),\n",
       "                           ('trainable', False),\n",
       "                           ('nb_params', 18432)])),\n",
       "             ('BatchNorm2d-58',\n",
       "              OrderedDict([('input_shape', [-1, 256, 28, 28]),\n",
       "                           ('output_shape', [-1, 256, 28, 28]),\n",
       "                           ('trainable', False),\n",
       "                           ('nb_params', 512)])),\n",
       "             ('SELU-59',\n",
       "              OrderedDict([('input_shape', [-1, 256, 28, 28]),\n",
       "                           ('output_shape', [-1, 256, 28, 28]),\n",
       "                           ('nb_params', 0)])),\n",
       "             ('Conv2d-60',\n",
       "              OrderedDict([('input_shape', [-1, 256, 28, 28]),\n",
       "                           ('output_shape', [-1, 512, 28, 28]),\n",
       "                           ('trainable', False),\n",
       "                           ('nb_params', 131072)])),\n",
       "             ('BatchNorm2d-61',\n",
       "              OrderedDict([('input_shape', [-1, 512, 28, 28]),\n",
       "                           ('output_shape', [-1, 512, 28, 28]),\n",
       "                           ('trainable', False),\n",
       "                           ('nb_params', 1024)])),\n",
       "             ('SELU-62',\n",
       "              OrderedDict([('input_shape', [-1, 512, 28, 28]),\n",
       "                           ('output_shape', [-1, 512, 28, 28]),\n",
       "                           ('nb_params', 0)])),\n",
       "             ('Conv2d-63',\n",
       "              OrderedDict([('input_shape', [-1, 512, 28, 28]),\n",
       "                           ('output_shape', [-1, 256, 28, 28]),\n",
       "                           ('trainable', False),\n",
       "                           ('nb_params', 131072)])),\n",
       "             ('BatchNorm2d-64',\n",
       "              OrderedDict([('input_shape', [-1, 256, 28, 28]),\n",
       "                           ('output_shape', [-1, 256, 28, 28]),\n",
       "                           ('trainable', False),\n",
       "                           ('nb_params', 512)])),\n",
       "             ('SELU-65',\n",
       "              OrderedDict([('input_shape', [-1, 256, 28, 28]),\n",
       "                           ('output_shape', [-1, 256, 28, 28]),\n",
       "                           ('nb_params', 0)])),\n",
       "             ('Conv2d-66',\n",
       "              OrderedDict([('input_shape', [-1, 256, 28, 28]),\n",
       "                           ('output_shape', [-1, 256, 28, 28]),\n",
       "                           ('trainable', False),\n",
       "                           ('nb_params', 18432)])),\n",
       "             ('BatchNorm2d-67',\n",
       "              OrderedDict([('input_shape', [-1, 256, 28, 28]),\n",
       "                           ('output_shape', [-1, 256, 28, 28]),\n",
       "                           ('trainable', False),\n",
       "                           ('nb_params', 512)])),\n",
       "             ('SELU-68',\n",
       "              OrderedDict([('input_shape', [-1, 256, 28, 28]),\n",
       "                           ('output_shape', [-1, 256, 28, 28]),\n",
       "                           ('nb_params', 0)])),\n",
       "             ('Conv2d-69',\n",
       "              OrderedDict([('input_shape', [-1, 256, 28, 28]),\n",
       "                           ('output_shape', [-1, 512, 28, 28]),\n",
       "                           ('trainable', False),\n",
       "                           ('nb_params', 131072)])),\n",
       "             ('BatchNorm2d-70',\n",
       "              OrderedDict([('input_shape', [-1, 512, 28, 28]),\n",
       "                           ('output_shape', [-1, 512, 28, 28]),\n",
       "                           ('trainable', False),\n",
       "                           ('nb_params', 1024)])),\n",
       "             ('SELU-71',\n",
       "              OrderedDict([('input_shape', [-1, 512, 28, 28]),\n",
       "                           ('output_shape', [-1, 512, 28, 28]),\n",
       "                           ('nb_params', 0)])),\n",
       "             ('Conv2d-72',\n",
       "              OrderedDict([('input_shape', [-1, 512, 28, 28]),\n",
       "                           ('output_shape', [-1, 512, 28, 28]),\n",
       "                           ('trainable', False),\n",
       "                           ('nb_params', 262144)])),\n",
       "             ('BatchNorm2d-73',\n",
       "              OrderedDict([('input_shape', [-1, 512, 28, 28]),\n",
       "                           ('output_shape', [-1, 512, 28, 28]),\n",
       "                           ('trainable', False),\n",
       "                           ('nb_params', 1024)])),\n",
       "             ('SELU-74',\n",
       "              OrderedDict([('input_shape', [-1, 512, 28, 28]),\n",
       "                           ('output_shape', [-1, 512, 28, 28]),\n",
       "                           ('nb_params', 0)])),\n",
       "             ('Conv2d-75',\n",
       "              OrderedDict([('input_shape', [-1, 512, 28, 28]),\n",
       "                           ('output_shape', [-1, 512, 14, 14]),\n",
       "                           ('trainable', False),\n",
       "                           ('nb_params', 73728)])),\n",
       "             ('BatchNorm2d-76',\n",
       "              OrderedDict([('input_shape', [-1, 512, 14, 14]),\n",
       "                           ('output_shape', [-1, 512, 14, 14]),\n",
       "                           ('trainable', False),\n",
       "                           ('nb_params', 1024)])),\n",
       "             ('SELU-77',\n",
       "              OrderedDict([('input_shape', [-1, 512, 14, 14]),\n",
       "                           ('output_shape', [-1, 512, 14, 14]),\n",
       "                           ('nb_params', 0)])),\n",
       "             ('Conv2d-78',\n",
       "              OrderedDict([('input_shape', [-1, 512, 14, 14]),\n",
       "                           ('output_shape', [-1, 1024, 14, 14]),\n",
       "                           ('trainable', False),\n",
       "                           ('nb_params', 524288)])),\n",
       "             ('BatchNorm2d-79',\n",
       "              OrderedDict([('input_shape', [-1, 1024, 14, 14]),\n",
       "                           ('output_shape', [-1, 1024, 14, 14]),\n",
       "                           ('trainable', False),\n",
       "                           ('nb_params', 2048)])),\n",
       "             ('Conv2d-80',\n",
       "              OrderedDict([('input_shape', [-1, 512, 28, 28]),\n",
       "                           ('output_shape', [-1, 1024, 14, 14]),\n",
       "                           ('trainable', False),\n",
       "                           ('nb_params', 524288)])),\n",
       "             ('BatchNorm2d-81',\n",
       "              OrderedDict([('input_shape', [-1, 1024, 14, 14]),\n",
       "                           ('output_shape', [-1, 1024, 14, 14]),\n",
       "                           ('trainable', False),\n",
       "                           ('nb_params', 2048)])),\n",
       "             ('SELU-82',\n",
       "              OrderedDict([('input_shape', [-1, 1024, 14, 14]),\n",
       "                           ('output_shape', [-1, 1024, 14, 14]),\n",
       "                           ('nb_params', 0)])),\n",
       "             ('Conv2d-83',\n",
       "              OrderedDict([('input_shape', [-1, 1024, 14, 14]),\n",
       "                           ('output_shape', [-1, 512, 14, 14]),\n",
       "                           ('trainable', False),\n",
       "                           ('nb_params', 524288)])),\n",
       "             ('BatchNorm2d-84',\n",
       "              OrderedDict([('input_shape', [-1, 512, 14, 14]),\n",
       "                           ('output_shape', [-1, 512, 14, 14]),\n",
       "                           ('trainable', False),\n",
       "                           ('nb_params', 1024)])),\n",
       "             ('SELU-85',\n",
       "              OrderedDict([('input_shape', [-1, 512, 14, 14]),\n",
       "                           ('output_shape', [-1, 512, 14, 14]),\n",
       "                           ('nb_params', 0)])),\n",
       "             ('Conv2d-86',\n",
       "              OrderedDict([('input_shape', [-1, 512, 14, 14]),\n",
       "                           ('output_shape', [-1, 512, 14, 14]),\n",
       "                           ('trainable', False),\n",
       "                           ('nb_params', 73728)])),\n",
       "             ('BatchNorm2d-87',\n",
       "              OrderedDict([('input_shape', [-1, 512, 14, 14]),\n",
       "                           ('output_shape', [-1, 512, 14, 14]),\n",
       "                           ('trainable', False),\n",
       "                           ('nb_params', 1024)])),\n",
       "             ('SELU-88',\n",
       "              OrderedDict([('input_shape', [-1, 512, 14, 14]),\n",
       "                           ('output_shape', [-1, 512, 14, 14]),\n",
       "                           ('nb_params', 0)])),\n",
       "             ('Conv2d-89',\n",
       "              OrderedDict([('input_shape', [-1, 512, 14, 14]),\n",
       "                           ('output_shape', [-1, 1024, 14, 14]),\n",
       "                           ('trainable', False),\n",
       "                           ('nb_params', 524288)])),\n",
       "             ('BatchNorm2d-90',\n",
       "              OrderedDict([('input_shape', [-1, 1024, 14, 14]),\n",
       "                           ('output_shape', [-1, 1024, 14, 14]),\n",
       "                           ('trainable', False),\n",
       "                           ('nb_params', 2048)])),\n",
       "             ('SELU-91',\n",
       "              OrderedDict([('input_shape', [-1, 1024, 14, 14]),\n",
       "                           ('output_shape', [-1, 1024, 14, 14]),\n",
       "                           ('nb_params', 0)])),\n",
       "             ('Conv2d-92',\n",
       "              OrderedDict([('input_shape', [-1, 1024, 14, 14]),\n",
       "                           ('output_shape', [-1, 512, 14, 14]),\n",
       "                           ('trainable', False),\n",
       "                           ('nb_params', 524288)])),\n",
       "             ('BatchNorm2d-93',\n",
       "              OrderedDict([('input_shape', [-1, 512, 14, 14]),\n",
       "                           ('output_shape', [-1, 512, 14, 14]),\n",
       "                           ('trainable', False),\n",
       "                           ('nb_params', 1024)])),\n",
       "             ('SELU-94',\n",
       "              OrderedDict([('input_shape', [-1, 512, 14, 14]),\n",
       "                           ('output_shape', [-1, 512, 14, 14]),\n",
       "                           ('nb_params', 0)])),\n",
       "             ('Conv2d-95',\n",
       "              OrderedDict([('input_shape', [-1, 512, 14, 14]),\n",
       "                           ('output_shape', [-1, 512, 14, 14]),\n",
       "                           ('trainable', False),\n",
       "                           ('nb_params', 73728)])),\n",
       "             ('BatchNorm2d-96',\n",
       "              OrderedDict([('input_shape', [-1, 512, 14, 14]),\n",
       "                           ('output_shape', [-1, 512, 14, 14]),\n",
       "                           ('trainable', False),\n",
       "                           ('nb_params', 1024)])),\n",
       "             ('SELU-97',\n",
       "              OrderedDict([('input_shape', [-1, 512, 14, 14]),\n",
       "                           ('output_shape', [-1, 512, 14, 14]),\n",
       "                           ('nb_params', 0)])),\n",
       "             ('Conv2d-98',\n",
       "              OrderedDict([('input_shape', [-1, 512, 14, 14]),\n",
       "                           ('output_shape', [-1, 1024, 14, 14]),\n",
       "                           ('trainable', False),\n",
       "                           ('nb_params', 524288)])),\n",
       "             ('BatchNorm2d-99',\n",
       "              OrderedDict([('input_shape', [-1, 1024, 14, 14]),\n",
       "                           ('output_shape', [-1, 1024, 14, 14]),\n",
       "                           ('trainable', False),\n",
       "                           ('nb_params', 2048)])),\n",
       "             ('SELU-100',\n",
       "              OrderedDict([('input_shape', [-1, 1024, 14, 14]),\n",
       "                           ('output_shape', [-1, 1024, 14, 14]),\n",
       "                           ('nb_params', 0)])),\n",
       "             ('Conv2d-101',\n",
       "              OrderedDict([('input_shape', [-1, 1024, 14, 14]),\n",
       "                           ('output_shape', [-1, 512, 14, 14]),\n",
       "                           ('trainable', False),\n",
       "                           ('nb_params', 524288)])),\n",
       "             ('BatchNorm2d-102',\n",
       "              OrderedDict([('input_shape', [-1, 512, 14, 14]),\n",
       "                           ('output_shape', [-1, 512, 14, 14]),\n",
       "                           ('trainable', False),\n",
       "                           ('nb_params', 1024)])),\n",
       "             ('SELU-103',\n",
       "              OrderedDict([('input_shape', [-1, 512, 14, 14]),\n",
       "                           ('output_shape', [-1, 512, 14, 14]),\n",
       "                           ('nb_params', 0)])),\n",
       "             ('Conv2d-104',\n",
       "              OrderedDict([('input_shape', [-1, 512, 14, 14]),\n",
       "                           ('output_shape', [-1, 512, 14, 14]),\n",
       "                           ('trainable', False),\n",
       "                           ('nb_params', 73728)])),\n",
       "             ('BatchNorm2d-105',\n",
       "              OrderedDict([('input_shape', [-1, 512, 14, 14]),\n",
       "                           ('output_shape', [-1, 512, 14, 14]),\n",
       "                           ('trainable', False),\n",
       "                           ('nb_params', 1024)])),\n",
       "             ('SELU-106',\n",
       "              OrderedDict([('input_shape', [-1, 512, 14, 14]),\n",
       "                           ('output_shape', [-1, 512, 14, 14]),\n",
       "                           ('nb_params', 0)])),\n",
       "             ('Conv2d-107',\n",
       "              OrderedDict([('input_shape', [-1, 512, 14, 14]),\n",
       "                           ('output_shape', [-1, 1024, 14, 14]),\n",
       "                           ('trainable', False),\n",
       "                           ('nb_params', 524288)])),\n",
       "             ('BatchNorm2d-108',\n",
       "              OrderedDict([('input_shape', [-1, 1024, 14, 14]),\n",
       "                           ('output_shape', [-1, 1024, 14, 14]),\n",
       "                           ('trainable', False),\n",
       "                           ('nb_params', 2048)])),\n",
       "             ('SELU-109',\n",
       "              OrderedDict([('input_shape', [-1, 1024, 14, 14]),\n",
       "                           ('output_shape', [-1, 1024, 14, 14]),\n",
       "                           ('nb_params', 0)])),\n",
       "             ('Conv2d-110',\n",
       "              OrderedDict([('input_shape', [-1, 1024, 14, 14]),\n",
       "                           ('output_shape', [-1, 512, 14, 14]),\n",
       "                           ('trainable', False),\n",
       "                           ('nb_params', 524288)])),\n",
       "             ('BatchNorm2d-111',\n",
       "              OrderedDict([('input_shape', [-1, 512, 14, 14]),\n",
       "                           ('output_shape', [-1, 512, 14, 14]),\n",
       "                           ('trainable', False),\n",
       "                           ('nb_params', 1024)])),\n",
       "             ('SELU-112',\n",
       "              OrderedDict([('input_shape', [-1, 512, 14, 14]),\n",
       "                           ('output_shape', [-1, 512, 14, 14]),\n",
       "                           ('nb_params', 0)])),\n",
       "             ('Conv2d-113',\n",
       "              OrderedDict([('input_shape', [-1, 512, 14, 14]),\n",
       "                           ('output_shape', [-1, 512, 14, 14]),\n",
       "                           ('trainable', False),\n",
       "                           ('nb_params', 73728)])),\n",
       "             ('BatchNorm2d-114',\n",
       "              OrderedDict([('input_shape', [-1, 512, 14, 14]),\n",
       "                           ('output_shape', [-1, 512, 14, 14]),\n",
       "                           ('trainable', False),\n",
       "                           ('nb_params', 1024)])),\n",
       "             ('SELU-115',\n",
       "              OrderedDict([('input_shape', [-1, 512, 14, 14]),\n",
       "                           ('output_shape', [-1, 512, 14, 14]),\n",
       "                           ('nb_params', 0)])),\n",
       "             ('Conv2d-116',\n",
       "              OrderedDict([('input_shape', [-1, 512, 14, 14]),\n",
       "                           ('output_shape', [-1, 1024, 14, 14]),\n",
       "                           ('trainable', False),\n",
       "                           ('nb_params', 524288)])),\n",
       "             ('BatchNorm2d-117',\n",
       "              OrderedDict([('input_shape', [-1, 1024, 14, 14]),\n",
       "                           ('output_shape', [-1, 1024, 14, 14]),\n",
       "                           ('trainable', False),\n",
       "                           ('nb_params', 2048)])),\n",
       "             ('SELU-118',\n",
       "              OrderedDict([('input_shape', [-1, 1024, 14, 14]),\n",
       "                           ('output_shape', [-1, 1024, 14, 14]),\n",
       "                           ('nb_params', 0)])),\n",
       "             ('Conv2d-119',\n",
       "              OrderedDict([('input_shape', [-1, 1024, 14, 14]),\n",
       "                           ('output_shape', [-1, 512, 14, 14]),\n",
       "                           ('trainable', False),\n",
       "                           ('nb_params', 524288)])),\n",
       "             ('BatchNorm2d-120',\n",
       "              OrderedDict([('input_shape', [-1, 512, 14, 14]),\n",
       "                           ('output_shape', [-1, 512, 14, 14]),\n",
       "                           ('trainable', False),\n",
       "                           ('nb_params', 1024)])),\n",
       "             ('SELU-121',\n",
       "              OrderedDict([('input_shape', [-1, 512, 14, 14]),\n",
       "                           ('output_shape', [-1, 512, 14, 14]),\n",
       "                           ('nb_params', 0)])),\n",
       "             ('Conv2d-122',\n",
       "              OrderedDict([('input_shape', [-1, 512, 14, 14]),\n",
       "                           ('output_shape', [-1, 512, 14, 14]),\n",
       "                           ('trainable', False),\n",
       "                           ('nb_params', 73728)])),\n",
       "             ('BatchNorm2d-123',\n",
       "              OrderedDict([('input_shape', [-1, 512, 14, 14]),\n",
       "                           ('output_shape', [-1, 512, 14, 14]),\n",
       "                           ('trainable', False),\n",
       "                           ('nb_params', 1024)])),\n",
       "             ('SELU-124',\n",
       "              OrderedDict([('input_shape', [-1, 512, 14, 14]),\n",
       "                           ('output_shape', [-1, 512, 14, 14]),\n",
       "                           ('nb_params', 0)])),\n",
       "             ('Conv2d-125',\n",
       "              OrderedDict([('input_shape', [-1, 512, 14, 14]),\n",
       "                           ('output_shape', [-1, 1024, 14, 14]),\n",
       "                           ('trainable', False),\n",
       "                           ('nb_params', 524288)])),\n",
       "             ('BatchNorm2d-126',\n",
       "              OrderedDict([('input_shape', [-1, 1024, 14, 14]),\n",
       "                           ('output_shape', [-1, 1024, 14, 14]),\n",
       "                           ('trainable', False),\n",
       "                           ('nb_params', 2048)])),\n",
       "             ('SELU-127',\n",
       "              OrderedDict([('input_shape', [-1, 1024, 14, 14]),\n",
       "                           ('output_shape', [-1, 1024, 14, 14]),\n",
       "                           ('nb_params', 0)])),\n",
       "             ('Conv2d-128',\n",
       "              OrderedDict([('input_shape', [-1, 1024, 14, 14]),\n",
       "                           ('output_shape', [-1, 512, 14, 14]),\n",
       "                           ('trainable', False),\n",
       "                           ('nb_params', 524288)])),\n",
       "             ('BatchNorm2d-129',\n",
       "              OrderedDict([('input_shape', [-1, 512, 14, 14]),\n",
       "                           ('output_shape', [-1, 512, 14, 14]),\n",
       "                           ('trainable', False),\n",
       "                           ('nb_params', 1024)])),\n",
       "             ('SELU-130',\n",
       "              OrderedDict([('input_shape', [-1, 512, 14, 14]),\n",
       "                           ('output_shape', [-1, 512, 14, 14]),\n",
       "                           ('nb_params', 0)])),\n",
       "             ('Conv2d-131',\n",
       "              OrderedDict([('input_shape', [-1, 512, 14, 14]),\n",
       "                           ('output_shape', [-1, 512, 14, 14]),\n",
       "                           ('trainable', False),\n",
       "                           ('nb_params', 73728)])),\n",
       "             ('BatchNorm2d-132',\n",
       "              OrderedDict([('input_shape', [-1, 512, 14, 14]),\n",
       "                           ('output_shape', [-1, 512, 14, 14]),\n",
       "                           ('trainable', False),\n",
       "                           ('nb_params', 1024)])),\n",
       "             ('SELU-133',\n",
       "              OrderedDict([('input_shape', [-1, 512, 14, 14]),\n",
       "                           ('output_shape', [-1, 512, 14, 14]),\n",
       "                           ('nb_params', 0)])),\n",
       "             ('Conv2d-134',\n",
       "              OrderedDict([('input_shape', [-1, 512, 14, 14]),\n",
       "                           ('output_shape', [-1, 1024, 14, 14]),\n",
       "                           ('trainable', False),\n",
       "                           ('nb_params', 524288)])),\n",
       "             ('BatchNorm2d-135',\n",
       "              OrderedDict([('input_shape', [-1, 1024, 14, 14]),\n",
       "                           ('output_shape', [-1, 1024, 14, 14]),\n",
       "                           ('trainable', False),\n",
       "                           ('nb_params', 2048)])),\n",
       "             ('SELU-136',\n",
       "              OrderedDict([('input_shape', [-1, 1024, 14, 14]),\n",
       "                           ('output_shape', [-1, 1024, 14, 14]),\n",
       "                           ('nb_params', 0)])),\n",
       "             ('Conv2d-137',\n",
       "              OrderedDict([('input_shape', [-1, 1024, 14, 14]),\n",
       "                           ('output_shape', [-1, 512, 14, 14]),\n",
       "                           ('trainable', False),\n",
       "                           ('nb_params', 524288)])),\n",
       "             ('BatchNorm2d-138',\n",
       "              OrderedDict([('input_shape', [-1, 512, 14, 14]),\n",
       "                           ('output_shape', [-1, 512, 14, 14]),\n",
       "                           ('trainable', False),\n",
       "                           ('nb_params', 1024)])),\n",
       "             ('SELU-139',\n",
       "              OrderedDict([('input_shape', [-1, 512, 14, 14]),\n",
       "                           ('output_shape', [-1, 512, 14, 14]),\n",
       "                           ('nb_params', 0)])),\n",
       "             ('Conv2d-140',\n",
       "              OrderedDict([('input_shape', [-1, 512, 14, 14]),\n",
       "                           ('output_shape', [-1, 512, 14, 14]),\n",
       "                           ('trainable', False),\n",
       "                           ('nb_params', 73728)])),\n",
       "             ('BatchNorm2d-141',\n",
       "              OrderedDict([('input_shape', [-1, 512, 14, 14]),\n",
       "                           ('output_shape', [-1, 512, 14, 14]),\n",
       "                           ('trainable', False),\n",
       "                           ('nb_params', 1024)])),\n",
       "             ('SELU-142',\n",
       "              OrderedDict([('input_shape', [-1, 512, 14, 14]),\n",
       "                           ('output_shape', [-1, 512, 14, 14]),\n",
       "                           ('nb_params', 0)])),\n",
       "             ('Conv2d-143',\n",
       "              OrderedDict([('input_shape', [-1, 512, 14, 14]),\n",
       "                           ('output_shape', [-1, 1024, 14, 14]),\n",
       "                           ('trainable', False),\n",
       "                           ('nb_params', 524288)])),\n",
       "             ('BatchNorm2d-144',\n",
       "              OrderedDict([('input_shape', [-1, 1024, 14, 14]),\n",
       "                           ('output_shape', [-1, 1024, 14, 14]),\n",
       "                           ('trainable', False),\n",
       "                           ('nb_params', 2048)])),\n",
       "             ('SELU-145',\n",
       "              OrderedDict([('input_shape', [-1, 1024, 14, 14]),\n",
       "                           ('output_shape', [-1, 1024, 14, 14]),\n",
       "                           ('nb_params', 0)])),\n",
       "             ('Conv2d-146',\n",
       "              OrderedDict([('input_shape', [-1, 1024, 14, 14]),\n",
       "                           ('output_shape', [-1, 512, 14, 14]),\n",
       "                           ('trainable', False),\n",
       "                           ('nb_params', 524288)])),\n",
       "             ('BatchNorm2d-147',\n",
       "              OrderedDict([('input_shape', [-1, 512, 14, 14]),\n",
       "                           ('output_shape', [-1, 512, 14, 14]),\n",
       "                           ('trainable', False),\n",
       "                           ('nb_params', 1024)])),\n",
       "             ('SELU-148',\n",
       "              OrderedDict([('input_shape', [-1, 512, 14, 14]),\n",
       "                           ('output_shape', [-1, 512, 14, 14]),\n",
       "                           ('nb_params', 0)])),\n",
       "             ('Conv2d-149',\n",
       "              OrderedDict([('input_shape', [-1, 512, 14, 14]),\n",
       "                           ('output_shape', [-1, 512, 14, 14]),\n",
       "                           ('trainable', False),\n",
       "                           ('nb_params', 73728)])),\n",
       "             ('BatchNorm2d-150',\n",
       "              OrderedDict([('input_shape', [-1, 512, 14, 14]),\n",
       "                           ('output_shape', [-1, 512, 14, 14]),\n",
       "                           ('trainable', False),\n",
       "                           ('nb_params', 1024)])),\n",
       "             ('SELU-151',\n",
       "              OrderedDict([('input_shape', [-1, 512, 14, 14]),\n",
       "                           ('output_shape', [-1, 512, 14, 14]),\n",
       "                           ('nb_params', 0)])),\n",
       "             ('Conv2d-152',\n",
       "              OrderedDict([('input_shape', [-1, 512, 14, 14]),\n",
       "                           ('output_shape', [-1, 1024, 14, 14]),\n",
       "                           ('trainable', False),\n",
       "                           ('nb_params', 524288)])),\n",
       "             ('BatchNorm2d-153',\n",
       "              OrderedDict([('input_shape', [-1, 1024, 14, 14]),\n",
       "                           ('output_shape', [-1, 1024, 14, 14]),\n",
       "                           ('trainable', False),\n",
       "                           ('nb_params', 2048)])),\n",
       "             ('SELU-154',\n",
       "              OrderedDict([('input_shape', [-1, 1024, 14, 14]),\n",
       "                           ('output_shape', [-1, 1024, 14, 14]),\n",
       "                           ('nb_params', 0)])),\n",
       "             ('Conv2d-155',\n",
       "              OrderedDict([('input_shape', [-1, 1024, 14, 14]),\n",
       "                           ('output_shape', [-1, 512, 14, 14]),\n",
       "                           ('trainable', False),\n",
       "                           ('nb_params', 524288)])),\n",
       "             ('BatchNorm2d-156',\n",
       "              OrderedDict([('input_shape', [-1, 512, 14, 14]),\n",
       "                           ('output_shape', [-1, 512, 14, 14]),\n",
       "                           ('trainable', False),\n",
       "                           ('nb_params', 1024)])),\n",
       "             ('SELU-157',\n",
       "              OrderedDict([('input_shape', [-1, 512, 14, 14]),\n",
       "                           ('output_shape', [-1, 512, 14, 14]),\n",
       "                           ('nb_params', 0)])),\n",
       "             ('Conv2d-158',\n",
       "              OrderedDict([('input_shape', [-1, 512, 14, 14]),\n",
       "                           ('output_shape', [-1, 512, 14, 14]),\n",
       "                           ('trainable', False),\n",
       "                           ('nb_params', 73728)])),\n",
       "             ('BatchNorm2d-159',\n",
       "              OrderedDict([('input_shape', [-1, 512, 14, 14]),\n",
       "                           ('output_shape', [-1, 512, 14, 14]),\n",
       "                           ('trainable', False),\n",
       "                           ('nb_params', 1024)])),\n",
       "             ('SELU-160',\n",
       "              OrderedDict([('input_shape', [-1, 512, 14, 14]),\n",
       "                           ('output_shape', [-1, 512, 14, 14]),\n",
       "                           ('nb_params', 0)])),\n",
       "             ('Conv2d-161',\n",
       "              OrderedDict([('input_shape', [-1, 512, 14, 14]),\n",
       "                           ('output_shape', [-1, 1024, 14, 14]),\n",
       "                           ('trainable', False),\n",
       "                           ('nb_params', 524288)])),\n",
       "             ('BatchNorm2d-162',\n",
       "              OrderedDict([('input_shape', [-1, 1024, 14, 14]),\n",
       "                           ('output_shape', [-1, 1024, 14, 14]),\n",
       "                           ('trainable', False),\n",
       "                           ('nb_params', 2048)])),\n",
       "             ('SELU-163',\n",
       "              OrderedDict([('input_shape', [-1, 1024, 14, 14]),\n",
       "                           ('output_shape', [-1, 1024, 14, 14]),\n",
       "                           ('nb_params', 0)])),\n",
       "             ('Conv2d-164',\n",
       "              OrderedDict([('input_shape', [-1, 1024, 14, 14]),\n",
       "                           ('output_shape', [-1, 512, 14, 14]),\n",
       "                           ('trainable', False),\n",
       "                           ('nb_params', 524288)])),\n",
       "             ('BatchNorm2d-165',\n",
       "              OrderedDict([('input_shape', [-1, 512, 14, 14]),\n",
       "                           ('output_shape', [-1, 512, 14, 14]),\n",
       "                           ('trainable', False),\n",
       "                           ('nb_params', 1024)])),\n",
       "             ('SELU-166',\n",
       "              OrderedDict([('input_shape', [-1, 512, 14, 14]),\n",
       "                           ('output_shape', [-1, 512, 14, 14]),\n",
       "                           ('nb_params', 0)])),\n",
       "             ('Conv2d-167',\n",
       "              OrderedDict([('input_shape', [-1, 512, 14, 14]),\n",
       "                           ('output_shape', [-1, 512, 14, 14]),\n",
       "                           ('trainable', False),\n",
       "                           ('nb_params', 73728)])),\n",
       "             ('BatchNorm2d-168',\n",
       "              OrderedDict([('input_shape', [-1, 512, 14, 14]),\n",
       "                           ('output_shape', [-1, 512, 14, 14]),\n",
       "                           ('trainable', False),\n",
       "                           ('nb_params', 1024)])),\n",
       "             ('SELU-169',\n",
       "              OrderedDict([('input_shape', [-1, 512, 14, 14]),\n",
       "                           ('output_shape', [-1, 512, 14, 14]),\n",
       "                           ('nb_params', 0)])),\n",
       "             ('Conv2d-170',\n",
       "              OrderedDict([('input_shape', [-1, 512, 14, 14]),\n",
       "                           ('output_shape', [-1, 1024, 14, 14]),\n",
       "                           ('trainable', False),\n",
       "                           ('nb_params', 524288)])),\n",
       "             ('BatchNorm2d-171',\n",
       "              OrderedDict([('input_shape', [-1, 1024, 14, 14]),\n",
       "                           ('output_shape', [-1, 1024, 14, 14]),\n",
       "                           ('trainable', False),\n",
       "                           ('nb_params', 2048)])),\n",
       "             ('SELU-172',\n",
       "              OrderedDict([('input_shape', [-1, 1024, 14, 14]),\n",
       "                           ('output_shape', [-1, 1024, 14, 14]),\n",
       "                           ('nb_params', 0)])),\n",
       "             ('Conv2d-173',\n",
       "              OrderedDict([('input_shape', [-1, 1024, 14, 14]),\n",
       "                           ('output_shape', [-1, 512, 14, 14]),\n",
       "                           ('trainable', False),\n",
       "                           ('nb_params', 524288)])),\n",
       "             ('BatchNorm2d-174',\n",
       "              OrderedDict([('input_shape', [-1, 512, 14, 14]),\n",
       "                           ('output_shape', [-1, 512, 14, 14]),\n",
       "                           ('trainable', False),\n",
       "                           ('nb_params', 1024)])),\n",
       "             ('SELU-175',\n",
       "              OrderedDict([('input_shape', [-1, 512, 14, 14]),\n",
       "                           ('output_shape', [-1, 512, 14, 14]),\n",
       "                           ('nb_params', 0)])),\n",
       "             ('Conv2d-176',\n",
       "              OrderedDict([('input_shape', [-1, 512, 14, 14]),\n",
       "                           ('output_shape', [-1, 512, 14, 14]),\n",
       "                           ('trainable', False),\n",
       "                           ('nb_params', 73728)])),\n",
       "             ('BatchNorm2d-177',\n",
       "              OrderedDict([('input_shape', [-1, 512, 14, 14]),\n",
       "                           ('output_shape', [-1, 512, 14, 14]),\n",
       "                           ('trainable', False),\n",
       "                           ('nb_params', 1024)])),\n",
       "             ('SELU-178',\n",
       "              OrderedDict([('input_shape', [-1, 512, 14, 14]),\n",
       "                           ('output_shape', [-1, 512, 14, 14]),\n",
       "                           ('nb_params', 0)])),\n",
       "             ('Conv2d-179',\n",
       "              OrderedDict([('input_shape', [-1, 512, 14, 14]),\n",
       "                           ('output_shape', [-1, 1024, 14, 14]),\n",
       "                           ('trainable', False),\n",
       "                           ('nb_params', 524288)])),\n",
       "             ('BatchNorm2d-180',\n",
       "              OrderedDict([('input_shape', [-1, 1024, 14, 14]),\n",
       "                           ('output_shape', [-1, 1024, 14, 14]),\n",
       "                           ('trainable', False),\n",
       "                           ('nb_params', 2048)])),\n",
       "             ('SELU-181',\n",
       "              OrderedDict([('input_shape', [-1, 1024, 14, 14]),\n",
       "                           ('output_shape', [-1, 1024, 14, 14]),\n",
       "                           ('nb_params', 0)])),\n",
       "             ('Conv2d-182',\n",
       "              OrderedDict([('input_shape', [-1, 1024, 14, 14]),\n",
       "                           ('output_shape', [-1, 512, 14, 14]),\n",
       "                           ('trainable', False),\n",
       "                           ('nb_params', 524288)])),\n",
       "             ('BatchNorm2d-183',\n",
       "              OrderedDict([('input_shape', [-1, 512, 14, 14]),\n",
       "                           ('output_shape', [-1, 512, 14, 14]),\n",
       "                           ('trainable', False),\n",
       "                           ('nb_params', 1024)])),\n",
       "             ('SELU-184',\n",
       "              OrderedDict([('input_shape', [-1, 512, 14, 14]),\n",
       "                           ('output_shape', [-1, 512, 14, 14]),\n",
       "                           ('nb_params', 0)])),\n",
       "             ('Conv2d-185',\n",
       "              OrderedDict([('input_shape', [-1, 512, 14, 14]),\n",
       "                           ('output_shape', [-1, 512, 14, 14]),\n",
       "                           ('trainable', False),\n",
       "                           ('nb_params', 73728)])),\n",
       "             ('BatchNorm2d-186',\n",
       "              OrderedDict([('input_shape', [-1, 512, 14, 14]),\n",
       "                           ('output_shape', [-1, 512, 14, 14]),\n",
       "                           ('trainable', False),\n",
       "                           ('nb_params', 1024)])),\n",
       "             ('SELU-187',\n",
       "              OrderedDict([('input_shape', [-1, 512, 14, 14]),\n",
       "                           ('output_shape', [-1, 512, 14, 14]),\n",
       "                           ('nb_params', 0)])),\n",
       "             ('Conv2d-188',\n",
       "              OrderedDict([('input_shape', [-1, 512, 14, 14]),\n",
       "                           ('output_shape', [-1, 1024, 14, 14]),\n",
       "                           ('trainable', False),\n",
       "                           ('nb_params', 524288)])),\n",
       "             ('BatchNorm2d-189',\n",
       "              OrderedDict([('input_shape', [-1, 1024, 14, 14]),\n",
       "                           ('output_shape', [-1, 1024, 14, 14]),\n",
       "                           ('trainable', False),\n",
       "                           ('nb_params', 2048)])),\n",
       "             ('SELU-190',\n",
       "              OrderedDict([('input_shape', [-1, 1024, 14, 14]),\n",
       "                           ('output_shape', [-1, 1024, 14, 14]),\n",
       "                           ('nb_params', 0)])),\n",
       "             ('Conv2d-191',\n",
       "              OrderedDict([('input_shape', [-1, 1024, 14, 14]),\n",
       "                           ('output_shape', [-1, 512, 14, 14]),\n",
       "                           ('trainable', False),\n",
       "                           ('nb_params', 524288)])),\n",
       "             ('BatchNorm2d-192',\n",
       "              OrderedDict([('input_shape', [-1, 512, 14, 14]),\n",
       "                           ('output_shape', [-1, 512, 14, 14]),\n",
       "                           ('trainable', False),\n",
       "                           ('nb_params', 1024)])),\n",
       "             ('SELU-193',\n",
       "              OrderedDict([('input_shape', [-1, 512, 14, 14]),\n",
       "                           ('output_shape', [-1, 512, 14, 14]),\n",
       "                           ('nb_params', 0)])),\n",
       "             ('Conv2d-194',\n",
       "              OrderedDict([('input_shape', [-1, 512, 14, 14]),\n",
       "                           ('output_shape', [-1, 512, 14, 14]),\n",
       "                           ('trainable', False),\n",
       "                           ('nb_params', 73728)])),\n",
       "             ('BatchNorm2d-195',\n",
       "              OrderedDict([('input_shape', [-1, 512, 14, 14]),\n",
       "                           ('output_shape', [-1, 512, 14, 14]),\n",
       "                           ('trainable', False),\n",
       "                           ('nb_params', 1024)])),\n",
       "             ('SELU-196',\n",
       "              OrderedDict([('input_shape', [-1, 512, 14, 14]),\n",
       "                           ('output_shape', [-1, 512, 14, 14]),\n",
       "                           ('nb_params', 0)])),\n",
       "             ('Conv2d-197',\n",
       "              OrderedDict([('input_shape', [-1, 512, 14, 14]),\n",
       "                           ('output_shape', [-1, 1024, 14, 14]),\n",
       "                           ('trainable', False),\n",
       "                           ('nb_params', 524288)])),\n",
       "             ('BatchNorm2d-198',\n",
       "              OrderedDict([('input_shape', [-1, 1024, 14, 14]),\n",
       "                           ('output_shape', [-1, 1024, 14, 14]),\n",
       "                           ('trainable', False),\n",
       "                           ('nb_params', 2048)])),\n",
       "             ('SELU-199',\n",
       "              OrderedDict([('input_shape', [-1, 1024, 14, 14]),\n",
       "                           ('output_shape', [-1, 1024, 14, 14]),\n",
       "                           ('nb_params', 0)])),\n",
       "             ('Conv2d-200',\n",
       "              OrderedDict([('input_shape', [-1, 1024, 14, 14]),\n",
       "                           ('output_shape', [-1, 512, 14, 14]),\n",
       "                           ('trainable', False),\n",
       "                           ('nb_params', 524288)])),\n",
       "             ('BatchNorm2d-201',\n",
       "              OrderedDict([('input_shape', [-1, 512, 14, 14]),\n",
       "                           ('output_shape', [-1, 512, 14, 14]),\n",
       "                           ('trainable', False),\n",
       "                           ('nb_params', 1024)])),\n",
       "             ('SELU-202',\n",
       "              OrderedDict([('input_shape', [-1, 512, 14, 14]),\n",
       "                           ('output_shape', [-1, 512, 14, 14]),\n",
       "                           ('nb_params', 0)])),\n",
       "             ('Conv2d-203',\n",
       "              OrderedDict([('input_shape', [-1, 512, 14, 14]),\n",
       "                           ('output_shape', [-1, 512, 14, 14]),\n",
       "                           ('trainable', False),\n",
       "                           ('nb_params', 73728)])),\n",
       "             ('BatchNorm2d-204',\n",
       "              OrderedDict([('input_shape', [-1, 512, 14, 14]),\n",
       "                           ('output_shape', [-1, 512, 14, 14]),\n",
       "                           ('trainable', False),\n",
       "                           ('nb_params', 1024)])),\n",
       "             ('SELU-205',\n",
       "              OrderedDict([('input_shape', [-1, 512, 14, 14]),\n",
       "                           ('output_shape', [-1, 512, 14, 14]),\n",
       "                           ('nb_params', 0)])),\n",
       "             ('Conv2d-206',\n",
       "              OrderedDict([('input_shape', [-1, 512, 14, 14]),\n",
       "                           ('output_shape', [-1, 1024, 14, 14]),\n",
       "                           ('trainable', False),\n",
       "                           ('nb_params', 524288)])),\n",
       "             ('BatchNorm2d-207',\n",
       "              OrderedDict([('input_shape', [-1, 1024, 14, 14]),\n",
       "                           ('output_shape', [-1, 1024, 14, 14]),\n",
       "                           ('trainable', False),\n",
       "                           ('nb_params', 2048)])),\n",
       "             ('SELU-208',\n",
       "              OrderedDict([('input_shape', [-1, 1024, 14, 14]),\n",
       "                           ('output_shape', [-1, 1024, 14, 14]),\n",
       "                           ('nb_params', 0)])),\n",
       "             ('Conv2d-209',\n",
       "              OrderedDict([('input_shape', [-1, 1024, 14, 14]),\n",
       "                           ('output_shape', [-1, 512, 14, 14]),\n",
       "                           ('trainable', False),\n",
       "                           ('nb_params', 524288)])),\n",
       "             ('BatchNorm2d-210',\n",
       "              OrderedDict([('input_shape', [-1, 512, 14, 14]),\n",
       "                           ('output_shape', [-1, 512, 14, 14]),\n",
       "                           ('trainable', False),\n",
       "                           ('nb_params', 1024)])),\n",
       "             ('SELU-211',\n",
       "              OrderedDict([('input_shape', [-1, 512, 14, 14]),\n",
       "                           ('output_shape', [-1, 512, 14, 14]),\n",
       "                           ('nb_params', 0)])),\n",
       "             ('Conv2d-212',\n",
       "              OrderedDict([('input_shape', [-1, 512, 14, 14]),\n",
       "                           ('output_shape', [-1, 512, 14, 14]),\n",
       "                           ('trainable', False),\n",
       "                           ('nb_params', 73728)])),\n",
       "             ('BatchNorm2d-213',\n",
       "              OrderedDict([('input_shape', [-1, 512, 14, 14]),\n",
       "                           ('output_shape', [-1, 512, 14, 14]),\n",
       "                           ('trainable', False),\n",
       "                           ('nb_params', 1024)])),\n",
       "             ('SELU-214',\n",
       "              OrderedDict([('input_shape', [-1, 512, 14, 14]),\n",
       "                           ('output_shape', [-1, 512, 14, 14]),\n",
       "                           ('nb_params', 0)])),\n",
       "             ('Conv2d-215',\n",
       "              OrderedDict([('input_shape', [-1, 512, 14, 14]),\n",
       "                           ('output_shape', [-1, 1024, 14, 14]),\n",
       "                           ('trainable', False),\n",
       "                           ('nb_params', 524288)])),\n",
       "             ('BatchNorm2d-216',\n",
       "              OrderedDict([('input_shape', [-1, 1024, 14, 14]),\n",
       "                           ('output_shape', [-1, 1024, 14, 14]),\n",
       "                           ('trainable', False),\n",
       "                           ('nb_params', 2048)])),\n",
       "             ('SELU-217',\n",
       "              OrderedDict([('input_shape', [-1, 1024, 14, 14]),\n",
       "                           ('output_shape', [-1, 1024, 14, 14]),\n",
       "                           ('nb_params', 0)])),\n",
       "             ('Conv2d-218',\n",
       "              OrderedDict([('input_shape', [-1, 1024, 14, 14]),\n",
       "                           ('output_shape', [-1, 512, 14, 14]),\n",
       "                           ('trainable', False),\n",
       "                           ('nb_params', 524288)])),\n",
       "             ('BatchNorm2d-219',\n",
       "              OrderedDict([('input_shape', [-1, 512, 14, 14]),\n",
       "                           ('output_shape', [-1, 512, 14, 14]),\n",
       "                           ('trainable', False),\n",
       "                           ('nb_params', 1024)])),\n",
       "             ('SELU-220',\n",
       "              OrderedDict([('input_shape', [-1, 512, 14, 14]),\n",
       "                           ('output_shape', [-1, 512, 14, 14]),\n",
       "                           ('nb_params', 0)])),\n",
       "             ('Conv2d-221',\n",
       "              OrderedDict([('input_shape', [-1, 512, 14, 14]),\n",
       "                           ('output_shape', [-1, 512, 14, 14]),\n",
       "                           ('trainable', False),\n",
       "                           ('nb_params', 73728)])),\n",
       "             ('BatchNorm2d-222',\n",
       "              OrderedDict([('input_shape', [-1, 512, 14, 14]),\n",
       "                           ('output_shape', [-1, 512, 14, 14]),\n",
       "                           ('trainable', False),\n",
       "                           ('nb_params', 1024)])),\n",
       "             ('SELU-223',\n",
       "              OrderedDict([('input_shape', [-1, 512, 14, 14]),\n",
       "                           ('output_shape', [-1, 512, 14, 14]),\n",
       "                           ('nb_params', 0)])),\n",
       "             ('Conv2d-224',\n",
       "              OrderedDict([('input_shape', [-1, 512, 14, 14]),\n",
       "                           ('output_shape', [-1, 1024, 14, 14]),\n",
       "                           ('trainable', False),\n",
       "                           ('nb_params', 524288)])),\n",
       "             ('BatchNorm2d-225',\n",
       "              OrderedDict([('input_shape', [-1, 1024, 14, 14]),\n",
       "                           ('output_shape', [-1, 1024, 14, 14]),\n",
       "                           ('trainable', False),\n",
       "                           ('nb_params', 2048)])),\n",
       "             ('SELU-226',\n",
       "              OrderedDict([('input_shape', [-1, 1024, 14, 14]),\n",
       "                           ('output_shape', [-1, 1024, 14, 14]),\n",
       "                           ('nb_params', 0)])),\n",
       "             ('Conv2d-227',\n",
       "              OrderedDict([('input_shape', [-1, 1024, 14, 14]),\n",
       "                           ('output_shape', [-1, 512, 14, 14]),\n",
       "                           ('trainable', False),\n",
       "                           ('nb_params', 524288)])),\n",
       "             ('BatchNorm2d-228',\n",
       "              OrderedDict([('input_shape', [-1, 512, 14, 14]),\n",
       "                           ('output_shape', [-1, 512, 14, 14]),\n",
       "                           ('trainable', False),\n",
       "                           ('nb_params', 1024)])),\n",
       "             ('SELU-229',\n",
       "              OrderedDict([('input_shape', [-1, 512, 14, 14]),\n",
       "                           ('output_shape', [-1, 512, 14, 14]),\n",
       "                           ('nb_params', 0)])),\n",
       "             ('Conv2d-230',\n",
       "              OrderedDict([('input_shape', [-1, 512, 14, 14]),\n",
       "                           ('output_shape', [-1, 512, 14, 14]),\n",
       "                           ('trainable', False),\n",
       "                           ('nb_params', 73728)])),\n",
       "             ('BatchNorm2d-231',\n",
       "              OrderedDict([('input_shape', [-1, 512, 14, 14]),\n",
       "                           ('output_shape', [-1, 512, 14, 14]),\n",
       "                           ('trainable', False),\n",
       "                           ('nb_params', 1024)])),\n",
       "             ('SELU-232',\n",
       "              OrderedDict([('input_shape', [-1, 512, 14, 14]),\n",
       "                           ('output_shape', [-1, 512, 14, 14]),\n",
       "                           ('nb_params', 0)])),\n",
       "             ('Conv2d-233',\n",
       "              OrderedDict([('input_shape', [-1, 512, 14, 14]),\n",
       "                           ('output_shape', [-1, 1024, 14, 14]),\n",
       "                           ('trainable', False),\n",
       "                           ('nb_params', 524288)])),\n",
       "             ('BatchNorm2d-234',\n",
       "              OrderedDict([('input_shape', [-1, 1024, 14, 14]),\n",
       "                           ('output_shape', [-1, 1024, 14, 14]),\n",
       "                           ('trainable', False),\n",
       "                           ('nb_params', 2048)])),\n",
       "             ('SELU-235',\n",
       "              OrderedDict([('input_shape', [-1, 1024, 14, 14]),\n",
       "                           ('output_shape', [-1, 1024, 14, 14]),\n",
       "                           ('nb_params', 0)])),\n",
       "             ('Conv2d-236',\n",
       "              OrderedDict([('input_shape', [-1, 1024, 14, 14]),\n",
       "                           ('output_shape', [-1, 512, 14, 14]),\n",
       "                           ('trainable', False),\n",
       "                           ('nb_params', 524288)])),\n",
       "             ('BatchNorm2d-237',\n",
       "              OrderedDict([('input_shape', [-1, 512, 14, 14]),\n",
       "                           ('output_shape', [-1, 512, 14, 14]),\n",
       "                           ('trainable', False),\n",
       "                           ('nb_params', 1024)])),\n",
       "             ('SELU-238',\n",
       "              OrderedDict([('input_shape', [-1, 512, 14, 14]),\n",
       "                           ('output_shape', [-1, 512, 14, 14]),\n",
       "                           ('nb_params', 0)])),\n",
       "             ('Conv2d-239',\n",
       "              OrderedDict([('input_shape', [-1, 512, 14, 14]),\n",
       "                           ('output_shape', [-1, 512, 14, 14]),\n",
       "                           ('trainable', False),\n",
       "                           ('nb_params', 73728)])),\n",
       "             ('BatchNorm2d-240',\n",
       "              OrderedDict([('input_shape', [-1, 512, 14, 14]),\n",
       "                           ('output_shape', [-1, 512, 14, 14]),\n",
       "                           ('trainable', False),\n",
       "                           ('nb_params', 1024)])),\n",
       "             ('SELU-241',\n",
       "              OrderedDict([('input_shape', [-1, 512, 14, 14]),\n",
       "                           ('output_shape', [-1, 512, 14, 14]),\n",
       "                           ('nb_params', 0)])),\n",
       "             ('Conv2d-242',\n",
       "              OrderedDict([('input_shape', [-1, 512, 14, 14]),\n",
       "                           ('output_shape', [-1, 1024, 14, 14]),\n",
       "                           ('trainable', False),\n",
       "                           ('nb_params', 524288)])),\n",
       "             ('BatchNorm2d-243',\n",
       "              OrderedDict([('input_shape', [-1, 1024, 14, 14]),\n",
       "                           ('output_shape', [-1, 1024, 14, 14]),\n",
       "                           ('trainable', False),\n",
       "                           ('nb_params', 2048)])),\n",
       "             ('SELU-244',\n",
       "              OrderedDict([('input_shape', [-1, 1024, 14, 14]),\n",
       "                           ('output_shape', [-1, 1024, 14, 14]),\n",
       "                           ('nb_params', 0)])),\n",
       "             ('Conv2d-245',\n",
       "              OrderedDict([('input_shape', [-1, 1024, 14, 14]),\n",
       "                           ('output_shape', [-1, 512, 14, 14]),\n",
       "                           ('trainable', False),\n",
       "                           ('nb_params', 524288)])),\n",
       "             ('BatchNorm2d-246',\n",
       "              OrderedDict([('input_shape', [-1, 512, 14, 14]),\n",
       "                           ('output_shape', [-1, 512, 14, 14]),\n",
       "                           ('trainable', False),\n",
       "                           ('nb_params', 1024)])),\n",
       "             ('SELU-247',\n",
       "              OrderedDict([('input_shape', [-1, 512, 14, 14]),\n",
       "                           ('output_shape', [-1, 512, 14, 14]),\n",
       "                           ('nb_params', 0)])),\n",
       "             ('Conv2d-248',\n",
       "              OrderedDict([('input_shape', [-1, 512, 14, 14]),\n",
       "                           ('output_shape', [-1, 512, 14, 14]),\n",
       "                           ('trainable', False),\n",
       "                           ('nb_params', 73728)])),\n",
       "             ('BatchNorm2d-249',\n",
       "              OrderedDict([('input_shape', [-1, 512, 14, 14]),\n",
       "                           ('output_shape', [-1, 512, 14, 14]),\n",
       "                           ('trainable', False),\n",
       "                           ('nb_params', 1024)])),\n",
       "             ('SELU-250',\n",
       "              OrderedDict([('input_shape', [-1, 512, 14, 14]),\n",
       "                           ('output_shape', [-1, 512, 14, 14]),\n",
       "                           ('nb_params', 0)])),\n",
       "             ('Conv2d-251',\n",
       "              OrderedDict([('input_shape', [-1, 512, 14, 14]),\n",
       "                           ('output_shape', [-1, 1024, 14, 14]),\n",
       "                           ('trainable', False),\n",
       "                           ('nb_params', 524288)])),\n",
       "             ('BatchNorm2d-252',\n",
       "              OrderedDict([('input_shape', [-1, 1024, 14, 14]),\n",
       "                           ('output_shape', [-1, 1024, 14, 14]),\n",
       "                           ('trainable', False),\n",
       "                           ('nb_params', 2048)])),\n",
       "             ('SELU-253',\n",
       "              OrderedDict([('input_shape', [-1, 1024, 14, 14]),\n",
       "                           ('output_shape', [-1, 1024, 14, 14]),\n",
       "                           ('nb_params', 0)])),\n",
       "             ('Conv2d-254',\n",
       "              OrderedDict([('input_shape', [-1, 1024, 14, 14]),\n",
       "                           ('output_shape', [-1, 512, 14, 14]),\n",
       "                           ('trainable', False),\n",
       "                           ('nb_params', 524288)])),\n",
       "             ('BatchNorm2d-255',\n",
       "              OrderedDict([('input_shape', [-1, 512, 14, 14]),\n",
       "                           ('output_shape', [-1, 512, 14, 14]),\n",
       "                           ('trainable', False),\n",
       "                           ('nb_params', 1024)])),\n",
       "             ('SELU-256',\n",
       "              OrderedDict([('input_shape', [-1, 512, 14, 14]),\n",
       "                           ('output_shape', [-1, 512, 14, 14]),\n",
       "                           ('nb_params', 0)])),\n",
       "             ('Conv2d-257',\n",
       "              OrderedDict([('input_shape', [-1, 512, 14, 14]),\n",
       "                           ('output_shape', [-1, 512, 14, 14]),\n",
       "                           ('trainable', False),\n",
       "                           ('nb_params', 73728)])),\n",
       "             ('BatchNorm2d-258',\n",
       "              OrderedDict([('input_shape', [-1, 512, 14, 14]),\n",
       "                           ('output_shape', [-1, 512, 14, 14]),\n",
       "                           ('trainable', False),\n",
       "                           ('nb_params', 1024)])),\n",
       "             ('SELU-259',\n",
       "              OrderedDict([('input_shape', [-1, 512, 14, 14]),\n",
       "                           ('output_shape', [-1, 512, 14, 14]),\n",
       "                           ('nb_params', 0)])),\n",
       "             ('Conv2d-260',\n",
       "              OrderedDict([('input_shape', [-1, 512, 14, 14]),\n",
       "                           ('output_shape', [-1, 1024, 14, 14]),\n",
       "                           ('trainable', False),\n",
       "                           ('nb_params', 524288)])),\n",
       "             ('BatchNorm2d-261',\n",
       "              OrderedDict([('input_shape', [-1, 1024, 14, 14]),\n",
       "                           ('output_shape', [-1, 1024, 14, 14]),\n",
       "                           ('trainable', False),\n",
       "                           ('nb_params', 2048)])),\n",
       "             ('SELU-262',\n",
       "              OrderedDict([('input_shape', [-1, 1024, 14, 14]),\n",
       "                           ('output_shape', [-1, 1024, 14, 14]),\n",
       "                           ('nb_params', 0)])),\n",
       "             ('Conv2d-263',\n",
       "              OrderedDict([('input_shape', [-1, 1024, 14, 14]),\n",
       "                           ('output_shape', [-1, 512, 14, 14]),\n",
       "                           ('trainable', False),\n",
       "                           ('nb_params', 524288)])),\n",
       "             ('BatchNorm2d-264',\n",
       "              OrderedDict([('input_shape', [-1, 512, 14, 14]),\n",
       "                           ('output_shape', [-1, 512, 14, 14]),\n",
       "                           ('trainable', False),\n",
       "                           ('nb_params', 1024)])),\n",
       "             ('SELU-265',\n",
       "              OrderedDict([('input_shape', [-1, 512, 14, 14]),\n",
       "                           ('output_shape', [-1, 512, 14, 14]),\n",
       "                           ('nb_params', 0)])),\n",
       "             ('Conv2d-266',\n",
       "              OrderedDict([('input_shape', [-1, 512, 14, 14]),\n",
       "                           ('output_shape', [-1, 512, 14, 14]),\n",
       "                           ('trainable', False),\n",
       "                           ('nb_params', 73728)])),\n",
       "             ('BatchNorm2d-267',\n",
       "              OrderedDict([('input_shape', [-1, 512, 14, 14]),\n",
       "                           ('output_shape', [-1, 512, 14, 14]),\n",
       "                           ('trainable', False),\n",
       "                           ('nb_params', 1024)])),\n",
       "             ('SELU-268',\n",
       "              OrderedDict([('input_shape', [-1, 512, 14, 14]),\n",
       "                           ('output_shape', [-1, 512, 14, 14]),\n",
       "                           ('nb_params', 0)])),\n",
       "             ('Conv2d-269',\n",
       "              OrderedDict([('input_shape', [-1, 512, 14, 14]),\n",
       "                           ('output_shape', [-1, 1024, 14, 14]),\n",
       "                           ('trainable', False),\n",
       "                           ('nb_params', 524288)])),\n",
       "             ('BatchNorm2d-270',\n",
       "              OrderedDict([('input_shape', [-1, 1024, 14, 14]),\n",
       "                           ('output_shape', [-1, 1024, 14, 14]),\n",
       "                           ('trainable', False),\n",
       "                           ('nb_params', 2048)])),\n",
       "             ('SELU-271',\n",
       "              OrderedDict([('input_shape', [-1, 1024, 14, 14]),\n",
       "                           ('output_shape', [-1, 1024, 14, 14]),\n",
       "                           ('nb_params', 0)])),\n",
       "             ('Conv2d-272',\n",
       "              OrderedDict([('input_shape', [-1, 1024, 14, 14]),\n",
       "                           ('output_shape', [-1, 512, 14, 14]),\n",
       "                           ('trainable', False),\n",
       "                           ('nb_params', 524288)])),\n",
       "             ('BatchNorm2d-273',\n",
       "              OrderedDict([('input_shape', [-1, 512, 14, 14]),\n",
       "                           ('output_shape', [-1, 512, 14, 14]),\n",
       "                           ('trainable', False),\n",
       "                           ('nb_params', 1024)])),\n",
       "             ('SELU-274',\n",
       "              OrderedDict([('input_shape', [-1, 512, 14, 14]),\n",
       "                           ('output_shape', [-1, 512, 14, 14]),\n",
       "                           ('nb_params', 0)])),\n",
       "             ('Conv2d-275',\n",
       "              OrderedDict([('input_shape', [-1, 512, 14, 14]),\n",
       "                           ('output_shape', [-1, 512, 14, 14]),\n",
       "                           ('trainable', False),\n",
       "                           ('nb_params', 73728)])),\n",
       "             ('BatchNorm2d-276',\n",
       "              OrderedDict([('input_shape', [-1, 512, 14, 14]),\n",
       "                           ('output_shape', [-1, 512, 14, 14]),\n",
       "                           ('trainable', False),\n",
       "                           ('nb_params', 1024)])),\n",
       "             ('SELU-277',\n",
       "              OrderedDict([('input_shape', [-1, 512, 14, 14]),\n",
       "                           ('output_shape', [-1, 512, 14, 14]),\n",
       "                           ('nb_params', 0)])),\n",
       "             ('Conv2d-278',\n",
       "              OrderedDict([('input_shape', [-1, 512, 14, 14]),\n",
       "                           ('output_shape', [-1, 1024, 14, 14]),\n",
       "                           ('trainable', False),\n",
       "                           ('nb_params', 524288)])),\n",
       "             ('BatchNorm2d-279',\n",
       "              OrderedDict([('input_shape', [-1, 1024, 14, 14]),\n",
       "                           ('output_shape', [-1, 1024, 14, 14]),\n",
       "                           ('trainable', False),\n",
       "                           ('nb_params', 2048)])),\n",
       "             ('SELU-280',\n",
       "              OrderedDict([('input_shape', [-1, 1024, 14, 14]),\n",
       "                           ('output_shape', [-1, 1024, 14, 14]),\n",
       "                           ('nb_params', 0)])),\n",
       "             ('Conv2d-281',\n",
       "              OrderedDict([('input_shape', [-1, 1024, 14, 14]),\n",
       "                           ('output_shape', [-1, 1024, 14, 14]),\n",
       "                           ('trainable', False),\n",
       "                           ('nb_params', 1048576)])),\n",
       "             ('BatchNorm2d-282',\n",
       "              OrderedDict([('input_shape', [-1, 1024, 14, 14]),\n",
       "                           ('output_shape', [-1, 1024, 14, 14]),\n",
       "                           ('trainable', False),\n",
       "                           ('nb_params', 2048)])),\n",
       "             ('SELU-283',\n",
       "              OrderedDict([('input_shape', [-1, 1024, 14, 14]),\n",
       "                           ('output_shape', [-1, 1024, 14, 14]),\n",
       "                           ('nb_params', 0)])),\n",
       "             ('Conv2d-284',\n",
       "              OrderedDict([('input_shape', [-1, 1024, 14, 14]),\n",
       "                           ('output_shape', [-1, 1024, 7, 7]),\n",
       "                           ('trainable', False),\n",
       "                           ('nb_params', 294912)])),\n",
       "             ('BatchNorm2d-285',\n",
       "              OrderedDict([('input_shape', [-1, 1024, 7, 7]),\n",
       "                           ('output_shape', [-1, 1024, 7, 7]),\n",
       "                           ('trainable', False),\n",
       "                           ('nb_params', 2048)])),\n",
       "             ('SELU-286',\n",
       "              OrderedDict([('input_shape', [-1, 1024, 7, 7]),\n",
       "                           ('output_shape', [-1, 1024, 7, 7]),\n",
       "                           ('nb_params', 0)])),\n",
       "             ('Conv2d-287',\n",
       "              OrderedDict([('input_shape', [-1, 1024, 7, 7]),\n",
       "                           ('output_shape', [-1, 2048, 7, 7]),\n",
       "                           ('trainable', False),\n",
       "                           ('nb_params', 2097152)])),\n",
       "             ('BatchNorm2d-288',\n",
       "              OrderedDict([('input_shape', [-1, 2048, 7, 7]),\n",
       "                           ('output_shape', [-1, 2048, 7, 7]),\n",
       "                           ('trainable', False),\n",
       "                           ('nb_params', 4096)])),\n",
       "             ('Conv2d-289',\n",
       "              OrderedDict([('input_shape', [-1, 1024, 14, 14]),\n",
       "                           ('output_shape', [-1, 2048, 7, 7]),\n",
       "                           ('trainable', False),\n",
       "                           ('nb_params', 2097152)])),\n",
       "             ('BatchNorm2d-290',\n",
       "              OrderedDict([('input_shape', [-1, 2048, 7, 7]),\n",
       "                           ('output_shape', [-1, 2048, 7, 7]),\n",
       "                           ('trainable', False),\n",
       "                           ('nb_params', 4096)])),\n",
       "             ('SELU-291',\n",
       "              OrderedDict([('input_shape', [-1, 2048, 7, 7]),\n",
       "                           ('output_shape', [-1, 2048, 7, 7]),\n",
       "                           ('nb_params', 0)])),\n",
       "             ('Conv2d-292',\n",
       "              OrderedDict([('input_shape', [-1, 2048, 7, 7]),\n",
       "                           ('output_shape', [-1, 1024, 7, 7]),\n",
       "                           ('trainable', False),\n",
       "                           ('nb_params', 2097152)])),\n",
       "             ('BatchNorm2d-293',\n",
       "              OrderedDict([('input_shape', [-1, 1024, 7, 7]),\n",
       "                           ('output_shape', [-1, 1024, 7, 7]),\n",
       "                           ('trainable', False),\n",
       "                           ('nb_params', 2048)])),\n",
       "             ('SELU-294',\n",
       "              OrderedDict([('input_shape', [-1, 1024, 7, 7]),\n",
       "                           ('output_shape', [-1, 1024, 7, 7]),\n",
       "                           ('nb_params', 0)])),\n",
       "             ('Conv2d-295',\n",
       "              OrderedDict([('input_shape', [-1, 1024, 7, 7]),\n",
       "                           ('output_shape', [-1, 1024, 7, 7]),\n",
       "                           ('trainable', False),\n",
       "                           ('nb_params', 294912)])),\n",
       "             ('BatchNorm2d-296',\n",
       "              OrderedDict([('input_shape', [-1, 1024, 7, 7]),\n",
       "                           ('output_shape', [-1, 1024, 7, 7]),\n",
       "                           ('trainable', False),\n",
       "                           ('nb_params', 2048)])),\n",
       "             ('SELU-297',\n",
       "              OrderedDict([('input_shape', [-1, 1024, 7, 7]),\n",
       "                           ('output_shape', [-1, 1024, 7, 7]),\n",
       "                           ('nb_params', 0)])),\n",
       "             ('Conv2d-298',\n",
       "              OrderedDict([('input_shape', [-1, 1024, 7, 7]),\n",
       "                           ('output_shape', [-1, 2048, 7, 7]),\n",
       "                           ('trainable', False),\n",
       "                           ('nb_params', 2097152)])),\n",
       "             ('BatchNorm2d-299',\n",
       "              OrderedDict([('input_shape', [-1, 2048, 7, 7]),\n",
       "                           ('output_shape', [-1, 2048, 7, 7]),\n",
       "                           ('trainable', False),\n",
       "                           ('nb_params', 4096)])),\n",
       "             ('SELU-300',\n",
       "              OrderedDict([('input_shape', [-1, 2048, 7, 7]),\n",
       "                           ('output_shape', [-1, 2048, 7, 7]),\n",
       "                           ('nb_params', 0)])),\n",
       "             ('Conv2d-301',\n",
       "              OrderedDict([('input_shape', [-1, 2048, 7, 7]),\n",
       "                           ('output_shape', [-1, 1024, 7, 7]),\n",
       "                           ('trainable', False),\n",
       "                           ('nb_params', 2097152)])),\n",
       "             ('BatchNorm2d-302',\n",
       "              OrderedDict([('input_shape', [-1, 1024, 7, 7]),\n",
       "                           ('output_shape', [-1, 1024, 7, 7]),\n",
       "                           ('trainable', False),\n",
       "                           ('nb_params', 2048)])),\n",
       "             ('SELU-303',\n",
       "              OrderedDict([('input_shape', [-1, 1024, 7, 7]),\n",
       "                           ('output_shape', [-1, 1024, 7, 7]),\n",
       "                           ('nb_params', 0)])),\n",
       "             ('Conv2d-304',\n",
       "              OrderedDict([('input_shape', [-1, 1024, 7, 7]),\n",
       "                           ('output_shape', [-1, 1024, 7, 7]),\n",
       "                           ('trainable', False),\n",
       "                           ('nb_params', 294912)])),\n",
       "             ('BatchNorm2d-305',\n",
       "              OrderedDict([('input_shape', [-1, 1024, 7, 7]),\n",
       "                           ('output_shape', [-1, 1024, 7, 7]),\n",
       "                           ('trainable', False),\n",
       "                           ('nb_params', 2048)])),\n",
       "             ('SELU-306',\n",
       "              OrderedDict([('input_shape', [-1, 1024, 7, 7]),\n",
       "                           ('output_shape', [-1, 1024, 7, 7]),\n",
       "                           ('nb_params', 0)])),\n",
       "             ('Conv2d-307',\n",
       "              OrderedDict([('input_shape', [-1, 1024, 7, 7]),\n",
       "                           ('output_shape', [-1, 2048, 7, 7]),\n",
       "                           ('trainable', False),\n",
       "                           ('nb_params', 2097152)])),\n",
       "             ('BatchNorm2d-308',\n",
       "              OrderedDict([('input_shape', [-1, 2048, 7, 7]),\n",
       "                           ('output_shape', [-1, 2048, 7, 7]),\n",
       "                           ('trainable', False),\n",
       "                           ('nb_params', 4096)])),\n",
       "             ('SELU-309',\n",
       "              OrderedDict([('input_shape', [-1, 2048, 7, 7]),\n",
       "                           ('output_shape', [-1, 2048, 7, 7]),\n",
       "                           ('nb_params', 0)])),\n",
       "             ('Flatten-310',\n",
       "              OrderedDict([('input_shape', [-1, 2048, 7, 7]),\n",
       "                           ('output_shape', [-1, 100352]),\n",
       "                           ('nb_params', 0)])),\n",
       "             ('Linear-311',\n",
       "              OrderedDict([('input_shape', [-1, 100352]),\n",
       "                           ('output_shape', [-1, 4]),\n",
       "                           ('trainable', True),\n",
       "                           ('nb_params', 401412)]))])"
      ]
     },
     "execution_count": 55,
     "metadata": {},
     "output_type": "execute_result"
    }
   ],
   "source": [
    "regressor.summary()"
   ]
  },
  {
   "cell_type": "code",
   "execution_count": 56,
   "metadata": {},
   "outputs": [
    {
     "data": {
      "text/plain": [
       "3"
      ]
     },
     "execution_count": 56,
     "metadata": {},
     "output_type": "execute_result"
    }
   ],
   "source": [
    "len(regressor.get_layer_groups())"
   ]
  },
  {
   "cell_type": "code",
   "execution_count": 57,
   "metadata": {},
   "outputs": [],
   "source": [
    "regressor.unfreeze()"
   ]
  },
  {
   "cell_type": "code",
   "execution_count": 17,
   "metadata": {},
   "outputs": [
    {
     "data": {
      "application/vnd.jupyter.widget-view+json": {
       "model_id": "ff231af611954cff9dd32af29c5abf2e",
       "version_major": 2,
       "version_minor": 0
      },
      "text/plain": [
       "HBox(children=(IntProgress(value=0, description='Epoch', max=1, style=ProgressStyle(description_width='initial…"
      ]
     },
     "metadata": {},
     "output_type": "display_data"
    },
    {
     "name": "stdout",
     "output_type": "stream",
     "text": [
      " 71%|███████████████████████████████████████████████████████████████████████████████████▏                                 | 683/960 [09:33<03:43,  1.24it/s, loss=120]"
     ]
    },
    {
     "data": {
      "image/png": "[encoded data removed]",
      "text/plain": [
       "<Figure size 432x288 with 1 Axes>"
      ]
     },
     "metadata": {
      "needs_background": "light"
     },
     "output_type": "display_data"
    }
   ],
   "source": [
    "regressor.lr_find(1e-4,1)\n",
    "regressor.sched.plot(5)"
   ]
  },
  {
   "cell_type": "markdown",
   "metadata": {},
   "source": [
    "Initial tempering"
   ]
  },
  {
   "cell_type": "code",
   "execution_count": 18,
   "metadata": {},
   "outputs": [
    {
     "data": {
      "application/vnd.jupyter.widget-view+json": {
       "model_id": "3753ab5c9b254c75be4d5c188ba6d0f1",
       "version_major": 2,
       "version_minor": 0
      },
      "text/plain": [
       "HBox(children=(IntProgress(value=0, description='Epoch', max=15, style=ProgressStyle(description_width='initia…"
      ]
     },
     "metadata": {},
     "output_type": "display_data"
    },
    {
     "name": "stdout",
     "output_type": "stream",
     "text": [
      "epoch      trn_loss   val_loss                                                                                                                                        \n",
      "    0      21.139972  20.54331  \n",
      "    1      21.696362  24.091932                                                                                                                                       \n",
      "    2      18.90306   16.802504                                                                                                                                       \n",
      "    3      21.442634  21.59274                                                                                                                                        \n",
      "    4      18.23333   17.211707                                                                                                                                       \n",
      "    5      13.788335  13.876157                                                                                                                                       \n",
      "    6      12.464062  12.795454                                                                                                                                       \n",
      "    7      19.862097  24.922776                                                                                                                                       \n",
      "    8      17.808326  25.327127                                                                                                                                       \n",
      "    9      15.073335  16.401111                                                                                                                                       \n",
      "    10     14.502514  13.108085                                                                                                                                       \n",
      "    11     11.541044  12.012957                                                                                                                                       \n",
      "    12     10.324172  10.715519                                                                                                                                       \n",
      "    13     9.380788   9.941711                                                                                                                                        \n",
      "    14     8.832445   9.806298                                                                                                                                        \n"
     ]
    },
    {
     "data": {
      "text/plain": [
       "[array([9.8063])]"
      ]
     },
     "execution_count": 18,
     "metadata": {},
     "output_type": "execute_result"
    }
   ],
   "source": [
    "lr = 1e-2\n",
    "regressor.fit(lr, 4, cycle_len=1, cycle_mult=2, best_save_name='nrx101s_v0.0')"
   ]
  },
  {
   "cell_type": "code",
   "execution_count": 19,
   "metadata": {},
   "outputs": [
    {
     "data": {
      "application/vnd.jupyter.widget-view+json": {
       "model_id": "4c0351b2a4db47acb69e5040df49aa3b",
       "version_major": 2,
       "version_minor": 0
      },
      "text/plain": [
       "HBox(children=(IntProgress(value=0, description='Epoch', max=1, style=ProgressStyle(description_width='initial…"
      ]
     },
     "metadata": {},
     "output_type": "display_data"
    },
    {
     "name": "stdout",
     "output_type": "stream",
     "text": [
      " 59%|████████████████████████████████████████████████████████████████████▍                                               | 566/960 [07:17<06:18,  1.04it/s, loss=33.5]"
     ]
    },
    {
     "data": {
      "image/png": "[encoded data removed]",
      "text/plain": [
       "<Figure size 432x288 with 1 Axes>"
      ]
     },
     "metadata": {
      "needs_background": "light"
     },
     "output_type": "display_data"
    }
   ],
   "source": [
    "regressor.lr_find(1e-4,1)\n",
    "regressor.sched.plot(5)"
   ]
  },
  {
   "cell_type": "code",
   "execution_count": 20,
   "metadata": {},
   "outputs": [
    {
     "data": {
      "application/vnd.jupyter.widget-view+json": {
       "model_id": "3a7da26b36fa409e833c38234e30125d",
       "version_major": 2,
       "version_minor": 0
      },
      "text/plain": [
       "HBox(children=(IntProgress(value=0, description='Epoch', max=15, style=ProgressStyle(description_width='initia…"
      ]
     },
     "metadata": {},
     "output_type": "display_data"
    },
    {
     "name": "stdout",
     "output_type": "stream",
     "text": [
      "epoch      trn_loss   val_loss                                                                                                                                        \n",
      "    0      9.075506   9.719462  \n",
      "    1      8.913326   9.750001                                                                                                                                        \n",
      "    2      8.237739   9.465627                                                                                                                                        \n",
      "    3      8.679176   9.633555                                                                                                                                        \n",
      "    4      8.827155   9.372963                                                                                                                                        \n",
      "    5      8.864358   9.179823                                                                                                                                        \n",
      "    6      7.316531   9.127108                                                                                                                                        \n",
      "    7      8.712435   9.704525                                                                                                                                        \n",
      "    8      7.71495    9.301917                                                                                                                                        \n",
      "    9      7.579626   9.198047                                                                                                                                        \n",
      "    10     7.282349   8.882438                                                                                                                                        \n",
      "    11     6.875073   8.877447                                                                                                                                        \n",
      "    12     6.663333   8.773672                                                                                                                                        \n",
      "    13     6.205388   8.747553                                                                                                                                        \n",
      "    14     6.474301   8.72115                                                                                                                                         \n"
     ]
    },
    {
     "data": {
      "text/plain": [
       "[array([8.72115])]"
      ]
     },
     "execution_count": 20,
     "metadata": {},
     "output_type": "execute_result"
    }
   ],
   "source": [
    "lr = 1e-3\n",
    "regressor.fit(lr, 4, cycle_len=1, cycle_mult=2, best_save_name='nrx101s_v0.1')"
   ]
  },
  {
   "cell_type": "markdown",
   "metadata": {},
   "source": [
    "Use augmented dataset and a smaller batch size, to improve generalization."
   ]
  },
  {
   "cell_type": "code",
   "execution_count": 23,
   "metadata": {},
   "outputs": [],
   "source": [
    "sz = 224\n",
    "bs = 16"
   ]
  },
  {
   "cell_type": "code",
   "execution_count": 58,
   "metadata": {},
   "outputs": [],
   "source": [
    "bb_csv_aug = PATH/'train_aug_bb.csv'\n",
    "tfms = tfms_from_model(model, sz, crop_type=CropType.NO, aug_tfms=[])\n",
    "datagen_aug = ImageClassifierData.from_csv(PATH, 'train_aug', bb_csv_aug, test_name='test', tfms=tfms, bs=bs, continuous=True)"
   ]
  },
  {
   "cell_type": "code",
   "execution_count": 59,
   "metadata": {},
   "outputs": [],
   "source": [
    "head = nn.Sequential(Flatten(), nn.Linear(100352, 4))\n",
    "learner = ConvnetBuilder(f=model, c=datagen_aug.c,\n",
    "                         is_multi=datagen_aug.is_multi,\n",
    "                         is_reg=True,\n",
    "                         custom_head=head)\n",
    "regressor = ConvLearner(datagen_aug, learner, precompute=False)\n",
    "regressor.opt_fn = optim.Adam\n",
    "regressor.crit = nn.L1Loss()"
   ]
  },
  {
   "cell_type": "markdown",
   "metadata": {},
   "source": [
    "Reload the model"
   ]
  },
  {
   "cell_type": "code",
   "execution_count": 60,
   "metadata": {},
   "outputs": [],
   "source": [
    "regressor.load('nrx101s_v0.1')"
   ]
  },
  {
   "cell_type": "code",
   "execution_count": 61,
   "metadata": {},
   "outputs": [],
   "source": [
    "regressor.unfreeze()"
   ]
  },
  {
   "cell_type": "code",
   "execution_count": 30,
   "metadata": {},
   "outputs": [
    {
     "data": {
      "application/vnd.jupyter.widget-view+json": {
       "model_id": "29a3e7eed4bd45399f02e9567dffac10",
       "version_major": 2,
       "version_minor": 0
      },
      "text/plain": [
       "HBox(children=(IntProgress(value=0, description='Epoch', max=1, style=ProgressStyle(description_width='initial…"
      ]
     },
     "metadata": {},
     "output_type": "display_data"
    },
    {
     "name": "stdout",
     "output_type": "stream",
     "text": []
    },
    {
     "data": {
      "image/png": "[encoded data removed]",
      "text/plain": [
       "<Figure size 432x288 with 1 Axes>"
      ]
     },
     "metadata": {
      "needs_background": "light"
     },
     "output_type": "display_data"
    }
   ],
   "source": [
    "regressor.lr_find(1e-5, 1e-1)\n",
    "regressor.sched.plot(5)"
   ]
  },
  {
   "cell_type": "markdown",
   "metadata": {},
   "source": [
    "Training with the augmented dataset."
   ]
  },
  {
   "cell_type": "code",
   "execution_count": 42,
   "metadata": {},
   "outputs": [
    {
     "data": {
      "application/vnd.jupyter.widget-view+json": {
       "model_id": "a00d6e8a86c145eb9f3ac2fe7b378877",
       "version_major": 2,
       "version_minor": 0
      },
      "text/plain": [
       "HBox(children=(IntProgress(value=0, description='Epoch', max=15, style=ProgressStyle(description_width='initia…"
      ]
     },
     "metadata": {},
     "output_type": "display_data"
    },
    {
     "name": "stdout",
     "output_type": "stream",
     "text": [
      "epoch      trn_loss   val_loss                                                                                                                                        \n",
      "    0      9.317292   9.671347  \n",
      "    1      10.071654  9.38621                                                                                                                                         \n",
      "    2      9.253523   9.304618                                                                                                                                        \n",
      "    3      9.194553   9.224752                                                                                                                                        \n",
      "    4      9.256992   9.010409                                                                                                                                        \n",
      "    5      9.108972   8.920007                                                                                                                                        \n",
      "    6      7.816864   8.925352                                                                                                                                        \n",
      "    7      8.145581   8.884864                                                                                                                                        \n",
      "    8      8.414999   8.689378                                                                                                                                        \n",
      "    9      8.448325   8.58629                                                                                                                                         \n",
      "    10     8.227046   8.490226                                                                                                                                        \n",
      "    11     7.862328   8.422509                                                                                                                                        \n",
      "    12     7.655465   8.413418                                                                                                                                        \n",
      "    13     7.411524   8.365411                                                                                                                                        \n",
      "    14     7.989621   8.378759                                                                                                                                        \n"
     ]
    },
    {
     "data": {
      "text/plain": [
       "[array([8.37876])]"
      ]
     },
     "execution_count": 42,
     "metadata": {},
     "output_type": "execute_result"
    }
   ],
   "source": [
    "lr = 1e-4\n",
    "regressor.fit(lr, 4, cycle_len=1, cycle_mult=2, best_save_name='nrx101s_v0.2')"
   ]
  },
  {
   "cell_type": "code",
   "execution_count": 43,
   "metadata": {},
   "outputs": [
    {
     "data": {
      "application/vnd.jupyter.widget-view+json": {
       "model_id": "93900eac6e244e9db66ac14c58b9c78c",
       "version_major": 2,
       "version_minor": 0
      },
      "text/plain": [
       "HBox(children=(IntProgress(value=0, description='Epoch', max=15, style=ProgressStyle(description_width='initia…"
      ]
     },
     "metadata": {},
     "output_type": "display_data"
    },
    {
     "name": "stdout",
     "output_type": "stream",
     "text": [
      "epoch      trn_loss   val_loss                                                                                                                                        \n",
      "    0      7.671167   8.322016  \n",
      "    1      7.990676   8.336479                                                                                                                                        \n",
      "    2      7.345388   8.248684                                                                                                                                        \n",
      "    3      7.358036   8.24811                                                                                                                                         \n",
      "    4      7.398028   8.183857                                                                                                                                        \n",
      "    5      7.020991   8.105462                                                                                                                                        \n",
      " 58%|█████████████████████████████████████████████████████████████████▉                                                | 13921/24000 [2:44:53<2:01:07,  1.49it/s, loss=7.52]"
     ]
    }
   ],
   "source": [
    "lr = 9e-5\n",
    "regressor.fit(lr, 4, cycle_len=1, cycle_mult=2, best_save_name='nrx101s_v0.3')"
   ]
  },
  {
   "cell_type": "markdown",
   "metadata": {},
   "source": [
    "Training stopped midway due to power cut. So I restarted it from the best epoch."
   ]
  },
  {
   "cell_type": "code",
   "execution_count": 44,
   "metadata": {},
   "outputs": [
    {
     "data": {
      "application/vnd.jupyter.widget-view+json": {
       "model_id": "7167d659a47941439037b5c6b7885aaa",
       "version_major": 2,
       "version_minor": 0
      },
      "text/plain": [
       "HBox(children=(IntProgress(value=0, description='Epoch', max=15, style=ProgressStyle(description_width='initia…"
      ]
     },
     "metadata": {},
     "output_type": "display_data"
    },
    {
     "name": "stdout",
     "output_type": "stream",
     "text": [
      "epoch      trn_loss   val_loss                                                                                         \n",
      "    0      6.899244   8.086926  \n",
      "    1      7.579662   8.085255                                                                                         \n",
      "    2      7.092442   8.031532                                                                                         \n",
      "    3      7.439494   8.062876                                                                                         \n",
      "    4      7.489358   7.98543                                                                                          \n",
      "    5      7.367603   7.931746                                                                                         \n",
      "    6      6.900088   7.931825                                                                                         \n",
      "    7      7.146677   7.958935"
     ]
    }
   ],
   "source": [
    "regressor.load('nrx101s_v0.3')\n",
    "regressor.unfreeze()\n",
    "lr = 7e-5\n",
    "regressor.fit(lr, 3, cycle_len=1, cycle_mult=2, best_save_name='nrx101s_v0.4')"
   ]
  },
  {
   "cell_type": "code",
   "execution_count": 49,
   "metadata": {},
   "outputs": [
    {
     "data": {
      "application/vnd.jupyter.widget-view+json": {
       "model_id": "b87f3f889d3649db97477728710b8f1d",
       "version_major": 2,
       "version_minor": 0
      },
      "text/plain": [
       "HBox(children=(IntProgress(value=0, description='Epoch', max=15, style=ProgressStyle(description_width='initia…"
      ]
     },
     "metadata": {},
     "output_type": "display_data"
    },
    {
     "name": "stdout",
     "output_type": "stream",
     "text": [
      "epoch      trn_loss   val_loss                                                                                                                                        \n",
      "    0      7.945742   8.587072  \n",
      "    1      8.350845   8.791205                                                                                                                                        \n",
      "    2      7.93901    8.549817                                                                                                                                        \n",
      "    3      8.581821   8.044387                                                                                                                                        \n",
      "    4      8.304353   8.709563                                                                                                                                        \n",
      "    5      7.926859   8.60683                                                                                                                                         \n",
      "    6      7.696539   8.535501                                                                                                                                        \n",
      "    7      7.66342    8.43241                                                                                                                                         \n",
      "    8      7.605077   7.987842                                                                                                                                        \n",
      "    9      7.196868   7.665191                                                                                                                                        \n",
      "    10     7.139102   7.609694                                                                                                                                        \n",
      "    11     6.872529   7.539471                                                                                                                                        \n",
      "    12     6.754339   7.508736                                                                                                                                        \n",
      "    13     6.578019   7.490395                                                                                                                                        \n",
      "    14     6.510518   7.483094                                                                                                                                        \n"
     ]
    },
    {
     "data": {
      "text/plain": [
       "[array([7.48309])]"
      ]
     },
     "execution_count": 49,
     "metadata": {},
     "output_type": "execute_result"
    }
   ],
   "source": [
    "lr = 1e-4 \n",
    "regressor.fit(lr, 4, cycle_len=1, cycle_mult=2)"
   ]
  },
  {
   "cell_type": "code",
   "execution_count": 19,
   "metadata": {},
   "outputs": [
    {
     "data": {
      "application/vnd.jupyter.widget-view+json": {
       "model_id": "acf7091262b344d988b0e9838e10331a",
       "version_major": 2,
       "version_minor": 0
      },
      "text/plain": [
       "HBox(children=(IntProgress(value=0, description='Epoch', max=15, style=ProgressStyle(description_width='initia…"
      ]
     },
     "metadata": {},
     "output_type": "display_data"
    },
    {
     "name": "stdout",
     "output_type": "stream",
     "text": [
      "epoch      trn_loss   val_loss                                                                                                                                        \n",
      "    0      6.872614   7.750031  \n",
      "    1      6.785977   7.906096                                                                                                                                        \n",
      "    2      6.969416   7.131863                                                                                                                                        \n",
      "    3      6.998816   7.446507                                                                                                                                        \n",
      "    4      6.165768   6.884255                                                                                                                                        \n",
      "    5      6.333846   7.266678                                                                                                                                        \n",
      "    6      6.45779    6.760923                                                                                                                                        \n",
      "    7      6.101666   6.624952                                                                                                                                        \n",
      "    8      5.789322   5.996582                                                                                                                                        \n",
      "    9      5.640854   5.831946                                                                                                                                        \n",
      "    10     5.209216   5.761048                                                                                                                                        \n",
      "    11     4.806347   5.436848                                                                                                                                        \n",
      "    12     4.886967   5.270628                                                                                                                                        \n",
      "    13     4.778675   5.119447                                                                                                                                        \n",
      "    14     4.657532   5.013056                                                                                                                                        \n"
     ]
    },
    {
     "data": {
      "text/plain": [
       "[array([5.01306])]"
      ]
     },
     "execution_count": 19,
     "metadata": {},
     "output_type": "execute_result"
    }
   ],
   "source": [
    "lr = 8e-5\n",
    "regressor.fit(lr, 4, cycle_len=1, cycle_mult=2)"
   ]
  },
  {
   "cell_type": "code",
   "execution_count": 12,
   "metadata": {},
   "outputs": [
    {
     "data": {
      "application/vnd.jupyter.widget-view+json": {
       "model_id": "627ba7e6de0047c5aed2924a7c3414e0",
       "version_major": 2,
       "version_minor": 0
      },
      "text/plain": [
       "HBox(children=(IntProgress(value=0, description='Epoch', max=12, style=ProgressStyle(description_width='initia…"
      ]
     },
     "metadata": {},
     "output_type": "display_data"
    },
    {
     "name": "stdout",
     "output_type": "stream",
     "text": [
      "epoch      trn_loss   val_loss                                                                                                                                        \n",
      "    0      5.191857   5.110554  \n",
      "    1      4.419772   5.054364                                                                                                                                        \n",
      "    2      3.730189   4.916855                                                                                                                                        \n",
      "    3      3.549086   4.875668                                                                                                                                        \n",
      "    4      4.099354   5.310798                                                                                                                                        \n",
      "    5      4.604657   5.170673                                                                                                                                        \n",
      "    6      3.952429   5.087032                                                                                                                                        \n",
      "    7      4.353958   4.888529                                                                                                                                        \n",
      "    8      3.856177   4.894385                                                                                                                                        \n",
      "    9      3.684182   4.758485                                                                                                                                        \n",
      "    10     3.570712   4.730008                                                                                                                                        \n",
      "    11     3.192362   4.744337                                                                                                                                        \n",
      "\n"
     ]
    },
    {
     "data": {
      "text/plain": [
       "[array([4.74434])]"
      ]
     },
     "execution_count": 12,
     "metadata": {},
     "output_type": "execute_result"
    }
   ],
   "source": [
    "lr = 7e-5\n",
    "regressor.fit(lr, 2, cycle_len=4, cycle_mult=2, best_save_name='rx101_v0.9')"
   ]
  },
  {
   "cell_type": "code",
   "execution_count": 13,
   "metadata": {},
   "outputs": [],
   "source": [
    "regressor.load('rx101_v0.9')"
   ]
  },
  {
   "cell_type": "code",
   "execution_count": 14,
   "metadata": {},
   "outputs": [
    {
     "data": {
      "application/vnd.jupyter.widget-view+json": {
       "model_id": "7b9ff7ace01549b18c0ca75103cd016b",
       "version_major": 2,
       "version_minor": 0
      },
      "text/plain": [
       "HBox(children=(IntProgress(value=0, description='Epoch', max=7, style=ProgressStyle(description_width='initial…"
      ]
     },
     "metadata": {},
     "output_type": "display_data"
    },
    {
     "name": "stdout",
     "output_type": "stream",
     "text": [
      "epoch      trn_loss   val_loss                                                                                                                                        \n",
      "    0      3.562909   4.713945  \n",
      "    1      3.345651   4.721347                                                                                                                                        \n",
      "    2      3.162164   4.71111                                                                                                                                         \n",
      "    3      3.574442   4.750169                                                                                                                                        \n",
      "    4      3.387378   4.726045                                                                                                                                        \n",
      "    5      3.367159   4.70952                                                                                                                                         \n",
      "    6      3.485111   4.708733                                                                                                                                        \n",
      "\n"
     ]
    },
    {
     "data": {
      "text/plain": [
       "[array([4.70873])]"
      ]
     },
     "execution_count": 14,
     "metadata": {},
     "output_type": "execute_result"
    }
   ],
   "source": [
    "regressor.freeze()\n",
    "lr = 5e-5\n",
    "regressor.fit(lr, 3, cycle_len=1, cycle_mult=2, best_save_name='rx101_v1.0')"
   ]
  },
  {
   "cell_type": "markdown",
   "metadata": {},
   "source": [
    "### Function to create a submission"
   ]
  },
  {
   "cell_type": "code",
   "execution_count": 42,
   "metadata": {},
   "outputs": [],
   "source": [
    "def create_submission(learn, file_name):\n",
    "    flip = []\n",
    "    for i, data in enumerate(tqdm(datagen.test_dl)):\n",
    "        x, y = data\n",
    "        learn.model.eval()\n",
    "        preds = to_np(learn.model(VV(x)))\n",
    "        for b in preds:\n",
    "            flip.append([b[0]*640/224, b[2]*640/224, b[1]*480/224, b[3]*480/224])\n",
    "    flip = np.array(flip)\n",
    "    for i in flip:\n",
    "        if i[0] < 0:\n",
    "            i[0] = 0.45\n",
    "        if i[1] > 640:\n",
    "            i[1] = 639.55\n",
    "        if i[2] < 0:\n",
    "            i[2] = 0.45\n",
    "        if i[3] > 480:\n",
    "            i[3] = 479.55\n",
    "    dic = {x: y for x, y in zip(datagen.test_ds.fnames, flip)}\n",
    "    df = pd.read_csv(filepath + 'test.csv')\n",
    "    fn = np.array(df['image_name'])\n",
    "    _r = []\n",
    "    for i in fn:\n",
    "        a = 'test\\\\' + i\n",
    "        _r.append((i, dic[a]))\n",
    "    _t = []\n",
    "    for i in _r:\n",
    "        x, y = i\n",
    "        a = [x] + list(y)\n",
    "        _t.append(a)\n",
    "    out = {x: y for x, y in enumerate(_t)}\n",
    "    final = pd.DataFrame.from_dict(out, orient='index', columns=['image_name', 'x1', 'x2', 'y1', 'y2'])\n",
    "    final.to_csv(filepath + file_name, index=False)"
   ]
  },
  {
   "cell_type": "markdown",
   "metadata": {},
   "source": [
    "In the last round, I took the ensemble of four models to increase my accuracy further, but that didn't seem to work this time. My accuracy after ensembling the best models was less than the accuracy of my best model, so I have omitted the code for creating ensembles."
   ]
  }
 ],
 "metadata": {
  "kernelspec": {
   "display_name": "Python 3",
   "language": "python",
   "name": "python3"
  },
  "language_info": {
   "codemirror_mode": {
    "name": "ipython",
    "version": 3
   },
   "file_extension": ".py",
   "mimetype": "text/x-python",
   "name": "python",
   "nbconvert_exporter": "python",
   "pygments_lexer": "ipython3",
   "version": "3.6.5"
  }
 },
 "nbformat": 4,
 "nbformat_minor": 2
}
